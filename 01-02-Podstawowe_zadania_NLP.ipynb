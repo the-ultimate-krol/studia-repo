{
 "cells": [
  {
   "cell_type": "markdown",
   "metadata": {
    "id": "yRvCuHz36wh9"
   },
   "source": [
    "# Analiza danych tekstowych -- wstęp\n",
    "\n",
    "## Środowisko analityczne\n",
    "\n",
    "Przed Wami krótkie wprowadzenie do podstwowych zadań z obszaru NLP. Wykonamy je na dostępnych danych, mało wymagającym pipelinie i dla języka angielskiego. Ale uwaga: analogiczne zadania będziecie robić dla języka polskiego (praca samodzielna, analogiczna do prezentowanej dla języka angielskiego).\n",
    "\n",
    "Będziemy używać pakietu `spacy`, który sprawdza się przy analizie tekstu, `scikit-learn` do obliczeń i `matplotlip`, który pomoże zaprezentować dane na wykresach. Jako dane anglojęzyczne weźmiemy sobie `en_core_web_sm` --> model od SpaCy trenowany na tekstach newsów z języka angielskiego. Pierwsze zadanie dla Was: Jaki pakiet danych odpowiada za dane z języka polskiego?\n",
    "\n",
    "Moduł `datasets` odpowiada za łatwe ładowanie danych. Dane pochodzą z [HuggingFace](https://huggingface.co/docs/datasets/v1.8.0/loading_datasets.html)."
   ]
  },
  {
   "cell_type": "code",
   "execution_count": 1,
   "metadata": {
    "id": "b6vQYVbzRT2b"
   },
   "outputs": [
    {
     "name": "stdout",
     "output_type": "stream",
     "text": [
      "Requirement already satisfied: spacy in c:\\users\\agh\\appdata\\local\\programs\\python\\python311\\lib\\site-packages (3.6.0)\n",
      "Requirement already satisfied: scikit-learn in c:\\users\\agh\\appdata\\local\\programs\\python\\python311\\lib\\site-packages (1.3.0)\n",
      "Requirement already satisfied: matplotlib in c:\\users\\agh\\appdata\\local\\programs\\python\\python311\\lib\\site-packages (3.7.1)\n",
      "Requirement already satisfied: datasets in c:\\users\\agh\\appdata\\local\\programs\\python\\python311\\lib\\site-packages (2.13.1)\n",
      "Requirement already satisfied: spacy-legacy<3.1.0,>=3.0.11 in c:\\users\\agh\\appdata\\local\\programs\\python\\python311\\lib\\site-packages (from spacy) (3.0.12)\n",
      "Requirement already satisfied: spacy-loggers<2.0.0,>=1.0.0 in c:\\users\\agh\\appdata\\local\\programs\\python\\python311\\lib\\site-packages (from spacy) (1.0.4)\n",
      "Requirement already satisfied: murmurhash<1.1.0,>=0.28.0 in c:\\users\\agh\\appdata\\local\\programs\\python\\python311\\lib\\site-packages (from spacy) (1.0.9)\n",
      "Requirement already satisfied: cymem<2.1.0,>=2.0.2 in c:\\users\\agh\\appdata\\local\\programs\\python\\python311\\lib\\site-packages (from spacy) (2.0.7)\n",
      "Requirement already satisfied: preshed<3.1.0,>=3.0.2 in c:\\users\\agh\\appdata\\local\\programs\\python\\python311\\lib\\site-packages (from spacy) (3.0.8)\n",
      "Requirement already satisfied: thinc<8.2.0,>=8.1.8 in c:\\users\\agh\\appdata\\local\\programs\\python\\python311\\lib\\site-packages (from spacy) (8.1.10)\n",
      "Requirement already satisfied: wasabi<1.2.0,>=0.9.1 in c:\\users\\agh\\appdata\\local\\programs\\python\\python311\\lib\\site-packages (from spacy) (1.1.2)\n",
      "Requirement already satisfied: srsly<3.0.0,>=2.4.3 in c:\\users\\agh\\appdata\\local\\programs\\python\\python311\\lib\\site-packages (from spacy) (2.4.7)\n",
      "Requirement already satisfied: catalogue<2.1.0,>=2.0.6 in c:\\users\\agh\\appdata\\local\\programs\\python\\python311\\lib\\site-packages (from spacy) (2.0.9)\n",
      "Requirement already satisfied: typer<0.10.0,>=0.3.0 in c:\\users\\agh\\appdata\\local\\programs\\python\\python311\\lib\\site-packages (from spacy) (0.7.0)\n",
      "Requirement already satisfied: pathy>=0.10.0 in c:\\users\\agh\\appdata\\local\\programs\\python\\python311\\lib\\site-packages (from spacy) (0.10.2)\n",
      "Requirement already satisfied: smart-open<7.0.0,>=5.2.1 in c:\\users\\agh\\appdata\\local\\programs\\python\\python311\\lib\\site-packages (from spacy) (6.3.0)\n",
      "Requirement already satisfied: tqdm<5.0.0,>=4.38.0 in c:\\users\\agh\\appdata\\local\\programs\\python\\python311\\lib\\site-packages (from spacy) (4.65.0)\n",
      "Requirement already satisfied: numpy>=1.15.0 in c:\\users\\agh\\appdata\\local\\programs\\python\\python311\\lib\\site-packages (from spacy) (1.25.2)\n",
      "Requirement already satisfied: requests<3.0.0,>=2.13.0 in c:\\users\\agh\\appdata\\local\\programs\\python\\python311\\lib\\site-packages (from spacy) (2.31.0)\n",
      "Requirement already satisfied: pydantic!=1.8,!=1.8.1,<1.11.0,>=1.7.4 in c:\\users\\agh\\appdata\\local\\programs\\python\\python311\\lib\\site-packages (from spacy) (1.10.12)\n",
      "Requirement already satisfied: jinja2 in c:\\users\\agh\\appdata\\local\\programs\\python\\python311\\lib\\site-packages (from spacy) (3.1.2)\n",
      "Requirement already satisfied: setuptools in c:\\users\\agh\\appdata\\local\\programs\\python\\python311\\lib\\site-packages (from spacy) (67.8.0)\n",
      "Requirement already satisfied: packaging>=20.0 in c:\\users\\agh\\appdata\\local\\programs\\python\\python311\\lib\\site-packages (from spacy) (23.1)\n",
      "Requirement already satisfied: langcodes<4.0.0,>=3.2.0 in c:\\users\\agh\\appdata\\local\\programs\\python\\python311\\lib\\site-packages (from spacy) (3.3.0)\n",
      "Requirement already satisfied: scipy>=1.5.0 in c:\\users\\agh\\appdata\\local\\programs\\python\\python311\\lib\\site-packages (from scikit-learn) (1.10.0)\n",
      "Requirement already satisfied: joblib>=1.1.1 in c:\\users\\agh\\appdata\\local\\programs\\python\\python311\\lib\\site-packages (from scikit-learn) (1.3.1)\n",
      "Requirement already satisfied: threadpoolctl>=2.0.0 in c:\\users\\agh\\appdata\\local\\programs\\python\\python311\\lib\\site-packages (from scikit-learn) (3.1.0)\n",
      "Requirement already satisfied: contourpy>=1.0.1 in c:\\users\\agh\\appdata\\local\\programs\\python\\python311\\lib\\site-packages (from matplotlib) (1.1.0)\n",
      "Requirement already satisfied: cycler>=0.10 in c:\\users\\agh\\appdata\\local\\programs\\python\\python311\\lib\\site-packages (from matplotlib) (0.11.0)\n",
      "Requirement already satisfied: fonttools>=4.22.0 in c:\\users\\agh\\appdata\\local\\programs\\python\\python311\\lib\\site-packages (from matplotlib) (4.40.0)\n",
      "Requirement already satisfied: kiwisolver>=1.0.1 in c:\\users\\agh\\appdata\\local\\programs\\python\\python311\\lib\\site-packages (from matplotlib) (1.4.4)\n",
      "Requirement already satisfied: pillow>=6.2.0 in c:\\users\\agh\\appdata\\local\\programs\\python\\python311\\lib\\site-packages (from matplotlib) (9.5.0)\n",
      "Requirement already satisfied: pyparsing>=2.3.1 in c:\\users\\agh\\appdata\\local\\programs\\python\\python311\\lib\\site-packages (from matplotlib) (3.1.0)\n",
      "Requirement already satisfied: python-dateutil>=2.7 in c:\\users\\agh\\appdata\\local\\programs\\python\\python311\\lib\\site-packages (from matplotlib) (2.8.2)\n",
      "Requirement already satisfied: pyarrow>=8.0.0 in c:\\users\\agh\\appdata\\local\\programs\\python\\python311\\lib\\site-packages (from datasets) (10.0.1)\n",
      "Requirement already satisfied: dill<0.3.7,>=0.3.0 in c:\\users\\agh\\appdata\\local\\programs\\python\\python311\\lib\\site-packages (from datasets) (0.3.6)\n",
      "Requirement already satisfied: pandas in c:\\users\\agh\\appdata\\local\\programs\\python\\python311\\lib\\site-packages (from datasets) (1.5.3)\n",
      "Requirement already satisfied: xxhash in c:\\users\\agh\\appdata\\local\\programs\\python\\python311\\lib\\site-packages (from datasets) (3.2.0)\n",
      "Requirement already satisfied: multiprocess in c:\\users\\agh\\appdata\\local\\programs\\python\\python311\\lib\\site-packages (from datasets) (0.70.14)\n",
      "Requirement already satisfied: fsspec>=2021.11.1 in c:\\users\\agh\\appdata\\local\\programs\\python\\python311\\lib\\site-packages (from fsspec[http]>=2021.11.1->datasets) (2023.6.0)\n",
      "Requirement already satisfied: aiohttp in c:\\users\\agh\\appdata\\local\\programs\\python\\python311\\lib\\site-packages (from datasets) (3.8.4)\n",
      "Requirement already satisfied: huggingface-hub<1.0.0,>=0.11.0 in c:\\users\\agh\\appdata\\local\\programs\\python\\python311\\lib\\site-packages (from datasets) (0.16.4)\n",
      "Requirement already satisfied: pyyaml>=5.1 in c:\\users\\agh\\appdata\\local\\programs\\python\\python311\\lib\\site-packages (from datasets) (6.0.1)\n",
      "Requirement already satisfied: attrs>=17.3.0 in c:\\users\\agh\\appdata\\local\\programs\\python\\python311\\lib\\site-packages (from aiohttp->datasets) (22.2.0)\n",
      "Requirement already satisfied: charset-normalizer<4.0,>=2.0 in c:\\users\\agh\\appdata\\local\\programs\\python\\python311\\lib\\site-packages (from aiohttp->datasets) (3.2.0)\n",
      "Requirement already satisfied: multidict<7.0,>=4.5 in c:\\users\\agh\\appdata\\local\\programs\\python\\python311\\lib\\site-packages (from aiohttp->datasets) (6.0.4)\n",
      "Requirement already satisfied: async-timeout<5.0,>=4.0.0a3 in c:\\users\\agh\\appdata\\local\\programs\\python\\python311\\lib\\site-packages (from aiohttp->datasets) (4.0.2)\n",
      "Requirement already satisfied: yarl<2.0,>=1.0 in c:\\users\\agh\\appdata\\local\\programs\\python\\python311\\lib\\site-packages (from aiohttp->datasets) (1.9.2)\n",
      "Requirement already satisfied: frozenlist>=1.1.1 in c:\\users\\agh\\appdata\\local\\programs\\python\\python311\\lib\\site-packages (from aiohttp->datasets) (1.3.3)\n",
      "Requirement already satisfied: aiosignal>=1.1.2 in c:\\users\\agh\\appdata\\local\\programs\\python\\python311\\lib\\site-packages (from aiohttp->datasets) (1.3.1)\n",
      "Requirement already satisfied: filelock in c:\\users\\agh\\appdata\\local\\programs\\python\\python311\\lib\\site-packages (from huggingface-hub<1.0.0,>=0.11.0->datasets) (3.12.2)\n",
      "Requirement already satisfied: typing-extensions>=3.7.4.3 in c:\\users\\agh\\appdata\\local\\programs\\python\\python311\\lib\\site-packages (from huggingface-hub<1.0.0,>=0.11.0->datasets) (4.7.1)\n",
      "Requirement already satisfied: six>=1.5 in c:\\users\\agh\\appdata\\local\\programs\\python\\python311\\lib\\site-packages (from python-dateutil>=2.7->matplotlib) (1.16.0)\n",
      "Requirement already satisfied: idna<4,>=2.5 in c:\\users\\agh\\appdata\\local\\programs\\python\\python311\\lib\\site-packages (from requests<3.0.0,>=2.13.0->spacy) (3.4)\n",
      "Requirement already satisfied: urllib3<3,>=1.21.1 in c:\\users\\agh\\appdata\\local\\programs\\python\\python311\\lib\\site-packages (from requests<3.0.0,>=2.13.0->spacy) (2.0.4)\n",
      "Requirement already satisfied: certifi>=2017.4.17 in c:\\users\\agh\\appdata\\local\\programs\\python\\python311\\lib\\site-packages (from requests<3.0.0,>=2.13.0->spacy) (2023.7.22)\n",
      "Requirement already satisfied: blis<0.8.0,>=0.7.8 in c:\\users\\agh\\appdata\\local\\programs\\python\\python311\\lib\\site-packages (from thinc<8.2.0,>=8.1.8->spacy) (0.7.10)\n",
      "Requirement already satisfied: confection<1.0.0,>=0.0.1 in c:\\users\\agh\\appdata\\local\\programs\\python\\python311\\lib\\site-packages (from thinc<8.2.0,>=8.1.8->spacy) (0.1.0)\n",
      "Requirement already satisfied: colorama in c:\\users\\agh\\appdata\\local\\programs\\python\\python311\\lib\\site-packages (from tqdm<5.0.0,>=4.38.0->spacy) (0.4.6)\n",
      "Requirement already satisfied: click<9.0.0,>=7.1.1 in c:\\users\\agh\\appdata\\local\\programs\\python\\python311\\lib\\site-packages (from typer<0.10.0,>=0.3.0->spacy) (8.1.6)\n",
      "Requirement already satisfied: MarkupSafe>=2.0 in c:\\users\\agh\\appdata\\local\\programs\\python\\python311\\lib\\site-packages (from jinja2->spacy) (2.1.3)\n",
      "Requirement already satisfied: pytz>=2020.1 in c:\\users\\agh\\appdata\\local\\programs\\python\\python311\\lib\\site-packages (from pandas->datasets) (2022.7)\n"
     ]
    },
    {
     "name": "stdout",
     "output_type": "stream",
     "text": [
      "Collecting en-core-web-sm==3.6.0\n",
      "  Downloading https://github.com/explosion/spacy-models/releases/download/en_core_web_sm-3.6.0/en_core_web_sm-3.6.0-py3-none-any.whl (12.8 MB)\n",
      "     ---------------------------------------- 0.0/12.8 MB ? eta -:--:--\n",
      "     ---------------------------------------- 0.0/12.8 MB 1.4 MB/s eta 0:00:10\n",
      "     ---------------------------------------- 0.0/12.8 MB 1.4 MB/s eta 0:00:10\n",
      "     ---------------------------------------- 0.0/12.8 MB 1.4 MB/s eta 0:00:10\n",
      "     ---------------------------------------- 0.0/12.8 MB 1.4 MB/s eta 0:00:10\n",
      "     ---------------------------------------- 0.0/12.8 MB 1.4 MB/s eta 0:00:10\n",
      "     ---------------------------------------- 0.0/12.8 MB 1.4 MB/s eta 0:00:10\n",
      "     ---------------------------------------- 0.0/12.8 MB 1.4 MB/s eta 0:00:10\n",
      "     ---------------------------------------- 0.0/12.8 MB 1.4 MB/s eta 0:00:10\n",
      "     ---------------------------------------- 0.0/12.8 MB 1.4 MB/s eta 0:00:10\n",
      "     ---------------------------------------- 0.0/12.8 MB 1.4 MB/s eta 0:00:10\n",
      "     ---------------------------------------- 0.0/12.8 MB 1.4 MB/s eta 0:00:10\n",
      "     ---------------------------------------- 0.0/12.8 MB 1.4 MB/s eta 0:00:10\n",
      "     ---------------------------------------- 0.0/12.8 MB 53.1 kB/s eta 0:04:01\n",
      "     ---------------------------------------- 0.1/12.8 MB 93.7 kB/s eta 0:02:16\n",
      "     --------------------------------------- 0.1/12.8 MB 149.1 kB/s eta 0:01:26\n",
      "      -------------------------------------- 0.2/12.8 MB 218.5 kB/s eta 0:00:58\n",
      "      -------------------------------------- 0.2/12.8 MB 269.8 kB/s eta 0:00:47\n",
      "      -------------------------------------- 0.3/12.8 MB 333.9 kB/s eta 0:00:38\n",
      "      -------------------------------------- 0.3/12.8 MB 351.1 kB/s eta 0:00:36\n",
      "     - ------------------------------------- 0.4/12.8 MB 384.3 kB/s eta 0:00:33\n",
      "     - ------------------------------------- 0.4/12.8 MB 401.6 kB/s eta 0:00:31\n",
      "     - ------------------------------------- 0.4/12.8 MB 430.1 kB/s eta 0:00:29\n",
      "     - ------------------------------------- 0.4/12.8 MB 430.1 kB/s eta 0:00:29\n",
      "     - ------------------------------------- 0.4/12.8 MB 430.1 kB/s eta 0:00:29\n",
      "     - ------------------------------------- 0.5/12.8 MB 436.9 kB/s eta 0:00:29\n",
      "     - ------------------------------------- 0.5/12.8 MB 436.9 kB/s eta 0:00:29\n",
      "     - ------------------------------------- 0.6/12.8 MB 429.0 kB/s eta 0:00:29\n",
      "     - ------------------------------------- 0.6/12.8 MB 476.1 kB/s eta 0:00:26\n",
      "     -- ------------------------------------ 0.7/12.8 MB 497.3 kB/s eta 0:00:25\n",
      "     -- ------------------------------------ 0.7/12.8 MB 509.8 kB/s eta 0:00:24\n",
      "     -- ------------------------------------ 0.8/12.8 MB 549.7 kB/s eta 0:00:22\n",
      "     -- ------------------------------------ 0.9/12.8 MB 566.6 kB/s eta 0:00:22\n",
      "     -- ------------------------------------ 0.9/12.8 MB 568.5 kB/s eta 0:00:21\n",
      "     -- ------------------------------------ 0.9/12.8 MB 558.1 kB/s eta 0:00:22\n",
      "     -- ------------------------------------ 1.0/12.8 MB 581.3 kB/s eta 0:00:21\n",
      "     --- ----------------------------------- 1.0/12.8 MB 613.1 kB/s eta 0:00:20\n",
      "     --- ----------------------------------- 1.1/12.8 MB 619.5 kB/s eta 0:00:19\n",
      "     --- ----------------------------------- 1.2/12.8 MB 661.4 kB/s eta 0:00:18\n",
      "     --- ----------------------------------- 1.3/12.8 MB 677.5 kB/s eta 0:00:18\n",
      "     ---- ---------------------------------- 1.3/12.8 MB 693.5 kB/s eta 0:00:17\n",
      "     ---- ---------------------------------- 1.4/12.8 MB 719.0 kB/s eta 0:00:16\n",
      "     ---- ---------------------------------- 1.5/12.8 MB 743.2 kB/s eta 0:00:16\n",
      "     ---- ---------------------------------- 1.5/12.8 MB 762.9 kB/s eta 0:00:15\n",
      "     ---- ---------------------------------- 1.6/12.8 MB 758.9 kB/s eta 0:00:15\n",
      "     ----- --------------------------------- 1.6/12.8 MB 771.0 kB/s eta 0:00:15\n",
      "     ----- --------------------------------- 1.7/12.8 MB 782.6 kB/s eta 0:00:15\n",
      "     ----- --------------------------------- 1.8/12.8 MB 794.8 kB/s eta 0:00:14\n",
      "     ----- --------------------------------- 1.8/12.8 MB 787.3 kB/s eta 0:00:14\n",
      "     ----- --------------------------------- 1.8/12.8 MB 787.3 kB/s eta 0:00:14\n",
      "     ----- --------------------------------- 1.8/12.8 MB 787.3 kB/s eta 0:00:14\n",
      "     ----- --------------------------------- 1.8/12.8 MB 745.5 kB/s eta 0:00:15\n",
      "     ----- --------------------------------- 1.9/12.8 MB 759.8 kB/s eta 0:00:15\n",
      "     ----- --------------------------------- 1.9/12.8 MB 766.8 kB/s eta 0:00:15\n",
      "     ----- --------------------------------- 2.0/12.8 MB 763.9 kB/s eta 0:00:15\n",
      "     ------ -------------------------------- 2.0/12.8 MB 769.8 kB/s eta 0:00:15\n",
      "     ------ -------------------------------- 2.0/12.8 MB 768.5 kB/s eta 0:00:15\n",
      "     ------ -------------------------------- 2.1/12.8 MB 769.0 kB/s eta 0:00:14\n",
      "     ------ -------------------------------- 2.1/12.8 MB 771.6 kB/s eta 0:00:14\n",
      "     ------ -------------------------------- 2.1/12.8 MB 771.6 kB/s eta 0:00:14\n",
      "     ------ -------------------------------- 2.2/12.8 MB 764.0 kB/s eta 0:00:14\n",
      "     ------ -------------------------------- 2.2/12.8 MB 758.6 kB/s eta 0:00:14\n",
      "     ------ -------------------------------- 2.2/12.8 MB 761.1 kB/s eta 0:00:14\n",
      "     ------ -------------------------------- 2.3/12.8 MB 765.7 kB/s eta 0:00:14\n",
      "     ------- ------------------------------- 2.3/12.8 MB 771.0 kB/s eta 0:00:14\n",
      "     ------- ------------------------------- 2.4/12.8 MB 775.9 kB/s eta 0:00:14\n",
      "     ------- ------------------------------- 2.5/12.8 MB 793.0 kB/s eta 0:00:14\n",
      "     ------- ------------------------------- 2.5/12.8 MB 804.7 kB/s eta 0:00:13\n",
      "     -------- ------------------------------ 2.7/12.8 MB 830.3 kB/s eta 0:00:13\n",
      "     -------- ------------------------------ 2.8/12.8 MB 862.5 kB/s eta 0:00:12\n",
      "     --------- ----------------------------- 3.0/12.8 MB 890.4 kB/s eta 0:00:12\n",
      "     --------- ----------------------------- 3.1/12.8 MB 908.5 kB/s eta 0:00:11\n",
      "     --------- ----------------------------- 3.1/12.8 MB 908.0 kB/s eta 0:00:11\n",
      "     --------- ----------------------------- 3.2/12.8 MB 916.4 kB/s eta 0:00:11\n",
      "     --------- ----------------------------- 3.2/12.8 MB 922.9 kB/s eta 0:00:11\n",
      "     ---------- ---------------------------- 3.3/12.8 MB 928.0 kB/s eta 0:00:11\n",
      "     ---------- ---------------------------- 3.3/12.8 MB 928.0 kB/s eta 0:00:11\n",
      "     ---------- ---------------------------- 3.3/12.8 MB 917.1 kB/s eta 0:00:11\n",
      "     ---------- ---------------------------- 3.4/12.8 MB 919.3 kB/s eta 0:00:11\n",
      "     ---------- ---------------------------- 3.4/12.8 MB 916.9 kB/s eta 0:00:11\n",
      "     ---------- ---------------------------- 3.5/12.8 MB 923.5 kB/s eta 0:00:11\n",
      "     ---------- ---------------------------- 3.5/12.8 MB 920.2 kB/s eta 0:00:11\n",
      "     ----------- --------------------------- 3.6/12.8 MB 931.9 kB/s eta 0:00:10\n",
      "     ----------- --------------------------- 3.7/12.8 MB 953.0 kB/s eta 0:00:10\n",
      "     ----------- --------------------------- 3.8/12.8 MB 958.5 kB/s eta 0:00:10\n",
      "     ----------- --------------------------- 3.9/12.8 MB 966.6 kB/s eta 0:00:10\n",
      "     ------------ -------------------------- 3.9/12.8 MB 968.0 kB/s eta 0:00:10\n",
      "     ------------ -------------------------- 4.0/12.8 MB 968.1 kB/s eta 0:00:10\n",
      "     ------------ -------------------------- 4.1/12.8 MB 977.0 kB/s eta 0:00:09\n",
      "     ------------ -------------------------- 4.1/12.8 MB 977.0 kB/s eta 0:00:09\n",
      "     ------------ -------------------------- 4.2/12.8 MB 972.4 kB/s eta 0:00:09\n",
      "     ------------ -------------------------- 4.2/12.8 MB 976.0 kB/s eta 0:00:09\n",
      "     ------------ -------------------------- 4.2/12.8 MB 973.6 kB/s eta 0:00:09\n",
      "     ------------- ------------------------- 4.3/12.8 MB 971.5 kB/s eta 0:00:09\n",
      "     ------------- ------------------------- 4.4/12.8 MB 990.1 kB/s eta 0:00:09\n",
      "     ------------- ------------------------- 4.5/12.8 MB 994.4 kB/s eta 0:00:09\n",
      "     -------------- ------------------------- 4.6/12.8 MB 1.0 MB/s eta 0:00:09\n",
      "     -------------- ------------------------- 4.6/12.8 MB 1.0 MB/s eta 0:00:09\n",
      "     -------------- ------------------------- 4.6/12.8 MB 1.0 MB/s eta 0:00:09\n",
      "     -------------- ------------------------- 4.7/12.8 MB 1.0 MB/s eta 0:00:09\n",
      "     --------------- ------------------------ 4.8/12.8 MB 1.0 MB/s eta 0:00:08\n",
      "     --------------- ------------------------ 4.9/12.8 MB 1.0 MB/s eta 0:00:08\n",
      "     --------------- ------------------------ 4.9/12.8 MB 1.0 MB/s eta 0:00:08\n",
      "     --------------- ------------------------ 5.0/12.8 MB 1.0 MB/s eta 0:00:08\n",
      "     --------------- ------------------------ 5.1/12.8 MB 1.0 MB/s eta 0:00:08\n",
      "     ---------------- ----------------------- 5.2/12.8 MB 1.0 MB/s eta 0:00:08\n",
      "     ---------------- ----------------------- 5.2/12.8 MB 1.0 MB/s eta 0:00:08\n",
      "     ---------------- ----------------------- 5.3/12.8 MB 1.0 MB/s eta 0:00:08\n",
      "     ---------------- ----------------------- 5.3/12.8 MB 1.0 MB/s eta 0:00:08\n",
      "     ---------------- ----------------------- 5.3/12.8 MB 1.0 MB/s eta 0:00:08\n",
      "     ---------------- ----------------------- 5.3/12.8 MB 1.0 MB/s eta 0:00:08\n",
      "     ---------------- ----------------------- 5.3/12.8 MB 1.0 MB/s eta 0:00:08\n",
      "     ---------------- ----------------------- 5.3/12.8 MB 1.0 MB/s eta 0:00:08\n",
      "     ---------------- ----------------------- 5.3/12.8 MB 1.0 MB/s eta 0:00:08\n",
      "     ---------------- ----------------------- 5.3/12.8 MB 1.0 MB/s eta 0:00:08\n",
      "     ---------------- ----------------------- 5.3/12.8 MB 1.0 MB/s eta 0:00:08\n",
      "     ---------------- ----------------------- 5.3/12.8 MB 1.0 MB/s eta 0:00:08\n",
      "     ---------------- ----------------------- 5.3/12.8 MB 1.0 MB/s eta 0:00:08\n",
      "     ---------------- ---------------------- 5.4/12.8 MB 971.9 kB/s eta 0:00:08\n",
      "     ---------------- ---------------------- 5.4/12.8 MB 971.9 kB/s eta 0:00:08\n",
      "     ---------------- ---------------------- 5.4/12.8 MB 971.9 kB/s eta 0:00:08\n",
      "     ---------------- ---------------------- 5.4/12.8 MB 971.9 kB/s eta 0:00:08\n",
      "     ---------------- ---------------------- 5.4/12.8 MB 942.7 kB/s eta 0:00:08\n",
      "     ---------------- ---------------------- 5.4/12.8 MB 942.7 kB/s eta 0:00:08\n",
      "     ---------------- ---------------------- 5.4/12.8 MB 938.8 kB/s eta 0:00:08\n",
      "     ---------------- ---------------------- 5.4/12.8 MB 938.8 kB/s eta 0:00:08\n",
      "     ---------------- ---------------------- 5.5/12.8 MB 924.1 kB/s eta 0:00:08\n",
      "     ---------------- ---------------------- 5.5/12.8 MB 925.4 kB/s eta 0:00:08\n",
      "     ---------------- ---------------------- 5.5/12.8 MB 919.9 kB/s eta 0:00:08\n",
      "     ---------------- ---------------------- 5.6/12.8 MB 920.3 kB/s eta 0:00:08\n",
      "     ----------------- --------------------- 5.6/12.8 MB 917.5 kB/s eta 0:00:08\n",
      "     ----------------- --------------------- 5.6/12.8 MB 917.5 kB/s eta 0:00:08\n",
      "     ----------------- --------------------- 5.6/12.8 MB 908.6 kB/s eta 0:00:08\n",
      "     ----------------- --------------------- 5.7/12.8 MB 911.2 kB/s eta 0:00:08\n",
      "     ----------------- --------------------- 5.7/12.8 MB 907.7 kB/s eta 0:00:08\n",
      "     ----------------- --------------------- 5.7/12.8 MB 903.0 kB/s eta 0:00:08\n",
      "     ----------------- --------------------- 5.7/12.8 MB 903.9 kB/s eta 0:00:08\n",
      "     ----------------- --------------------- 5.8/12.8 MB 898.4 kB/s eta 0:00:08\n",
      "     ----------------- --------------------- 5.8/12.8 MB 900.4 kB/s eta 0:00:08\n",
      "     ----------------- --------------------- 5.9/12.8 MB 902.7 kB/s eta 0:00:08\n",
      "     ----------------- --------------------- 5.9/12.8 MB 900.0 kB/s eta 0:00:08\n",
      "     ------------------ -------------------- 5.9/12.8 MB 895.6 kB/s eta 0:00:08\n",
      "     ------------------ -------------------- 6.0/12.8 MB 898.5 kB/s eta 0:00:08\n",
      "     ------------------ -------------------- 6.1/12.8 MB 904.4 kB/s eta 0:00:08\n",
      "     ------------------ -------------------- 6.1/12.8 MB 906.8 kB/s eta 0:00:08\n",
      "     ------------------ -------------------- 6.2/12.8 MB 913.6 kB/s eta 0:00:08\n",
      "     ------------------ -------------------- 6.2/12.8 MB 906.7 kB/s eta 0:00:08\n",
      "     ------------------- ------------------- 6.3/12.8 MB 913.0 kB/s eta 0:00:08\n",
      "     ------------------- ------------------- 6.3/12.8 MB 918.5 kB/s eta 0:00:08\n",
      "     ------------------- ------------------- 6.4/12.8 MB 913.9 kB/s eta 0:00:08\n",
      "     ------------------- ------------------- 6.5/12.8 MB 924.5 kB/s eta 0:00:07\n",
      "     -------------------- ------------------ 6.6/12.8 MB 934.3 kB/s eta 0:00:07\n",
      "     -------------------- ------------------ 6.7/12.8 MB 939.7 kB/s eta 0:00:07\n",
      "     -------------------- ------------------ 6.7/12.8 MB 939.7 kB/s eta 0:00:07\n",
      "     -------------------- ------------------ 6.7/12.8 MB 933.8 kB/s eta 0:00:07\n",
      "     -------------------- ------------------ 6.7/12.8 MB 933.4 kB/s eta 0:00:07\n",
      "     -------------------- ------------------ 6.7/12.8 MB 933.4 kB/s eta 0:00:07\n",
      "     -------------------- ------------------ 6.8/12.8 MB 930.7 kB/s eta 0:00:07\n",
      "     -------------------- ------------------ 6.9/12.8 MB 932.3 kB/s eta 0:00:07\n",
      "     --------------------- ----------------- 6.9/12.8 MB 936.1 kB/s eta 0:00:07\n",
      "     --------------------- ----------------- 7.1/12.8 MB 945.3 kB/s eta 0:00:07\n",
      "     --------------------- ----------------- 7.1/12.8 MB 943.4 kB/s eta 0:00:07\n",
      "     --------------------- ----------------- 7.2/12.8 MB 948.4 kB/s eta 0:00:06\n",
      "     ---------------------- ---------------- 7.3/12.8 MB 960.9 kB/s eta 0:00:06\n",
      "     ---------------------- ---------------- 7.4/12.8 MB 966.3 kB/s eta 0:00:06\n",
      "     ---------------------- ---------------- 7.5/12.8 MB 978.4 kB/s eta 0:00:06\n",
      "     ----------------------- --------------- 7.6/12.8 MB 977.1 kB/s eta 0:00:06\n",
      "     ----------------------- --------------- 7.7/12.8 MB 987.0 kB/s eta 0:00:06\n",
      "     ----------------------- --------------- 7.8/12.8 MB 998.7 kB/s eta 0:00:05\n",
      "     ------------------------ --------------- 7.9/12.8 MB 1.0 MB/s eta 0:00:05\n",
      "     ------------------------- -------------- 8.1/12.8 MB 1.0 MB/s eta 0:00:05\n",
      "     ------------------------- -------------- 8.2/12.8 MB 1.0 MB/s eta 0:00:05\n",
      "     ------------------------- -------------- 8.3/12.8 MB 1.0 MB/s eta 0:00:05\n",
      "     -------------------------- ------------- 8.5/12.8 MB 1.0 MB/s eta 0:00:05\n",
      "     -------------------------- ------------- 8.5/12.8 MB 1.1 MB/s eta 0:00:05\n",
      "     --------------------------- ------------ 8.7/12.8 MB 1.1 MB/s eta 0:00:04\n",
      "     --------------------------- ------------ 8.8/12.8 MB 1.1 MB/s eta 0:00:04\n",
      "     ---------------------------- ----------- 9.0/12.8 MB 1.1 MB/s eta 0:00:04\n",
      "     ---------------------------- ----------- 9.1/12.8 MB 1.1 MB/s eta 0:00:04\n",
      "     ---------------------------- ----------- 9.2/12.8 MB 1.1 MB/s eta 0:00:04\n",
      "     ----------------------------- ---------- 9.4/12.8 MB 1.1 MB/s eta 0:00:04\n",
      "     ----------------------------- ---------- 9.5/12.8 MB 1.1 MB/s eta 0:00:03\n",
      "     ----------------------------- ---------- 9.5/12.8 MB 1.1 MB/s eta 0:00:03\n",
      "     ----------------------------- ---------- 9.6/12.8 MB 1.1 MB/s eta 0:00:03\n",
      "     ------------------------------ --------- 9.6/12.8 MB 1.1 MB/s eta 0:00:03\n",
      "     ------------------------------ --------- 9.7/12.8 MB 1.1 MB/s eta 0:00:03\n",
      "     ------------------------------ --------- 9.7/12.8 MB 1.1 MB/s eta 0:00:03\n",
      "     ------------------------------ --------- 9.7/12.8 MB 1.1 MB/s eta 0:00:03\n",
      "     ------------------------------ --------- 9.8/12.8 MB 1.1 MB/s eta 0:00:03\n",
      "     ------------------------------- -------- 10.0/12.8 MB 1.1 MB/s eta 0:00:03\n",
      "     ------------------------------- -------- 10.1/12.8 MB 1.1 MB/s eta 0:00:03\n",
      "     ------------------------------- -------- 10.2/12.8 MB 1.1 MB/s eta 0:00:03\n",
      "     -------------------------------- ------- 10.3/12.8 MB 1.2 MB/s eta 0:00:03\n",
      "     -------------------------------- ------- 10.4/12.8 MB 1.2 MB/s eta 0:00:02\n",
      "     --------------------------------- ------ 10.7/12.8 MB 1.3 MB/s eta 0:00:02\n",
      "     --------------------------------- ------ 10.8/12.8 MB 1.3 MB/s eta 0:00:02\n",
      "     --------------------------------- ------ 10.9/12.8 MB 1.3 MB/s eta 0:00:02\n",
      "     ---------------------------------- ----- 11.1/12.8 MB 1.3 MB/s eta 0:00:02\n",
      "     ----------------------------------- ---- 11.2/12.8 MB 1.3 MB/s eta 0:00:02\n",
      "     ----------------------------------- ---- 11.3/12.8 MB 1.3 MB/s eta 0:00:02\n",
      "     ----------------------------------- ---- 11.3/12.8 MB 1.3 MB/s eta 0:00:02\n",
      "     ----------------------------------- ---- 11.4/12.8 MB 1.3 MB/s eta 0:00:02\n",
      "     ----------------------------------- ---- 11.4/12.8 MB 1.3 MB/s eta 0:00:02\n",
      "     ----------------------------------- ---- 11.4/12.8 MB 1.3 MB/s eta 0:00:02\n",
      "     ----------------------------------- ---- 11.5/12.8 MB 1.3 MB/s eta 0:00:01\n",
      "     ----------------------------------- ---- 11.5/12.8 MB 1.3 MB/s eta 0:00:01\n",
      "     ----------------------------------- ---- 11.5/12.8 MB 1.3 MB/s eta 0:00:01\n",
      "     ------------------------------------ --- 11.5/12.8 MB 1.3 MB/s eta 0:00:01\n",
      "     ------------------------------------ --- 11.7/12.8 MB 1.3 MB/s eta 0:00:01\n",
      "     ------------------------------------ --- 11.7/12.8 MB 1.3 MB/s eta 0:00:01\n",
      "     ------------------------------------ --- 11.8/12.8 MB 1.3 MB/s eta 0:00:01\n",
      "     ------------------------------------ --- 11.8/12.8 MB 1.3 MB/s eta 0:00:01\n",
      "     ------------------------------------- -- 11.9/12.8 MB 1.3 MB/s eta 0:00:01\n",
      "     ------------------------------------- -- 11.9/12.8 MB 1.3 MB/s eta 0:00:01\n",
      "     ------------------------------------- -- 12.0/12.8 MB 1.3 MB/s eta 0:00:01\n",
      "     ------------------------------------- -- 12.0/12.8 MB 1.3 MB/s eta 0:00:01\n",
      "     ------------------------------------- -- 12.1/12.8 MB 1.4 MB/s eta 0:00:01\n",
      "     -------------------------------------- - 12.2/12.8 MB 1.4 MB/s eta 0:00:01\n",
      "     -------------------------------------- - 12.3/12.8 MB 1.4 MB/s eta 0:00:01\n",
      "     -------------------------------------- - 12.3/12.8 MB 1.4 MB/s eta 0:00:01\n",
      "     -------------------------------------- - 12.4/12.8 MB 1.4 MB/s eta 0:00:01\n",
      "     -------------------------------------- - 12.4/12.8 MB 1.4 MB/s eta 0:00:01\n",
      "     -------------------------------------- - 12.4/12.8 MB 1.4 MB/s eta 0:00:01\n",
      "     ---------------------------------------  12.6/12.8 MB 1.4 MB/s eta 0:00:01\n",
      "     ---------------------------------------  12.6/12.8 MB 1.4 MB/s eta 0:00:01\n",
      "     ---------------------------------------  12.6/12.8 MB 1.4 MB/s eta 0:00:01\n",
      "     ---------------------------------------  12.7/12.8 MB 1.4 MB/s eta 0:00:01\n",
      "     ---------------------------------------  12.8/12.8 MB 1.4 MB/s eta 0:00:01\n",
      "     ---------------------------------------- 12.8/12.8 MB 1.4 MB/s eta 0:00:00\n",
      "Requirement already satisfied: spacy<3.7.0,>=3.6.0 in c:\\users\\agh\\appdata\\local\\programs\\python\\python311\\lib\\site-packages (from en-core-web-sm==3.6.0) (3.6.0)\n",
      "Requirement already satisfied: spacy-legacy<3.1.0,>=3.0.11 in c:\\users\\agh\\appdata\\local\\programs\\python\\python311\\lib\\site-packages (from spacy<3.7.0,>=3.6.0->en-core-web-sm==3.6.0) (3.0.12)\n",
      "Requirement already satisfied: spacy-loggers<2.0.0,>=1.0.0 in c:\\users\\agh\\appdata\\local\\programs\\python\\python311\\lib\\site-packages (from spacy<3.7.0,>=3.6.0->en-core-web-sm==3.6.0) (1.0.4)\n",
      "Requirement already satisfied: murmurhash<1.1.0,>=0.28.0 in c:\\users\\agh\\appdata\\local\\programs\\python\\python311\\lib\\site-packages (from spacy<3.7.0,>=3.6.0->en-core-web-sm==3.6.0) (1.0.9)\n",
      "Requirement already satisfied: cymem<2.1.0,>=2.0.2 in c:\\users\\agh\\appdata\\local\\programs\\python\\python311\\lib\\site-packages (from spacy<3.7.0,>=3.6.0->en-core-web-sm==3.6.0) (2.0.7)\n",
      "Requirement already satisfied: preshed<3.1.0,>=3.0.2 in c:\\users\\agh\\appdata\\local\\programs\\python\\python311\\lib\\site-packages (from spacy<3.7.0,>=3.6.0->en-core-web-sm==3.6.0) (3.0.8)\n",
      "Requirement already satisfied: thinc<8.2.0,>=8.1.8 in c:\\users\\agh\\appdata\\local\\programs\\python\\python311\\lib\\site-packages (from spacy<3.7.0,>=3.6.0->en-core-web-sm==3.6.0) (8.1.10)\n",
      "Requirement already satisfied: wasabi<1.2.0,>=0.9.1 in c:\\users\\agh\\appdata\\local\\programs\\python\\python311\\lib\\site-packages (from spacy<3.7.0,>=3.6.0->en-core-web-sm==3.6.0) (1.1.2)\n",
      "Requirement already satisfied: srsly<3.0.0,>=2.4.3 in c:\\users\\agh\\appdata\\local\\programs\\python\\python311\\lib\\site-packages (from spacy<3.7.0,>=3.6.0->en-core-web-sm==3.6.0) (2.4.7)\n",
      "Requirement already satisfied: catalogue<2.1.0,>=2.0.6 in c:\\users\\agh\\appdata\\local\\programs\\python\\python311\\lib\\site-packages (from spacy<3.7.0,>=3.6.0->en-core-web-sm==3.6.0) (2.0.9)\n",
      "Requirement already satisfied: typer<0.10.0,>=0.3.0 in c:\\users\\agh\\appdata\\local\\programs\\python\\python311\\lib\\site-packages (from spacy<3.7.0,>=3.6.0->en-core-web-sm==3.6.0) (0.7.0)\n",
      "Requirement already satisfied: pathy>=0.10.0 in c:\\users\\agh\\appdata\\local\\programs\\python\\python311\\lib\\site-packages (from spacy<3.7.0,>=3.6.0->en-core-web-sm==3.6.0) (0.10.2)\n",
      "Requirement already satisfied: smart-open<7.0.0,>=5.2.1 in c:\\users\\agh\\appdata\\local\\programs\\python\\python311\\lib\\site-packages (from spacy<3.7.0,>=3.6.0->en-core-web-sm==3.6.0) (6.3.0)\n",
      "Requirement already satisfied: tqdm<5.0.0,>=4.38.0 in c:\\users\\agh\\appdata\\local\\programs\\python\\python311\\lib\\site-packages (from spacy<3.7.0,>=3.6.0->en-core-web-sm==3.6.0) (4.65.0)\n",
      "Requirement already satisfied: numpy>=1.15.0 in c:\\users\\agh\\appdata\\local\\programs\\python\\python311\\lib\\site-packages (from spacy<3.7.0,>=3.6.0->en-core-web-sm==3.6.0) (1.25.2)\n",
      "Requirement already satisfied: requests<3.0.0,>=2.13.0 in c:\\users\\agh\\appdata\\local\\programs\\python\\python311\\lib\\site-packages (from spacy<3.7.0,>=3.6.0->en-core-web-sm==3.6.0) (2.31.0)\n",
      "Requirement already satisfied: pydantic!=1.8,!=1.8.1,<1.11.0,>=1.7.4 in c:\\users\\agh\\appdata\\local\\programs\\python\\python311\\lib\\site-packages (from spacy<3.7.0,>=3.6.0->en-core-web-sm==3.6.0) (1.10.12)\n",
      "Requirement already satisfied: jinja2 in c:\\users\\agh\\appdata\\local\\programs\\python\\python311\\lib\\site-packages (from spacy<3.7.0,>=3.6.0->en-core-web-sm==3.6.0) (3.1.2)\n",
      "Requirement already satisfied: setuptools in c:\\users\\agh\\appdata\\local\\programs\\python\\python311\\lib\\site-packages (from spacy<3.7.0,>=3.6.0->en-core-web-sm==3.6.0) (67.8.0)\n",
      "Requirement already satisfied: packaging>=20.0 in c:\\users\\agh\\appdata\\local\\programs\\python\\python311\\lib\\site-packages (from spacy<3.7.0,>=3.6.0->en-core-web-sm==3.6.0) (23.1)\n",
      "Requirement already satisfied: langcodes<4.0.0,>=3.2.0 in c:\\users\\agh\\appdata\\local\\programs\\python\\python311\\lib\\site-packages (from spacy<3.7.0,>=3.6.0->en-core-web-sm==3.6.0) (3.3.0)\n",
      "Requirement already satisfied: typing-extensions>=4.2.0 in c:\\users\\agh\\appdata\\local\\programs\\python\\python311\\lib\\site-packages (from pydantic!=1.8,!=1.8.1,<1.11.0,>=1.7.4->spacy<3.7.0,>=3.6.0->en-core-web-sm==3.6.0) (4.7.1)\n",
      "Requirement already satisfied: charset-normalizer<4,>=2 in c:\\users\\agh\\appdata\\local\\programs\\python\\python311\\lib\\site-packages (from requests<3.0.0,>=2.13.0->spacy<3.7.0,>=3.6.0->en-core-web-sm==3.6.0) (3.2.0)\n",
      "Requirement already satisfied: idna<4,>=2.5 in c:\\users\\agh\\appdata\\local\\programs\\python\\python311\\lib\\site-packages (from requests<3.0.0,>=2.13.0->spacy<3.7.0,>=3.6.0->en-core-web-sm==3.6.0) (3.4)\n",
      "Requirement already satisfied: urllib3<3,>=1.21.1 in c:\\users\\agh\\appdata\\local\\programs\\python\\python311\\lib\\site-packages (from requests<3.0.0,>=2.13.0->spacy<3.7.0,>=3.6.0->en-core-web-sm==3.6.0) (2.0.4)\n",
      "Requirement already satisfied: certifi>=2017.4.17 in c:\\users\\agh\\appdata\\local\\programs\\python\\python311\\lib\\site-packages (from requests<3.0.0,>=2.13.0->spacy<3.7.0,>=3.6.0->en-core-web-sm==3.6.0) (2023.7.22)\n",
      "Requirement already satisfied: blis<0.8.0,>=0.7.8 in c:\\users\\agh\\appdata\\local\\programs\\python\\python311\\lib\\site-packages (from thinc<8.2.0,>=8.1.8->spacy<3.7.0,>=3.6.0->en-core-web-sm==3.6.0) (0.7.10)\n",
      "Requirement already satisfied: confection<1.0.0,>=0.0.1 in c:\\users\\agh\\appdata\\local\\programs\\python\\python311\\lib\\site-packages (from thinc<8.2.0,>=8.1.8->spacy<3.7.0,>=3.6.0->en-core-web-sm==3.6.0) (0.1.0)\n",
      "Requirement already satisfied: colorama in c:\\users\\agh\\appdata\\local\\programs\\python\\python311\\lib\\site-packages (from tqdm<5.0.0,>=4.38.0->spacy<3.7.0,>=3.6.0->en-core-web-sm==3.6.0) (0.4.6)\n",
      "Requirement already satisfied: click<9.0.0,>=7.1.1 in c:\\users\\agh\\appdata\\local\\programs\\python\\python311\\lib\\site-packages (from typer<0.10.0,>=0.3.0->spacy<3.7.0,>=3.6.0->en-core-web-sm==3.6.0) (8.1.6)\n",
      "Requirement already satisfied: MarkupSafe>=2.0 in c:\\users\\agh\\appdata\\local\\programs\\python\\python311\\lib\\site-packages (from jinja2->spacy<3.7.0,>=3.6.0->en-core-web-sm==3.6.0) (2.1.3)\n",
      "\u001b[38;5;2m[+] Download and installation successful\u001b[0m\n",
      "You can now load the package via spacy.load('en_core_web_sm')\n"
     ]
    }
   ],
   "source": [
    "!pip install spacy scikit-learn matplotlib datasets\n",
    "!python -m spacy download en_core_web_sm"
   ]
  },
  {
   "cell_type": "code",
   "execution_count": 2,
   "metadata": {
    "id": "b-4JZPM9X5xI"
   },
   "outputs": [
    {
     "name": "stdout",
     "output_type": "stream",
     "text": [
      "Collecting pl-core-news-sm==3.6.0\n",
      "  Downloading https://github.com/explosion/spacy-models/releases/download/pl_core_news_sm-3.6.0/pl_core_news_sm-3.6.0-py3-none-any.whl (20.2 MB)\n",
      "     ---------------------------------------- 0.0/20.2 MB ? eta -:--:--\n",
      "     ---------------------------------------- 0.1/20.2 MB 1.5 MB/s eta 0:00:14\n",
      "     ---------------------------------------- 0.2/20.2 MB 2.1 MB/s eta 0:00:10\n",
      "      --------------------------------------- 0.3/20.2 MB 2.4 MB/s eta 0:00:09\n",
      "      --------------------------------------- 0.5/20.2 MB 2.5 MB/s eta 0:00:09\n",
      "     - -------------------------------------- 0.6/20.2 MB 2.5 MB/s eta 0:00:08\n",
      "     - -------------------------------------- 0.6/20.2 MB 2.5 MB/s eta 0:00:08\n",
      "     - -------------------------------------- 0.7/20.2 MB 2.3 MB/s eta 0:00:09\n",
      "     - -------------------------------------- 0.9/20.2 MB 2.4 MB/s eta 0:00:09\n",
      "     - -------------------------------------- 1.0/20.2 MB 2.3 MB/s eta 0:00:09\n",
      "     -- ------------------------------------- 1.1/20.2 MB 2.3 MB/s eta 0:00:09\n",
      "     -- ------------------------------------- 1.2/20.2 MB 2.4 MB/s eta 0:00:09\n",
      "     -- ------------------------------------- 1.3/20.2 MB 2.2 MB/s eta 0:00:09\n",
      "     -- ------------------------------------- 1.3/20.2 MB 2.2 MB/s eta 0:00:09\n",
      "     -- ------------------------------------- 1.4/20.2 MB 2.1 MB/s eta 0:00:10\n",
      "     -- ------------------------------------- 1.5/20.2 MB 2.2 MB/s eta 0:00:09\n",
      "     --- ------------------------------------ 1.6/20.2 MB 2.2 MB/s eta 0:00:09\n",
      "     --- ------------------------------------ 1.8/20.2 MB 2.2 MB/s eta 0:00:09\n",
      "     --- ------------------------------------ 1.9/20.2 MB 2.2 MB/s eta 0:00:09\n",
      "     --- ------------------------------------ 2.0/20.2 MB 2.2 MB/s eta 0:00:09\n",
      "     ---- ----------------------------------- 2.1/20.2 MB 2.2 MB/s eta 0:00:09\n",
      "     ---- ----------------------------------- 2.2/20.2 MB 2.2 MB/s eta 0:00:09\n",
      "     ---- ----------------------------------- 2.2/20.2 MB 2.2 MB/s eta 0:00:09\n",
      "     ---- ----------------------------------- 2.4/20.2 MB 2.1 MB/s eta 0:00:09\n",
      "     ---- ----------------------------------- 2.5/20.2 MB 2.2 MB/s eta 0:00:09\n",
      "     ----- ---------------------------------- 2.6/20.2 MB 2.2 MB/s eta 0:00:09\n",
      "     ----- ---------------------------------- 2.7/20.2 MB 2.2 MB/s eta 0:00:08\n",
      "     ----- ---------------------------------- 2.9/20.2 MB 2.3 MB/s eta 0:00:08\n",
      "     ------ --------------------------------- 3.1/20.2 MB 2.3 MB/s eta 0:00:08\n",
      "     ------ --------------------------------- 3.3/20.2 MB 2.4 MB/s eta 0:00:08\n",
      "     ------- -------------------------------- 3.6/20.2 MB 2.5 MB/s eta 0:00:07\n",
      "     ------- -------------------------------- 3.8/20.2 MB 2.6 MB/s eta 0:00:07\n",
      "     ------- -------------------------------- 3.9/20.2 MB 2.6 MB/s eta 0:00:07\n",
      "     -------- ------------------------------- 4.1/20.2 MB 2.6 MB/s eta 0:00:07\n",
      "     -------- ------------------------------- 4.3/20.2 MB 2.7 MB/s eta 0:00:06\n",
      "     -------- ------------------------------- 4.5/20.2 MB 2.7 MB/s eta 0:00:06\n",
      "     --------- ------------------------------ 4.6/20.2 MB 2.7 MB/s eta 0:00:06\n",
      "     --------- ------------------------------ 4.8/20.2 MB 2.8 MB/s eta 0:00:06\n",
      "     --------- ------------------------------ 4.9/20.2 MB 2.8 MB/s eta 0:00:06\n",
      "     ---------- ----------------------------- 5.2/20.2 MB 2.8 MB/s eta 0:00:06\n",
      "     ---------- ----------------------------- 5.5/20.2 MB 2.9 MB/s eta 0:00:06\n",
      "     ----------- ---------------------------- 5.6/20.2 MB 2.9 MB/s eta 0:00:06\n",
      "     ----------- ---------------------------- 5.8/20.2 MB 2.9 MB/s eta 0:00:05\n",
      "     ----------- ---------------------------- 6.0/20.2 MB 3.0 MB/s eta 0:00:05\n",
      "     ------------ --------------------------- 6.1/20.2 MB 3.0 MB/s eta 0:00:05\n",
      "     ------------ --------------------------- 6.3/20.2 MB 3.0 MB/s eta 0:00:05\n",
      "     ------------ --------------------------- 6.5/20.2 MB 3.0 MB/s eta 0:00:05\n",
      "     ------------- -------------------------- 6.7/20.2 MB 3.0 MB/s eta 0:00:05\n",
      "     ------------- -------------------------- 6.8/20.2 MB 3.0 MB/s eta 0:00:05\n",
      "     ------------- -------------------------- 6.9/20.2 MB 3.0 MB/s eta 0:00:05\n",
      "     ------------- -------------------------- 6.9/20.2 MB 3.0 MB/s eta 0:00:05\n",
      "     ------------- -------------------------- 6.9/20.2 MB 3.0 MB/s eta 0:00:05\n",
      "     ------------- -------------------------- 6.9/20.2 MB 3.0 MB/s eta 0:00:05\n",
      "     ------------- -------------------------- 7.0/20.2 MB 2.8 MB/s eta 0:00:05\n",
      "     -------------- ------------------------- 7.1/20.2 MB 2.8 MB/s eta 0:00:05\n",
      "     -------------- ------------------------- 7.2/20.2 MB 2.8 MB/s eta 0:00:05\n",
      "     -------------- ------------------------- 7.3/20.2 MB 2.8 MB/s eta 0:00:05\n",
      "     -------------- ------------------------- 7.4/20.2 MB 2.8 MB/s eta 0:00:05\n",
      "     -------------- ------------------------- 7.5/20.2 MB 2.8 MB/s eta 0:00:05\n",
      "     --------------- ------------------------ 7.7/20.2 MB 2.8 MB/s eta 0:00:05\n",
      "     --------------- ------------------------ 7.8/20.2 MB 2.8 MB/s eta 0:00:05\n",
      "     --------------- ------------------------ 7.9/20.2 MB 2.7 MB/s eta 0:00:05\n",
      "     --------------- ------------------------ 8.0/20.2 MB 2.7 MB/s eta 0:00:05\n",
      "     ---------------- ----------------------- 8.2/20.2 MB 2.7 MB/s eta 0:00:05\n",
      "     ---------------- ----------------------- 8.3/20.2 MB 2.7 MB/s eta 0:00:05\n",
      "     ---------------- ----------------------- 8.4/20.2 MB 2.7 MB/s eta 0:00:05\n",
      "     ---------------- ----------------------- 8.4/20.2 MB 2.7 MB/s eta 0:00:05\n",
      "     ---------------- ----------------------- 8.6/20.2 MB 2.7 MB/s eta 0:00:05\n",
      "     ---------------- ----------------------- 8.6/20.2 MB 2.7 MB/s eta 0:00:05\n",
      "     ----------------- ---------------------- 8.7/20.2 MB 2.7 MB/s eta 0:00:05\n",
      "     ----------------- ---------------------- 8.9/20.2 MB 2.7 MB/s eta 0:00:05\n",
      "     ------------------ --------------------- 9.1/20.2 MB 2.7 MB/s eta 0:00:05\n",
      "     ------------------ --------------------- 9.2/20.2 MB 2.7 MB/s eta 0:00:05\n",
      "     ------------------ --------------------- 9.4/20.2 MB 2.7 MB/s eta 0:00:04\n",
      "     ------------------ --------------------- 9.6/20.2 MB 2.7 MB/s eta 0:00:04\n",
      "     ------------------- -------------------- 9.8/20.2 MB 2.8 MB/s eta 0:00:04\n",
      "     ------------------- -------------------- 10.0/20.2 MB 2.8 MB/s eta 0:00:04\n",
      "     ------------------- -------------------- 10.0/20.2 MB 2.8 MB/s eta 0:00:04\n",
      "     ------------------- -------------------- 10.0/20.2 MB 2.7 MB/s eta 0:00:04\n",
      "     ------------------- -------------------- 10.1/20.2 MB 2.7 MB/s eta 0:00:04\n",
      "     -------------------- ------------------- 10.2/20.2 MB 2.7 MB/s eta 0:00:04\n",
      "     -------------------- ------------------- 10.3/20.2 MB 2.7 MB/s eta 0:00:04\n",
      "     -------------------- ------------------- 10.5/20.2 MB 2.7 MB/s eta 0:00:04\n",
      "     --------------------- ------------------ 10.7/20.2 MB 2.7 MB/s eta 0:00:04\n",
      "     --------------------- ------------------ 10.9/20.2 MB 2.8 MB/s eta 0:00:04\n",
      "     --------------------- ------------------ 11.1/20.2 MB 2.8 MB/s eta 0:00:04\n",
      "     ---------------------- ----------------- 11.2/20.2 MB 2.8 MB/s eta 0:00:04\n",
      "     ---------------------- ----------------- 11.3/20.2 MB 2.8 MB/s eta 0:00:04\n",
      "     ---------------------- ----------------- 11.3/20.2 MB 2.8 MB/s eta 0:00:04\n",
      "     ---------------------- ----------------- 11.3/20.2 MB 2.8 MB/s eta 0:00:04\n",
      "     ---------------------- ----------------- 11.3/20.2 MB 2.7 MB/s eta 0:00:04\n",
      "     ---------------------- ----------------- 11.3/20.2 MB 2.7 MB/s eta 0:00:04\n",
      "     ---------------------- ----------------- 11.5/20.2 MB 2.7 MB/s eta 0:00:04\n",
      "     ---------------------- ----------------- 11.6/20.2 MB 2.7 MB/s eta 0:00:04\n",
      "     ----------------------- ---------------- 11.7/20.2 MB 2.7 MB/s eta 0:00:04\n",
      "     ----------------------- ---------------- 11.9/20.2 MB 2.7 MB/s eta 0:00:04\n",
      "     ----------------------- ---------------- 12.1/20.2 MB 2.8 MB/s eta 0:00:03\n",
      "     ------------------------ --------------- 12.2/20.2 MB 2.8 MB/s eta 0:00:03\n",
      "     ------------------------ --------------- 12.3/20.2 MB 2.8 MB/s eta 0:00:03\n",
      "     ------------------------ --------------- 12.5/20.2 MB 2.8 MB/s eta 0:00:03\n",
      "     ------------------------- -------------- 12.7/20.2 MB 2.8 MB/s eta 0:00:03\n",
      "     ------------------------- -------------- 12.8/20.2 MB 2.9 MB/s eta 0:00:03\n",
      "     ------------------------- -------------- 12.9/20.2 MB 2.8 MB/s eta 0:00:03\n",
      "     ------------------------- -------------- 13.1/20.2 MB 2.8 MB/s eta 0:00:03\n",
      "     -------------------------- ------------- 13.3/20.2 MB 2.8 MB/s eta 0:00:03\n",
      "     -------------------------- ------------- 13.3/20.2 MB 2.8 MB/s eta 0:00:03\n",
      "     -------------------------- ------------- 13.4/20.2 MB 2.8 MB/s eta 0:00:03\n",
      "     -------------------------- ------------- 13.5/20.2 MB 2.8 MB/s eta 0:00:03\n",
      "     --------------------------- ------------ 13.8/20.2 MB 2.8 MB/s eta 0:00:03\n",
      "     --------------------------- ------------ 13.9/20.2 MB 2.7 MB/s eta 0:00:03\n",
      "     --------------------------- ------------ 14.0/20.2 MB 2.7 MB/s eta 0:00:03\n",
      "     --------------------------- ------------ 14.1/20.2 MB 2.7 MB/s eta 0:00:03\n",
      "     ---------------------------- ----------- 14.2/20.2 MB 2.7 MB/s eta 0:00:03\n",
      "     ---------------------------- ----------- 14.3/20.2 MB 2.7 MB/s eta 0:00:03\n",
      "     ---------------------------- ----------- 14.4/20.2 MB 2.7 MB/s eta 0:00:03\n",
      "     ---------------------------- ----------- 14.5/20.2 MB 2.7 MB/s eta 0:00:03\n",
      "     ----------------------------- ---------- 14.7/20.2 MB 2.7 MB/s eta 0:00:03\n",
      "     ----------------------------- ---------- 14.7/20.2 MB 2.7 MB/s eta 0:00:03\n",
      "     ----------------------------- ---------- 14.8/20.2 MB 2.6 MB/s eta 0:00:03\n",
      "     ----------------------------- ---------- 14.9/20.2 MB 2.6 MB/s eta 0:00:03\n",
      "     ----------------------------- ---------- 14.9/20.2 MB 2.6 MB/s eta 0:00:03\n",
      "     ----------------------------- ---------- 15.0/20.2 MB 2.5 MB/s eta 0:00:03\n",
      "     ----------------------------- ---------- 15.1/20.2 MB 2.6 MB/s eta 0:00:02\n",
      "     ------------------------------ --------- 15.3/20.2 MB 2.5 MB/s eta 0:00:02\n",
      "     ------------------------------ --------- 15.5/20.2 MB 2.5 MB/s eta 0:00:02\n",
      "     ------------------------------ --------- 15.6/20.2 MB 2.5 MB/s eta 0:00:02\n",
      "     ------------------------------- -------- 15.7/20.2 MB 2.5 MB/s eta 0:00:02\n",
      "     ------------------------------- -------- 16.0/20.2 MB 2.5 MB/s eta 0:00:02\n",
      "     ------------------------------- -------- 16.1/20.2 MB 2.5 MB/s eta 0:00:02\n",
      "     -------------------------------- ------- 16.2/20.2 MB 2.5 MB/s eta 0:00:02\n",
      "     -------------------------------- ------- 16.2/20.2 MB 2.5 MB/s eta 0:00:02\n",
      "     -------------------------------- ------- 16.2/20.2 MB 2.5 MB/s eta 0:00:02\n",
      "     -------------------------------- ------- 16.5/20.2 MB 2.5 MB/s eta 0:00:02\n",
      "     -------------------------------- ------- 16.5/20.2 MB 2.5 MB/s eta 0:00:02\n",
      "     -------------------------------- ------- 16.7/20.2 MB 2.5 MB/s eta 0:00:02\n",
      "     --------------------------------- ------ 16.8/20.2 MB 2.4 MB/s eta 0:00:02\n",
      "     --------------------------------- ------ 16.9/20.2 MB 2.4 MB/s eta 0:00:02\n",
      "     --------------------------------- ------ 17.0/20.2 MB 2.4 MB/s eta 0:00:02\n",
      "     ---------------------------------- ----- 17.2/20.2 MB 2.5 MB/s eta 0:00:02\n",
      "     ---------------------------------- ----- 17.3/20.2 MB 2.5 MB/s eta 0:00:02\n",
      "     ---------------------------------- ----- 17.4/20.2 MB 2.5 MB/s eta 0:00:02\n",
      "     ---------------------------------- ----- 17.6/20.2 MB 2.5 MB/s eta 0:00:02\n",
      "     ---------------------------------- ----- 17.6/20.2 MB 2.5 MB/s eta 0:00:02\n",
      "     ----------------------------------- ---- 17.7/20.2 MB 2.5 MB/s eta 0:00:02\n",
      "     ----------------------------------- ---- 17.8/20.2 MB 2.5 MB/s eta 0:00:01\n",
      "     ----------------------------------- ---- 18.0/20.2 MB 2.5 MB/s eta 0:00:01\n",
      "     ----------------------------------- ---- 18.1/20.2 MB 2.5 MB/s eta 0:00:01\n",
      "     ------------------------------------ --- 18.2/20.2 MB 2.5 MB/s eta 0:00:01\n",
      "     ------------------------------------ --- 18.3/20.2 MB 2.5 MB/s eta 0:00:01\n",
      "     ------------------------------------ --- 18.4/20.2 MB 2.5 MB/s eta 0:00:01\n",
      "     ------------------------------------ --- 18.5/20.2 MB 2.5 MB/s eta 0:00:01\n",
      "     ------------------------------------ --- 18.7/20.2 MB 2.5 MB/s eta 0:00:01\n",
      "     ------------------------------------- -- 18.8/20.2 MB 2.6 MB/s eta 0:00:01\n",
      "     ------------------------------------- -- 18.9/20.2 MB 2.6 MB/s eta 0:00:01\n",
      "     ------------------------------------- -- 19.0/20.2 MB 2.5 MB/s eta 0:00:01\n",
      "     ------------------------------------- -- 19.1/20.2 MB 2.5 MB/s eta 0:00:01\n",
      "     -------------------------------------- - 19.3/20.2 MB 2.5 MB/s eta 0:00:01\n",
      "     -------------------------------------- - 19.4/20.2 MB 2.5 MB/s eta 0:00:01\n",
      "     -------------------------------------- - 19.5/20.2 MB 2.5 MB/s eta 0:00:01\n",
      "     -------------------------------------- - 19.6/20.2 MB 2.5 MB/s eta 0:00:01\n",
      "     ---------------------------------------  19.8/20.2 MB 2.5 MB/s eta 0:00:01\n",
      "     ---------------------------------------  19.9/20.2 MB 2.5 MB/s eta 0:00:01\n",
      "     ---------------------------------------  20.0/20.2 MB 2.5 MB/s eta 0:00:01\n",
      "     ---------------------------------------  20.0/20.2 MB 2.5 MB/s eta 0:00:01\n",
      "     ---------------------------------------  20.1/20.2 MB 2.4 MB/s eta 0:00:01\n",
      "     ---------------------------------------  20.1/20.2 MB 2.4 MB/s eta 0:00:01\n",
      "     ---------------------------------------  20.2/20.2 MB 2.4 MB/s eta 0:00:01\n",
      "     ---------------------------------------- 20.2/20.2 MB 2.4 MB/s eta 0:00:00\n",
      "Requirement already satisfied: spacy<3.7.0,>=3.6.0 in c:\\users\\agh\\appdata\\local\\programs\\python\\python311\\lib\\site-packages (from pl-core-news-sm==3.6.0) (3.6.0)\n",
      "Requirement already satisfied: spacy-legacy<3.1.0,>=3.0.11 in c:\\users\\agh\\appdata\\local\\programs\\python\\python311\\lib\\site-packages (from spacy<3.7.0,>=3.6.0->pl-core-news-sm==3.6.0) (3.0.12)\n",
      "Requirement already satisfied: spacy-loggers<2.0.0,>=1.0.0 in c:\\users\\agh\\appdata\\local\\programs\\python\\python311\\lib\\site-packages (from spacy<3.7.0,>=3.6.0->pl-core-news-sm==3.6.0) (1.0.4)\n",
      "Requirement already satisfied: murmurhash<1.1.0,>=0.28.0 in c:\\users\\agh\\appdata\\local\\programs\\python\\python311\\lib\\site-packages (from spacy<3.7.0,>=3.6.0->pl-core-news-sm==3.6.0) (1.0.9)\n",
      "Requirement already satisfied: cymem<2.1.0,>=2.0.2 in c:\\users\\agh\\appdata\\local\\programs\\python\\python311\\lib\\site-packages (from spacy<3.7.0,>=3.6.0->pl-core-news-sm==3.6.0) (2.0.7)\n",
      "Requirement already satisfied: preshed<3.1.0,>=3.0.2 in c:\\users\\agh\\appdata\\local\\programs\\python\\python311\\lib\\site-packages (from spacy<3.7.0,>=3.6.0->pl-core-news-sm==3.6.0) (3.0.8)\n",
      "Requirement already satisfied: thinc<8.2.0,>=8.1.8 in c:\\users\\agh\\appdata\\local\\programs\\python\\python311\\lib\\site-packages (from spacy<3.7.0,>=3.6.0->pl-core-news-sm==3.6.0) (8.1.10)\n",
      "Requirement already satisfied: wasabi<1.2.0,>=0.9.1 in c:\\users\\agh\\appdata\\local\\programs\\python\\python311\\lib\\site-packages (from spacy<3.7.0,>=3.6.0->pl-core-news-sm==3.6.0) (1.1.2)\n",
      "Requirement already satisfied: srsly<3.0.0,>=2.4.3 in c:\\users\\agh\\appdata\\local\\programs\\python\\python311\\lib\\site-packages (from spacy<3.7.0,>=3.6.0->pl-core-news-sm==3.6.0) (2.4.7)\n",
      "Requirement already satisfied: catalogue<2.1.0,>=2.0.6 in c:\\users\\agh\\appdata\\local\\programs\\python\\python311\\lib\\site-packages (from spacy<3.7.0,>=3.6.0->pl-core-news-sm==3.6.0) (2.0.9)\n",
      "Requirement already satisfied: typer<0.10.0,>=0.3.0 in c:\\users\\agh\\appdata\\local\\programs\\python\\python311\\lib\\site-packages (from spacy<3.7.0,>=3.6.0->pl-core-news-sm==3.6.0) (0.7.0)\n",
      "Requirement already satisfied: pathy>=0.10.0 in c:\\users\\agh\\appdata\\local\\programs\\python\\python311\\lib\\site-packages (from spacy<3.7.0,>=3.6.0->pl-core-news-sm==3.6.0) (0.10.2)\n",
      "Requirement already satisfied: smart-open<7.0.0,>=5.2.1 in c:\\users\\agh\\appdata\\local\\programs\\python\\python311\\lib\\site-packages (from spacy<3.7.0,>=3.6.0->pl-core-news-sm==3.6.0) (6.3.0)\n",
      "Requirement already satisfied: tqdm<5.0.0,>=4.38.0 in c:\\users\\agh\\appdata\\local\\programs\\python\\python311\\lib\\site-packages (from spacy<3.7.0,>=3.6.0->pl-core-news-sm==3.6.0) (4.65.0)\n",
      "Requirement already satisfied: numpy>=1.15.0 in c:\\users\\agh\\appdata\\local\\programs\\python\\python311\\lib\\site-packages (from spacy<3.7.0,>=3.6.0->pl-core-news-sm==3.6.0) (1.25.2)\n",
      "Requirement already satisfied: requests<3.0.0,>=2.13.0 in c:\\users\\agh\\appdata\\local\\programs\\python\\python311\\lib\\site-packages (from spacy<3.7.0,>=3.6.0->pl-core-news-sm==3.6.0) (2.31.0)\n",
      "Requirement already satisfied: pydantic!=1.8,!=1.8.1,<1.11.0,>=1.7.4 in c:\\users\\agh\\appdata\\local\\programs\\python\\python311\\lib\\site-packages (from spacy<3.7.0,>=3.6.0->pl-core-news-sm==3.6.0) (1.10.12)\n",
      "Requirement already satisfied: jinja2 in c:\\users\\agh\\appdata\\local\\programs\\python\\python311\\lib\\site-packages (from spacy<3.7.0,>=3.6.0->pl-core-news-sm==3.6.0) (3.1.2)\n",
      "Requirement already satisfied: setuptools in c:\\users\\agh\\appdata\\local\\programs\\python\\python311\\lib\\site-packages (from spacy<3.7.0,>=3.6.0->pl-core-news-sm==3.6.0) (67.8.0)\n",
      "Requirement already satisfied: packaging>=20.0 in c:\\users\\agh\\appdata\\local\\programs\\python\\python311\\lib\\site-packages (from spacy<3.7.0,>=3.6.0->pl-core-news-sm==3.6.0) (23.1)\n",
      "Requirement already satisfied: langcodes<4.0.0,>=3.2.0 in c:\\users\\agh\\appdata\\local\\programs\\python\\python311\\lib\\site-packages (from spacy<3.7.0,>=3.6.0->pl-core-news-sm==3.6.0) (3.3.0)\n",
      "Requirement already satisfied: typing-extensions>=4.2.0 in c:\\users\\agh\\appdata\\local\\programs\\python\\python311\\lib\\site-packages (from pydantic!=1.8,!=1.8.1,<1.11.0,>=1.7.4->spacy<3.7.0,>=3.6.0->pl-core-news-sm==3.6.0) (4.7.1)\n",
      "Requirement already satisfied: charset-normalizer<4,>=2 in c:\\users\\agh\\appdata\\local\\programs\\python\\python311\\lib\\site-packages (from requests<3.0.0,>=2.13.0->spacy<3.7.0,>=3.6.0->pl-core-news-sm==3.6.0) (3.2.0)\n",
      "Requirement already satisfied: idna<4,>=2.5 in c:\\users\\agh\\appdata\\local\\programs\\python\\python311\\lib\\site-packages (from requests<3.0.0,>=2.13.0->spacy<3.7.0,>=3.6.0->pl-core-news-sm==3.6.0) (3.4)\n",
      "Requirement already satisfied: urllib3<3,>=1.21.1 in c:\\users\\agh\\appdata\\local\\programs\\python\\python311\\lib\\site-packages (from requests<3.0.0,>=2.13.0->spacy<3.7.0,>=3.6.0->pl-core-news-sm==3.6.0) (2.0.4)\n",
      "Requirement already satisfied: certifi>=2017.4.17 in c:\\users\\agh\\appdata\\local\\programs\\python\\python311\\lib\\site-packages (from requests<3.0.0,>=2.13.0->spacy<3.7.0,>=3.6.0->pl-core-news-sm==3.6.0) (2023.7.22)\n",
      "Requirement already satisfied: blis<0.8.0,>=0.7.8 in c:\\users\\agh\\appdata\\local\\programs\\python\\python311\\lib\\site-packages (from thinc<8.2.0,>=8.1.8->spacy<3.7.0,>=3.6.0->pl-core-news-sm==3.6.0) (0.7.10)\n",
      "Requirement already satisfied: confection<1.0.0,>=0.0.1 in c:\\users\\agh\\appdata\\local\\programs\\python\\python311\\lib\\site-packages (from thinc<8.2.0,>=8.1.8->spacy<3.7.0,>=3.6.0->pl-core-news-sm==3.6.0) (0.1.0)\n",
      "Requirement already satisfied: colorama in c:\\users\\agh\\appdata\\local\\programs\\python\\python311\\lib\\site-packages (from tqdm<5.0.0,>=4.38.0->spacy<3.7.0,>=3.6.0->pl-core-news-sm==3.6.0) (0.4.6)\n",
      "Requirement already satisfied: click<9.0.0,>=7.1.1 in c:\\users\\agh\\appdata\\local\\programs\\python\\python311\\lib\\site-packages (from typer<0.10.0,>=0.3.0->spacy<3.7.0,>=3.6.0->pl-core-news-sm==3.6.0) (8.1.6)\n",
      "Requirement already satisfied: MarkupSafe>=2.0 in c:\\users\\agh\\appdata\\local\\programs\\python\\python311\\lib\\site-packages (from jinja2->spacy<3.7.0,>=3.6.0->pl-core-news-sm==3.6.0) (2.1.3)\n",
      "\u001b[38;5;2m[+] Download and installation successful\u001b[0m\n",
      "You can now load the package via spacy.load('pl_core_news_sm')\n"
     ]
    }
   ],
   "source": [
    "!python -m spacy download pl_core_news_sm"
   ]
  },
  {
   "cell_type": "markdown",
   "metadata": {
    "id": "3sPaOFZMRSku"
   },
   "source": [
    "## Tokenizacja\n",
    "\n",
    "Pierwsze zadanie polega na stokenizowaniu tekstu, co oznacza ni mniej ni więcej jak podział tekstu na najmniejsze znaczące elementy, które wspólnie tworzą wyrazy tekstowe i tekst. Tokenizacja dla każdego języka jest inna, co możecie zaobserwować zestawiając dane dla języka angielskiego z danymi dla języka polskiego i porównując wyniki uzyskane na tekstach.\n",
    "\n",
    "Tokenizacja przydaje się w życiu. Pracując na tokenach, pracujemy na uniwersalnych danych i porównujemy dane w sposób niestronniczy.\n",
    "\n",
    "Porównajcie zdania:\n",
    "\"I'd like you to have some fun working with all those excercises like mice have fun with every piece of chees. It's all we need to have some fun in life.\"\n",
    "\"Chciałabym, żebyście mieli tyle zabawy z ćwiczeniami, ile ubawu mają myszy z każdym jednym kawałeczkiem sera. Wszystko, czego potrzebujemy w żyćku, to zabawa.\"\n",
    "\n",
    "\n",
    "Wyjaśnienie:\n",
    "Dowiadujemy się tu jak tokenizować tekst, a za chwilę dowiemy się, że te tokeny mogą być przetwarzane w wektory, na podstawie których możemy przewidywać kolejne wyrazy tekstowe. Jeśli jednak wynik tokenizacji nie ma być użyty bezpośrednio jako dane wejściowe sieci neuronowej, możemy użyć przyjaznej tokenizacji z pakietu `spacy`.\n",
    "\n",
    "Zainicjujmy więc pakiet `spacy`."
   ]
  },
  {
   "cell_type": "code",
   "execution_count": 3,
   "metadata": {
    "id": "vZr9Oy8P7SHE"
   },
   "outputs": [],
   "source": [
    "import spacy\n",
    "\n",
    "nlp_en = spacy.load('en_core_web_sm')"
   ]
  },
  {
   "cell_type": "code",
   "execution_count": 4,
   "metadata": {},
   "outputs": [],
   "source": [
    "nlp_pl = spacy.load('pl_core_news_sm')"
   ]
  },
  {
   "cell_type": "markdown",
   "metadata": {
    "id": "AfcttssX8Q16"
   },
   "source": [
    "Najpierw stokenizujmy tekst dla języka angielskiego:"
   ]
  },
  {
   "cell_type": "code",
   "execution_count": 5,
   "metadata": {
    "id": "Y4a1_8Tf8Vwc",
    "scrolled": true
   },
   "outputs": [
    {
     "data": {
      "text/plain": [
       "['I',\n",
       " \"'d\",\n",
       " 'like',\n",
       " 'you',\n",
       " 'to',\n",
       " 'have',\n",
       " 'some',\n",
       " 'fun',\n",
       " 'working',\n",
       " 'with',\n",
       " 'all',\n",
       " 'those',\n",
       " 'excercises',\n",
       " 'like',\n",
       " 'mice',\n",
       " 'have',\n",
       " 'fun',\n",
       " 'with',\n",
       " 'every',\n",
       " 'piece',\n",
       " 'of',\n",
       " 'chees',\n",
       " '.',\n",
       " 'It',\n",
       " \"'s\",\n",
       " 'all',\n",
       " 'we',\n",
       " 'need',\n",
       " 'to',\n",
       " 'have',\n",
       " 'some',\n",
       " 'fun',\n",
       " 'in',\n",
       " 'life',\n",
       " '.']"
      ]
     },
     "execution_count": 5,
     "metadata": {},
     "output_type": "execute_result"
    }
   ],
   "source": [
    "text = \"\"\"I'd like you to have some fun working with all those excercises like mice have fun with every piece of chees. It's all we need to have some fun in life.\"\"\"\n",
    "\n",
    "tokens_en = nlp_en(text)\n",
    "[token.text for token in tokens_en]"
   ]
  },
  {
   "cell_type": "code",
   "execution_count": 6,
   "metadata": {},
   "outputs": [
    {
     "data": {
      "text/plain": [
       "['Chciałabym',\n",
       " ',',\n",
       " 'żebyście',\n",
       " 'mieli',\n",
       " 'tyle',\n",
       " 'zabawy',\n",
       " 'z',\n",
       " 'ćwiczeniami',\n",
       " ',',\n",
       " 'ile',\n",
       " 'ubawu',\n",
       " 'mają',\n",
       " 'myszy',\n",
       " 'z',\n",
       " 'każdym',\n",
       " 'jednym',\n",
       " 'kawałeczkiem',\n",
       " 'sera',\n",
       " '.',\n",
       " 'Wszystko',\n",
       " ',',\n",
       " 'czego',\n",
       " 'potrzebujemy',\n",
       " 'w',\n",
       " 'żyćku',\n",
       " ',',\n",
       " 'to',\n",
       " 'zabawa',\n",
       " '.']"
      ]
     },
     "execution_count": 6,
     "metadata": {},
     "output_type": "execute_result"
    }
   ],
   "source": [
    "text = \"\"\"Chciałabym, żebyście mieli tyle zabawy z ćwiczeniami, ile ubawu mają myszy z każdym jednym kawałeczkiem sera. Wszystko, czego potrzebujemy w żyćku, to zabawa.\"\"\"\n",
    "\n",
    "tokens_pl = nlp_pl(text)\n",
    "[token.text for token in tokens_pl]"
   ]
  },
  {
   "cell_type": "markdown",
   "metadata": {
    "id": "PRB7_tIjzujG"
   },
   "source": [
    "A potem dla polskiego:\n",
    "(pamiętajmy o innej nazwie zmiennych!)"
   ]
  },
  {
   "cell_type": "markdown",
   "metadata": {
    "id": "y06DuFMVDmWO"
   },
   "source": [
    "A teraz podzielmy teksty na zdania."
   ]
  },
  {
   "cell_type": "code",
   "execution_count": 7,
   "metadata": {
    "id": "Iq9wbNqGDoox",
    "scrolled": true
   },
   "outputs": [
    {
     "data": {
      "text/plain": [
       "[\"I'd like you to have some fun working with all those excercises like mice have fun with every piece of chees.\",\n",
       " \"It's all we need to have some fun in life.\"]"
      ]
     },
     "execution_count": 7,
     "metadata": {},
     "output_type": "execute_result"
    }
   ],
   "source": [
    "[sentence.text for sentence in tokens_en.sents]"
   ]
  },
  {
   "cell_type": "code",
   "execution_count": 9,
   "metadata": {},
   "outputs": [
    {
     "data": {
      "text/plain": [
       "['Chciałabym, żebyście mieli tyle zabawy z ćwiczeniami, ile ubawu mają myszy z każdym jednym kawałeczkiem sera.',\n",
       " 'Wszystko, czego potrzebujemy w żyćku, to zabawa.']"
      ]
     },
     "execution_count": 9,
     "metadata": {},
     "output_type": "execute_result"
    }
   ],
   "source": [
    "[sentence.text for sentence in tokens_pl.sents]"
   ]
  },
  {
   "cell_type": "markdown",
   "metadata": {
    "id": "mNlfmjT60NLh"
   },
   "source": [
    "### ⭐ Zadanie sprawdzające umiejętności⭐\n",
    "\n",
    "Stwórz zdanie, które:\n",
    "- zawiera skróty (USA, U.S., i.e., ww.)\n",
    "- zawiera nazwy (McDonald's, Kelly's)\n",
    "- zawiera czasowniki w formach warunkowych, przypuszczających (I would like, chciałabym).\n",
    "\n",
    "```\n",
    "np. We have been to U.K. before we got to the very special country, i.e. Poland.\n",
    "```"
   ]
  },
  {
   "cell_type": "code",
   "execution_count": null,
   "metadata": {
    "id": "hdKGB9UB-N3Z"
   },
   "outputs": [],
   "source": [
    "# Miejsce na Twój kod"
   ]
  },
  {
   "cell_type": "markdown",
   "metadata": {
    "id": "Z39blSV0-sof"
   },
   "source": [
    "## Wykrywanie kategorii morfologicznych\n",
    "\n",
    "`spacy` można używać też do analizy kategorii morfologicznych (morfoskładniowych, zwanych też *częściami mowy*, które -- o zgrozo -- odmieniają się przez przypadki, osoby i stopnie). Tagowanie morfoskładniowe, inaczej Part-of-Speech Tagging (POS Tagging) przydaje się w bardziej zaawansowanych zadaniach, może też pozwolić na wnikliwy wgląd w właściwości tekstu.\n",
    "\n",
    "W tym zadaniu możemy użyć tokenów (`tokens_en`) z poprzednich ćwiczeń."
   ]
  },
  {
   "cell_type": "code",
   "execution_count": 10,
   "metadata": {
    "id": "AqCgDjRt-zMG"
   },
   "outputs": [
    {
     "data": {
      "text/plain": [
       "[('I', 'PRON'),\n",
       " (\"'d\", 'AUX'),\n",
       " ('like', 'VERB'),\n",
       " ('you', 'PRON'),\n",
       " ('to', 'PART'),\n",
       " ('have', 'VERB'),\n",
       " ('some', 'DET'),\n",
       " ('fun', 'NOUN'),\n",
       " ('working', 'VERB'),\n",
       " ('with', 'ADP'),\n",
       " ('all', 'DET'),\n",
       " ('those', 'DET'),\n",
       " ('excercises', 'NOUN'),\n",
       " ('like', 'SCONJ'),\n",
       " ('mice', 'NOUN'),\n",
       " ('have', 'VERB'),\n",
       " ('fun', 'NOUN'),\n",
       " ('with', 'ADP'),\n",
       " ('every', 'DET'),\n",
       " ('piece', 'NOUN'),\n",
       " ('of', 'ADP'),\n",
       " ('chees', 'NOUN'),\n",
       " ('.', 'PUNCT'),\n",
       " ('It', 'PRON'),\n",
       " (\"'s\", 'AUX'),\n",
       " ('all', 'PRON'),\n",
       " ('we', 'PRON'),\n",
       " ('need', 'VERB'),\n",
       " ('to', 'PART'),\n",
       " ('have', 'VERB'),\n",
       " ('some', 'DET'),\n",
       " ('fun', 'NOUN'),\n",
       " ('in', 'ADP'),\n",
       " ('life', 'NOUN'),\n",
       " ('.', 'PUNCT')]"
      ]
     },
     "execution_count": 10,
     "metadata": {},
     "output_type": "execute_result"
    }
   ],
   "source": [
    "[(token.text, token.pos_) for token in tokens_en]"
   ]
  },
  {
   "cell_type": "code",
   "execution_count": 11,
   "metadata": {},
   "outputs": [
    {
     "data": {
      "text/plain": [
       "[('Chciałabym', 'VERB'),\n",
       " (',', 'PUNCT'),\n",
       " ('żebyście', 'SCONJ'),\n",
       " ('mieli', 'VERB'),\n",
       " ('tyle', 'DET'),\n",
       " ('zabawy', 'NOUN'),\n",
       " ('z', 'ADP'),\n",
       " ('ćwiczeniami', 'NOUN'),\n",
       " (',', 'PUNCT'),\n",
       " ('ile', 'DET'),\n",
       " ('ubawu', 'NOUN'),\n",
       " ('mają', 'VERB'),\n",
       " ('myszy', 'NOUN'),\n",
       " ('z', 'ADP'),\n",
       " ('każdym', 'DET'),\n",
       " ('jednym', 'ADJ'),\n",
       " ('kawałeczkiem', 'NOUN'),\n",
       " ('sera', 'NOUN'),\n",
       " ('.', 'PUNCT'),\n",
       " ('Wszystko', 'PRON'),\n",
       " (',', 'PUNCT'),\n",
       " ('czego', 'PRON'),\n",
       " ('potrzebujemy', 'VERB'),\n",
       " ('w', 'ADP'),\n",
       " ('żyćku', 'NOUN'),\n",
       " (',', 'PUNCT'),\n",
       " ('to', 'AUX'),\n",
       " ('zabawa', 'NOUN'),\n",
       " ('.', 'PUNCT')]"
      ]
     },
     "execution_count": 11,
     "metadata": {},
     "output_type": "execute_result"
    }
   ],
   "source": [
    "[(token.text, token.pos_) for token in tokens_pl]"
   ]
  },
  {
   "cell_type": "markdown",
   "metadata": {
    "id": "h0J9krYr_qal"
   },
   "source": [
    "### ⭐ Zadanie sprawdzające umiejętności⭐\n",
    "\n",
    "**A teraz** zobaczmy, ile i jakich tagów (w tekstach można znaleźć też określenie POS tagów) mamy w naszych przykładach. Jakie problemy mogą być poruszone przy okazji takiego zadania? Jak zrobić wykres? (Za wykres jest bonus 📊 😀)"
   ]
  },
  {
   "cell_type": "code",
   "execution_count": 13,
   "metadata": {
    "id": "Ihx1WDro_wKH"
   },
   "outputs": [
    {
     "name": "stdout",
     "output_type": "stream",
     "text": [
      "defaultdict(<class 'int'>, {'VERB': 4, 'PUNCT': 6, 'SCONJ': 1, 'DET': 3, 'NOUN': 8, 'ADP': 3, 'ADJ': 1, 'PRON': 2, 'AUX': 1})\n"
     ]
    },
    {
     "data": {
      "image/png": "[encoded data removed]",
      "text/plain": [
       "<Figure size 640x480 with 1 Axes>"
      ]
     },
     "metadata": {},
     "output_type": "display_data"
    }
   ],
   "source": [
    "from collections import defaultdict\n",
    "\n",
    "pos_quantities = defaultdict(int)\n",
    "for token in tokens_pl:\n",
    "  pos_quantities[token.pos_] += 1\n",
    "print(pos_quantities)\n",
    "\n",
    "import matplotlib.pyplot as plt\n",
    "\n",
    "plt.bar(list(pos_quantities.keys()), list(pos_quantities.values()))\n",
    "plt.show()"
   ]
  },
  {
   "cell_type": "markdown",
   "metadata": {
    "id": "dAgdEyZI_02h"
   },
   "source": [
    "Lematyzacja\n",
    "Wchodzimy na kolejny poziom abstrakcji. Liczymy teraz nie tokeny, a typy. Załóżmy, że chcemy policzyć dzieci z przedszkola bawiące się głośno na placu zabaw za naszym oknem. Chcemy dowiedzieć się, kto krzyczy głośniej, dziewczynki czy chłopcy. W tym celu przyglądamy się każdemu dziecku i stwierdzamy, czy jest chłopcem czy dziewczynką. Sprowadzamy patrzenie na obiekt do binarnego wyboru płci, czasem mamy wątpliwości, co jest normalne. Możemy (z wahaniem lub bez) powiedzieć, że na placu zabaw są dwa typy dzieci: krzyczące i nie, dziewczynki i chłopcy. I podobnie jest z lematyzacją, choć trochę inaczej. Żeby zobaczyć, co jest w zdaniu, musimy przyjrzeć się okazom i stwiedzić, że jeśli w tekście dziecko drze się (jakby jutra nie było), darło się (aż do momentu, kiedy nie zagłuszyły go syreny policyjne) lub będzie się darło (do ukończenia 18 roku życia), to mówimy o jednej czynności darcia się wyrażonej jako różne formy czasownika DRZEĆ SIĘ. To jak w słowniku. Jeśli chcemy sprawdzić pisownię, szukamy czegoś co jest w mianowniku liczby pojedynczej i rodzaju męskim, albo w bezokoliczniku, albo w stopniu równym i też rodzaju męskim.\n",
    "\n",
    "Co i kiedy liczymy? Wypisując wszystkie elementy (tokeny), liczyliśmy budulec tekstu. Wypisując lematy (typy), liczymy użycie konkretnych pojęć niezależnie od ich formy.\n",
    "\n",
    "Jeśli chcesz policzyć, ile słów zostało wymienionych w tekście, bardzo przydatne jest sprowadzenie wszystkich słów do ich form podstawowych. Proces ten nazywany jest lematyzacją. Tekst przetworzony za pomocą spacy zawiera już lematy dla każdego tokena. Wykorzystamy tę technikę w dalszej części laboratorium."
   ]
  },
  {
   "cell_type": "code",
   "execution_count": 14,
   "metadata": {
    "id": "CIEpFin0_3cE"
   },
   "outputs": [
    {
     "data": {
      "text/plain": [
       "[('I', 'I'),\n",
       " (\"'d\", 'would'),\n",
       " ('like', 'like'),\n",
       " ('you', 'you'),\n",
       " ('to', 'to'),\n",
       " ('have', 'have'),\n",
       " ('some', 'some'),\n",
       " ('fun', 'fun'),\n",
       " ('working', 'work'),\n",
       " ('with', 'with'),\n",
       " ('all', 'all'),\n",
       " ('those', 'those'),\n",
       " ('excercises', 'excercise'),\n",
       " ('like', 'like'),\n",
       " ('mice', 'mouse'),\n",
       " ('have', 'have'),\n",
       " ('fun', 'fun'),\n",
       " ('with', 'with'),\n",
       " ('every', 'every'),\n",
       " ('piece', 'piece'),\n",
       " ('of', 'of'),\n",
       " ('chees', 'chee'),\n",
       " ('.', '.'),\n",
       " ('It', 'it'),\n",
       " (\"'s\", 'be'),\n",
       " ('all', 'all'),\n",
       " ('we', 'we'),\n",
       " ('need', 'need'),\n",
       " ('to', 'to'),\n",
       " ('have', 'have'),\n",
       " ('some', 'some'),\n",
       " ('fun', 'fun'),\n",
       " ('in', 'in'),\n",
       " ('life', 'life'),\n",
       " ('.', '.')]"
      ]
     },
     "execution_count": 14,
     "metadata": {},
     "output_type": "execute_result"
    }
   ],
   "source": [
    "[(token.text, token.lemma_) for token in tokens_en]"
   ]
  },
  {
   "cell_type": "code",
   "execution_count": 15,
   "metadata": {},
   "outputs": [
    {
     "data": {
      "text/plain": [
       "[('Chciałabym', 'chcieć by być'),\n",
       " (',', ','),\n",
       " ('żebyście', 'żeby być'),\n",
       " ('mieli', 'mieć'),\n",
       " ('tyle', 'tyle'),\n",
       " ('zabawy', 'zabawa'),\n",
       " ('z', 'z'),\n",
       " ('ćwiczeniami', 'ćwiczenei'),\n",
       " (',', ','),\n",
       " ('ile', 'ile'),\n",
       " ('ubawu', 'ubaw'),\n",
       " ('mają', 'mieć'),\n",
       " ('myszy', 'mysz'),\n",
       " ('z', 'z'),\n",
       " ('każdym', 'każdy'),\n",
       " ('jednym', 'jeden'),\n",
       " ('kawałeczkiem', 'kawałeczkie'),\n",
       " ('sera', 'sero'),\n",
       " ('.', '.'),\n",
       " ('Wszystko', 'wszystko'),\n",
       " (',', ','),\n",
       " ('czego', 'co'),\n",
       " ('potrzebujemy', 'potrzebować'),\n",
       " ('w', 'w'),\n",
       " ('żyćku', 'żyćke'),\n",
       " (',', ','),\n",
       " ('to', 'to'),\n",
       " ('zabawa', 'zabawa'),\n",
       " ('.', '.')]"
      ]
     },
     "execution_count": 15,
     "metadata": {},
     "output_type": "execute_result"
    }
   ],
   "source": [
    "[(token.text, token.lemma_) for token in tokens_pl]"
   ]
  },
  {
   "cell_type": "markdown",
   "metadata": {
    "id": "d_Y0w9TwHxiq"
   },
   "source": [
    "⭐ Zadanie sprawdzające umiejętności ⭐\n",
    "> Dla nietypowych rzeczowników w języku angielskim:\n",
    "\n",
    "* entities\n",
    "* was\n",
    "* mice\n",
    "*cacti\n",
    "* octopi\n",
    "\n",
    "znajdź lematy i oceń, czy spacy rozpoznał je poprawnie. Czy możesz wskazać analogiczne przykłady dla polskiego?"
   ]
  },
  {
   "cell_type": "code",
   "execution_count": null,
   "metadata": {
    "id": "oPMnY3xpH6ZT"
   },
   "outputs": [],
   "source": [
    "# Miejsce na Twój kod"
   ]
  },
  {
   "cell_type": "markdown",
   "metadata": {
    "id": "Mih5AZl5_35c"
   },
   "source": [
    "## Named entity recognition\n",
    "\n",
    "Analiza tekstu przy użyciu `spacy` może być bardziej zaawansowana (do tej pory analizowaliśmy składnię, teraz czas na odrobinę semantyki). Takim bardziej złożonym zadaniem jest rozpoznawanie encji nazwanych (NER), a więc pewnego typu obiektów, które mogą być nazwą własną, ale wcale nie muszą.\n",
    "\n",
    "### Zatem"
   ]
  },
  {
   "cell_type": "code",
   "execution_count": null,
   "metadata": {
    "id": "fqAvaZj_Cgiv"
   },
   "outputs": [],
   "source": [
    "ner_result = nlp_pl(\"\"\"Alina była w Warszawie i o Warszawie, ale nigdy z Warszawą.\"\"\")\n",
    "[(e.text, e.label_, e.start_char, e.end_char) for e in ner_result.ents]"
   ]
  },
  {
   "cell_type": "markdown",
   "metadata": {
    "id": "ONbTGgU-Ex_0"
   },
   "source": [
    "Każda kategoria ma w SpaCy rozwinięcie:"
   ]
  },
  {
   "cell_type": "code",
   "execution_count": null,
   "metadata": {
    "id": "wGruXB_UEgHn"
   },
   "outputs": [],
   "source": [
    "spacy.explain('GPE')"
   ]
  },
  {
   "cell_type": "markdown",
   "metadata": {
    "id": "Woivn9naE9Al"
   },
   "source": [
    "⭐ Zadanie sprawdzające umiejętności ⭐\n",
    "\n",
    "> Zobacz na to samo zadanie, ale w języku polskim.\n",
    "\n"
   ]
  },
  {
   "cell_type": "markdown",
   "metadata": {
    "id": "9RO0Z_uJ1hNh"
   },
   "source": [
    "#### ⭐ Zadanie sprawdzające umiejętności ⭐\n",
    "\n",
    "Znajdź tekst, który zawiera typ `WORK_OF_ART`."
   ]
  },
  {
   "cell_type": "code",
   "execution_count": null,
   "metadata": {
    "id": "UgPECLjt1j3J"
   },
   "outputs": [],
   "source": [
    "# Miejsce na Twój kod"
   ]
  },
  {
   "cell_type": "markdown",
   "metadata": {
    "id": "Q0RM3w_wFJsc"
   },
   "source": [
    "### Obrazki\n",
    "Moduł displacy odpowiada za wizualizację wyników działania NERa. Podkreślenie / wyróżnienie kolorystyczne sprawiają, że łatwiej odczytać wyniki, żeby pobieżnie je przeanalizować."
   ]
  },
  {
   "cell_type": "code",
   "execution_count": null,
   "metadata": {
    "id": "XHBUbGOuFt2y"
   },
   "outputs": [],
   "source": [
    "spacy.displacy.render(ner_result, style=\"ent\", jupyter=True)"
   ]
  },
  {
   "cell_type": "markdown",
   "metadata": {
    "id": "4xNIdIyLGY0I"
   },
   "source": [
    "Korzystając z modułu `displacy` możemy też przeszukiwać informacje pod kątem jednej wybranej lub kilku pożądanych kateogrii. Żeby tego dokonać, musimy skorzystać z funkcji `displacy.render`."
   ]
  },
  {
   "cell_type": "code",
   "execution_count": null,
   "metadata": {
    "id": "lr8o6bPUGi5l"
   },
   "outputs": [],
   "source": [
    "spacy.displacy.render(ner_result, style=\"ent\", jupyter=True, options={\"ents\": [\"PERSON\", \"DATE\", \"GPE\"]})"
   ]
  },
  {
   "cell_type": "markdown",
   "metadata": {
    "id": "r7UQMXj7GAaK"
   },
   "source": [
    "#### ⭐ Zadanie sprawdzające umiejętności ⭐\n",
    "\n",
    "Spróbuj przeanalizować dłuższy tekst za pomocą `spacy` i zwizualizuj wynik NER za pomocą `displacy`. Użyj jakiegoś artykułu znalezionego w sieci.\n",
    "\n",
    "Następnie policz ile razy każdy typ encji został wykryty w tekście i wyświetl statystyki. Dodatkowy bonus za wykres 📊 😀"
   ]
  },
  {
   "cell_type": "code",
   "execution_count": null,
   "metadata": {
    "id": "jaciXADYZ6Qp"
   },
   "outputs": [],
   "source": [
    "# Miejsce na Twój kod"
   ]
  },
  {
   "cell_type": "markdown",
   "metadata": {
    "id": "iPYmmqLqG5YI"
   },
   "source": [
    "## Wykrywanie podobieństwa tekstów\n",
    "\n",
    "### Bag of words\n",
    "\n",
    "Do tej pory analizowaliśmy problem interpretacji formy tekstu, wskazywania konkretnych struktur i przypisywania ich do specyficznej klasy. Teraz zajmiemy się problemem interpretacji znaczenia. Przyjrzyjmy się różnym tekstom i sprawdźmy, jak te teksty są do siebie podobne. Dla uproszczenia tekstem będą pojedyncze zdania.\n",
    "\n",
    "> The quick brown fox jumps over the lazy dog.\n",
    "\n",
    "> The dog kept barking over the night.\n",
    "\n",
    "> A lazy fisherman with his dog met a fox last night.\n",
    "\n",
    "Przy niedużej liczbie tekstów jesteśmy w stanie naocznie porównać próbki i określić ich podobieństwo. Czym jest owo podobieństwo? Gdybyśmy mieli scharakteryzować sposoby, na jakie teksty są podobne, jakbyśmy je określili?\n",
    "\n",
    "Bardzo często stosowanym sposobem na znalezienie zdefiniowanego podobieństwa jest technika zwana *bag of words* (https://en.wikipedia.org/wiki/Bag-of-words_model). Polega ona na obliczeniu częstotliwości występowania słów we wszystkich tekstach, uporządkowaniu tekstu wg najpopularniejszych z nich, a następnie przedstawieniu tekstu jako listy liczb całkowitych zawierających liczbę wystąpień tych słów. Co ważne, to podejście zupełnie ignoruje\n",
    "\n",
    "Przykład lepszy niż wykład!\n",
    "\n",
    "Do obliczenia metryk tekstowych użyjemy modułu `sklearn`. Klasa `CountVectorizer` wykonuje wszystkie obliczenia za nas. Parametr `max_features=5` mówi wektoryzatorowi, że chcemy wybrać co najwyżej 5 najpopularniejszych tokenów ze wszystkich tekstów.\n"
   ]
  },
  {
   "cell_type": "code",
   "execution_count": null,
   "metadata": {
    "id": "myGn2xGKI9hr"
   },
   "outputs": [],
   "source": [
    "from sklearn.feature_extraction.text import CountVectorizer\n",
    "\n",
    "texts = [\n",
    "    \"The quick brown fox jumps over the lazy dog.\",\n",
    "    \"The dog kept barking very loud barking and barking again over the night.\",\n",
    "    \"A lazy fisherman with his dog met a fox last night.\",\n",
    "]\n",
    "\n",
    "count_vector = CountVectorizer(max_features=5)\n",
    "data_count = count_vector.fit_transform(texts)\n",
    "data_count.toarray()"
   ]
  },
  {
   "cell_type": "markdown",
   "metadata": {
    "id": "lMeNodp3Kj8y"
   },
   "source": [
    "OK, co oznaczają dane liczbowe, które uzyskaliśmy?"
   ]
  },
  {
   "cell_type": "code",
   "execution_count": null,
   "metadata": {
    "id": "-0ABs1ziKyDA"
   },
   "outputs": [],
   "source": [
    "count_vector.get_feature_names_out()"
   ]
  },
  {
   "cell_type": "code",
   "execution_count": null,
   "metadata": {
    "id": "1QLo1YXWc2cH"
   },
   "outputs": [],
   "source": [
    "# Miejsce na Twój kod"
   ]
  },
  {
   "cell_type": "markdown",
   "metadata": {
    "id": "fme7G6lDK1Eg"
   },
   "source": [
    "# Tokeny dla angielskiego to:\n",
    "\n",
    "```\n",
    "[ 'barking', 'dog', 'fox', 'over', 'the']\n",
    "```\n",
    "\n",
    "z reprezentacją wektorową (`max_features=5`):\n",
    "\n",
    "```\n",
    "array([[0, 1, 1, 1, 2],\n",
    "       [3, 1, 0, 1, 2],\n",
    "       [0, 1, 1, 0, 0]], dtype=int64)\n",
    "```\n",
    "\n",
    "Co oznacza, że:\n",
    "* słowo `barking` pojawia się w ogóle trzy razy, ale w jednym zdaniu\n",
    "* słowo `dog` w każdym zdaniu po jednym razie\n",
    "* słowo `fox` pojawia się raz w pierwszym i raz w trzecim tekście\n",
    "* słowo `over` nie występuje w trzecim tekście\n",
    "* słowo `the` pojawia się dwukrotnie w pierwszym i drugim tekście, w trzecim nie występuje wcale\n",
    "\n",
    "Now you should understand the *bag of words* text representation. We can say that the more similar the vectors are, the more similar the texts are, too. We can obviously calculate the distance between them and even visualize them on a chart, but we need a few more exercies and obviously - more data!\n",
    "\n",
    "#### ⭐ Zadania sprawdzające umiejętności ⭐\n",
    "\n",
    "Przeprowadź analogiczny eksperyment dla języka polskiego i wyciągnij wnioski podobnie jak w powyższym ćwiczeniu.\n",
    "\n",
    "Zwróć uwagę na parametr `max_features` i spróbuj zmieniać jego wartość, obserwując zmianę reprezentacji wyników. Wyciągnij wnioski na temat przełożenia wartości parametru na jakość prezentowanych wyników."
   ]
  },
  {
   "cell_type": "code",
   "execution_count": null,
   "metadata": {
    "id": "qe2_07hOMKbO"
   },
   "outputs": [],
   "source": [
    "# Miejsce na Twój kod"
   ]
  },
  {
   "cell_type": "markdown",
   "metadata": {
    "id": "UEB6xm4jPzaR"
   },
   "source": [
    "Modele typu transformers korzystają z modyfikacji tego podejścia. Więcej o rozwiązaniu problemu podobieństwa tu: https://huggingface.co/tasks/sentence-similarity."
   ]
  },
  {
   "cell_type": "markdown",
   "metadata": {
    "id": "Q0EMySonML50"
   },
   "source": [
    "### Stopwords\n",
    "\n",
    "Semantyczne rozważania nad językiem prowadzą do obserwacji, że słowa nie przekazują porównywalnie istotnych informacji. Co to znaczy? W przypadku przykładu z języka angielskiego, słowo `the` mówi nam nieco mniej niż słowo `dog` czy `lazy`, a jednak to ono pojawia się w tekstach najczęściej. Nie oznacza to oczywiście, że to słowo nic nie znaczy bądź nie pełni w systemie językowym istotnej funkcji. W tym zadaniu rozpatrujemy tylko istotność słowa w przełożeniu na znaczenie całego tekstu lub grupy tekstów i przez taki pryzmat będziemy patrzeć na `stopwords`, a więc słowa popularne, budulce tekstu, nienosące znaczenia.\n",
    "`Stopwords` obsługiwane są w pakiecie `SpaCy` przez moduł `sklearn` (https://scikit-learn.org/stable/modules/generated/sklearn.feature_extraction.text.CountVectorizer.html), który identyfikuje je, a następnie usuwa z reprezentacji zbioru danych."
   ]
  },
  {
   "cell_type": "code",
   "execution_count": null,
   "metadata": {
    "id": "QkhFQzFdMs7U"
   },
   "outputs": [],
   "source": [
    "from sklearn.feature_extraction._stop_words import ENGLISH_STOP_WORDS\n",
    "\n",
    "list(ENGLISH_STOP_WORDS)[:100]"
   ]
  },
  {
   "cell_type": "markdown",
   "metadata": {
    "id": "eHOezUD9OHnJ"
   },
   "source": [
    "Nie musisz importować stopwords, aby z nich korzystać, ponieważ są one zarządzane wewnętrznie w pakiecie (`_` w nazwie pakietu).\n",
    "\n",
    "Teraz wszystko, co musisz zrobić, to zdefiniować wbudowaną listę stopwords, których chcesz użyć przed obliczeniem wektorów."
   ]
  },
  {
   "cell_type": "code",
   "execution_count": null,
   "metadata": {
    "id": "rSzlqDvFOSbH"
   },
   "outputs": [],
   "source": [
    "count_vector = CountVectorizer(max_features=10, stop_words = 'english')\n",
    "data_count = count_vector.fit_transform(texts)\n",
    "count_vector.get_feature_names_out()"
   ]
  },
  {
   "cell_type": "markdown",
   "metadata": {
    "id": "L52dVF9qO_N3"
   },
   "source": [
    "### Wizualizacja danych\n",
    "\n",
    "\n",
    "Wykrywanie podobnych tekstów w przypadku dużej ilości danych może stanowić wyzwanie. Zawsze pomocna jest wizualizacja danych na ekranie, więc możemy wykreślić wektory i sprawdzić, czy możemy wykryć jakieś grupy na ekranie. Będzie to trudne w przypadku trzech tekstów, na których obecnie pracujemy, ale zrozumiesz ideę.\n",
    "\n",
    "Możemy teraz zawiesić to laboratorium i poczekać do 2048 roku, kiedy ekrany 5D będą dostępne, lub użyć popularnego algorytmu `t-SNE` do *spłaszczenia* danych, a następnie ich wizualizacji. Wybierzemy drugie rozwiązanie 😉.\n",
    "\n",
    "Nie zagłębiając się zbytnio w działanie tego algorytmu, jest on w stanie zredukować wektory XD do wektorów YD, z X>Y, zachowując odległości między nimi. W przypadku naszego tekstu chcemy zredukować wektory 5D (5 cech tekstu) do wektorów 2D (czyli do formatu, który można wykreślić na ekranie).\n"
   ]
  },
  {
   "cell_type": "code",
   "execution_count": null,
   "metadata": {
    "id": "-6c2W1S_QGIr"
   },
   "outputs": [],
   "source": [
    "from sklearn.manifold import TSNE\n",
    "\n",
    "tsne_model = TSNE(n_components=2, perplexity=2)\n",
    "tsne_data = tsne_model.fit_transform(data_count.toarray())\n",
    "\n",
    "tsne_data\n",
    "#data_count.toarray()"
   ]
  },
  {
   "cell_type": "markdown",
   "metadata": {
    "id": "Zn5GI1iFQtr1"
   },
   "source": [
    "Algortym zredukował wektory, co możemy zobaczyć, zamiast musieć sobie to wyobrażać."
   ]
  },
  {
   "cell_type": "code",
   "execution_count": null,
   "metadata": {
    "id": "hbwqxktaQ0gd"
   },
   "outputs": [],
   "source": [
    "import matplotlib.pyplot as plt\n",
    "\n",
    "fig, ax = plt.subplots()\n",
    "ax.scatter(tsne_data[:, 0], tsne_data[:, 1])\n",
    "\n",
    "for i, label in enumerate([\"fox\", \"dog\", \"fisherman\"]):\n",
    "    ax.annotate(label, (tsne_data[i, 0], tsne_data[i, 1]))\n",
    "\n",
    "plt.show()"
   ]
  },
  {
   "cell_type": "markdown",
   "metadata": {
    "id": "I60UgASRT70i"
   },
   "source": [
    "Istnieją tylko trzy punkty danych, więc trudno powiedzieć, czy teksty można uznać za podobne do siebie, czy nie. Gdybyśmy jednak mieli znacznie więcej tekstów, moglibyśmy podejrzewać, że punkty danych utworzyłyby pewne rozróżnialne grupy, co oznacza, że teksty mówią o podobnych tematach."
   ]
  },
  {
   "cell_type": "markdown",
   "metadata": {
    "id": "Bvhm1-manrMN"
   },
   "source": [
    "## Zbiory danych\n",
    "\n",
    "Do ostatniego zadania potrzebujemy więcej danych, żeby zaobserwować proces klasteryzacji. Jedną z możliwych dróg pozyskania danych jest skorzystanie z modułu [HuggingFace](https://huggingface.co/docs/datasets/v1.8.0/loading_datasets.html) `datasets`, aby pobrać kilka tekstów, nad którymi możemy pracować.\n",
    "\n",
    "Zobaczmy, co jest w środku."
   ]
  },
  {
   "cell_type": "code",
   "execution_count": null,
   "metadata": {
    "id": "CU9xQv2RoAs-"
   },
   "outputs": [],
   "source": [
    "import datasets\n",
    "datasets.list_datasets()"
   ]
  },
  {
   "cell_type": "markdown",
   "metadata": {
    "id": "9wyhw7igoQdD"
   },
   "source": [
    "Zbiorów danych jest sporo, a ich liczba stale rośnie. Na potrzeby tego eksperymentu wybierzmy dowolny zbiór (zadanie nie jest tak wyspecyfikowane, by nakładać na nas konieczność wyboru wg konkretnych kryteriów).\n",
    "\n",
    "---\n",
    "\n"
   ]
  },
  {
   "cell_type": "code",
   "execution_count": null,
   "metadata": {
    "id": "8GgJ05UnoclR"
   },
   "outputs": [],
   "source": [
    "dataset = datasets.load_dataset('ag_news', split='train')\n",
    "dataset"
   ]
  },
  {
   "cell_type": "markdown",
   "metadata": {
    "id": "oU8czV0vqBkG"
   },
   "source": [
    "Jak widzieliśmy w poprzednich przykładach, lista tekstów będzie na razie łatwiejszą strukturą do pracy. Mając powyższy zbiór danych z polami `text` i `label`, możemy utworzyć listę tekstów z prostym zrozumieniem."
   ]
  },
  {
   "cell_type": "code",
   "execution_count": null,
   "metadata": {
    "id": "6GyDWshMqSHq"
   },
   "outputs": [],
   "source": [
    "large_texts = [item['text'] for item in dataset]\n",
    "large_texts[:5]"
   ]
  },
  {
   "cell_type": "markdown",
   "metadata": {
    "id": "pYYikmVXUM9Y"
   },
   "source": [
    "## ⭐ Zadanie sprawdzające umiejętności 🗻 ⭐\n",
    "\n",
    "Masz wszystkie narzędzia!\n",
    "\n",
    "Zbierz duży zbiór danych tekstów z *HF* i:\n",
    "\n",
    "1.   Przygotuj je do analizy, np.\n",
    "  \n",
    "  a. Stokenizuj je.\n",
    "\n",
    "  b. Przekształć tokeny w lematy (tak, aby `dog` i `dogs` były traktowane jako ta sama funkcja).\n",
    "2. Przedstaw teksty jako bag of words, pamiętając o stopwords. Eksperymentuj z liczbą cech. Jeśli okaże się, że istnieją cechy, które wpływają na reprezentację, wróć do kroku 1. i weź to pod uwagę podczas przygotowywania danych.\n",
    "3. Zwizualizuj dane na wykresie (bez etykiet dla lepszej wydajności). Czy możesz wyróżnić jakieś grupy tekstów? O czym są te teksty?\n",
    "4. Wykryj nazwane jednostki w reprezentantach grup. Czy nazwane jednostki sugerują również temat tekstu?\n"
   ]
  },
  {
   "cell_type": "code",
   "execution_count": null,
   "metadata": {
    "id": "dkIYNxKC4D0c"
   },
   "outputs": [],
   "source": [
    "# Miejsce na Twój kod"
   ]
  }
 ],
 "metadata": {
  "colab": {
   "provenance": []
  },
  "kernelspec": {
   "display_name": "Python 3 (ipykernel)",
   "language": "python",
   "name": "python3"
  },
  "language_info": {
   "codemirror_mode": {
    "name": "ipython",
    "version": 3
   },
   "file_extension": ".py",
   "mimetype": "text/x-python",
   "name": "python",
   "nbconvert_exporter": "python",
   "pygments_lexer": "ipython3",
   "version": "3.11.1"
  }
 },
 "nbformat": 4,
 "nbformat_minor": 1
}
