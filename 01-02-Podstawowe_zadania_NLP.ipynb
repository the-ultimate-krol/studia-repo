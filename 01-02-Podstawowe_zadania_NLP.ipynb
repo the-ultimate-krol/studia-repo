{
 "cells": [
  {
   "cell_type": "markdown",
   "metadata": {
    "id": "yRvCuHz36wh9"
   },
   "source": [
    "# Analiza danych tekstowych -- wstęp\n",
    "\n",
    "## Środowisko analityczne\n",
    "\n",
    "Przed Wami krótkie wprowadzenie do podstwowych zadań z obszaru NLP. Wykonamy je na dostępnych danych, mało wymagającym pipelinie i dla języka angielskiego. Ale uwaga: analogiczne zadania będziecie robić dla języka polskiego (praca samodzielna, analogiczna do prezentowanej dla języka angielskiego).\n",
    "\n",
    "Będziemy używać pakietu `spacy`, który sprawdza się przy analizie tekstu, `scikit-learn` do obliczeń i `matplotlip`, który pomoże zaprezentować dane na wykresach. Jako dane anglojęzyczne weźmiemy sobie `en_core_web_sm` --> model od SpaCy trenowany na tekstach newsów z języka angielskiego. Pierwsze zadanie dla Was: Jaki pakiet danych odpowiada za dane z języka polskiego?\n",
    "\n",
    "Moduł `datasets` odpowiada za łatwe ładowanie danych. Dane pochodzą z [HuggingFace](https://huggingface.co/docs/datasets/v1.8.0/loading_datasets.html)."
   ]
  },
  {
   "cell_type": "code",
   "execution_count": 54,
   "metadata": {
    "id": "b6vQYVbzRT2b"
   },
   "outputs": [
    {
     "name": "stdout",
     "output_type": "stream",
     "text": [
      "Requirement already satisfied: spacy in c:\\users\\agh\\appdata\\local\\programs\\python\\python311\\lib\\site-packages (3.6.0)\n",
      "Requirement already satisfied: scikit-learn in c:\\users\\agh\\appdata\\local\\programs\\python\\python311\\lib\\site-packages (1.3.0)\n",
      "Requirement already satisfied: matplotlib in c:\\users\\agh\\appdata\\local\\programs\\python\\python311\\lib\\site-packages (3.7.1)\n",
      "Requirement already satisfied: datasets in c:\\users\\agh\\appdata\\local\\programs\\python\\python311\\lib\\site-packages (2.13.1)\n",
      "Requirement already satisfied: spacy-legacy<3.1.0,>=3.0.11 in c:\\users\\agh\\appdata\\local\\programs\\python\\python311\\lib\\site-packages (from spacy) (3.0.12)\n",
      "Requirement already satisfied: spacy-loggers<2.0.0,>=1.0.0 in c:\\users\\agh\\appdata\\local\\programs\\python\\python311\\lib\\site-packages (from spacy) (1.0.4)\n",
      "Requirement already satisfied: murmurhash<1.1.0,>=0.28.0 in c:\\users\\agh\\appdata\\local\\programs\\python\\python311\\lib\\site-packages (from spacy) (1.0.9)\n",
      "Requirement already satisfied: cymem<2.1.0,>=2.0.2 in c:\\users\\agh\\appdata\\local\\programs\\python\\python311\\lib\\site-packages (from spacy) (2.0.7)\n",
      "Requirement already satisfied: preshed<3.1.0,>=3.0.2 in c:\\users\\agh\\appdata\\local\\programs\\python\\python311\\lib\\site-packages (from spacy) (3.0.8)\n",
      "Requirement already satisfied: thinc<8.2.0,>=8.1.8 in c:\\users\\agh\\appdata\\local\\programs\\python\\python311\\lib\\site-packages (from spacy) (8.1.10)\n",
      "Requirement already satisfied: wasabi<1.2.0,>=0.9.1 in c:\\users\\agh\\appdata\\local\\programs\\python\\python311\\lib\\site-packages (from spacy) (1.1.2)\n",
      "Requirement already satisfied: srsly<3.0.0,>=2.4.3 in c:\\users\\agh\\appdata\\local\\programs\\python\\python311\\lib\\site-packages (from spacy) (2.4.7)\n",
      "Requirement already satisfied: catalogue<2.1.0,>=2.0.6 in c:\\users\\agh\\appdata\\local\\programs\\python\\python311\\lib\\site-packages (from spacy) (2.0.9)\n",
      "Requirement already satisfied: typer<0.10.0,>=0.3.0 in c:\\users\\agh\\appdata\\local\\programs\\python\\python311\\lib\\site-packages (from spacy) (0.7.0)\n",
      "Requirement already satisfied: pathy>=0.10.0 in c:\\users\\agh\\appdata\\local\\programs\\python\\python311\\lib\\site-packages (from spacy) (0.10.2)\n",
      "Requirement already satisfied: smart-open<7.0.0,>=5.2.1 in c:\\users\\agh\\appdata\\local\\programs\\python\\python311\\lib\\site-packages (from spacy) (6.3.0)\n",
      "Requirement already satisfied: tqdm<5.0.0,>=4.38.0 in c:\\users\\agh\\appdata\\local\\programs\\python\\python311\\lib\\site-packages (from spacy) (4.65.0)\n",
      "Requirement already satisfied: numpy>=1.15.0 in c:\\users\\agh\\appdata\\local\\programs\\python\\python311\\lib\\site-packages (from spacy) (1.25.2)\n",
      "Requirement already satisfied: requests<3.0.0,>=2.13.0 in c:\\users\\agh\\appdata\\local\\programs\\python\\python311\\lib\\site-packages (from spacy) (2.31.0)\n",
      "Requirement already satisfied: pydantic!=1.8,!=1.8.1,<1.11.0,>=1.7.4 in c:\\users\\agh\\appdata\\local\\programs\\python\\python311\\lib\\site-packages (from spacy) (1.10.12)\n",
      "Requirement already satisfied: jinja2 in c:\\users\\agh\\appdata\\local\\programs\\python\\python311\\lib\\site-packages (from spacy) (3.1.2)\n",
      "Requirement already satisfied: setuptools in c:\\users\\agh\\appdata\\local\\programs\\python\\python311\\lib\\site-packages (from spacy) (67.8.0)\n",
      "Requirement already satisfied: packaging>=20.0 in c:\\users\\agh\\appdata\\local\\programs\\python\\python311\\lib\\site-packages (from spacy) (23.1)\n",
      "Requirement already satisfied: langcodes<4.0.0,>=3.2.0 in c:\\users\\agh\\appdata\\local\\programs\\python\\python311\\lib\\site-packages (from spacy) (3.3.0)\n",
      "Requirement already satisfied: scipy>=1.5.0 in c:\\users\\agh\\appdata\\local\\programs\\python\\python311\\lib\\site-packages (from scikit-learn) (1.10.0)\n",
      "Requirement already satisfied: joblib>=1.1.1 in c:\\users\\agh\\appdata\\local\\programs\\python\\python311\\lib\\site-packages (from scikit-learn) (1.3.1)\n",
      "Requirement already satisfied: threadpoolctl>=2.0.0 in c:\\users\\agh\\appdata\\local\\programs\\python\\python311\\lib\\site-packages (from scikit-learn) (3.1.0)\n",
      "Requirement already satisfied: contourpy>=1.0.1 in c:\\users\\agh\\appdata\\local\\programs\\python\\python311\\lib\\site-packages (from matplotlib) (1.1.0)\n",
      "Requirement already satisfied: cycler>=0.10 in c:\\users\\agh\\appdata\\local\\programs\\python\\python311\\lib\\site-packages (from matplotlib) (0.11.0)\n",
      "Requirement already satisfied: fonttools>=4.22.0 in c:\\users\\agh\\appdata\\local\\programs\\python\\python311\\lib\\site-packages (from matplotlib) (4.40.0)\n",
      "Requirement already satisfied: kiwisolver>=1.0.1 in c:\\users\\agh\\appdata\\local\\programs\\python\\python311\\lib\\site-packages (from matplotlib) (1.4.4)\n",
      "Requirement already satisfied: pillow>=6.2.0 in c:\\users\\agh\\appdata\\local\\programs\\python\\python311\\lib\\site-packages (from matplotlib) (9.5.0)\n",
      "Requirement already satisfied: pyparsing>=2.3.1 in c:\\users\\agh\\appdata\\local\\programs\\python\\python311\\lib\\site-packages (from matplotlib) (3.1.0)\n",
      "Requirement already satisfied: python-dateutil>=2.7 in c:\\users\\agh\\appdata\\local\\programs\\python\\python311\\lib\\site-packages (from matplotlib) (2.8.2)\n",
      "Requirement already satisfied: pyarrow>=8.0.0 in c:\\users\\agh\\appdata\\local\\programs\\python\\python311\\lib\\site-packages (from datasets) (10.0.1)\n",
      "Requirement already satisfied: dill<0.3.7,>=0.3.0 in c:\\users\\agh\\appdata\\local\\programs\\python\\python311\\lib\\site-packages (from datasets) (0.3.6)\n",
      "Requirement already satisfied: pandas in c:\\users\\agh\\appdata\\local\\programs\\python\\python311\\lib\\site-packages (from datasets) (1.5.3)\n",
      "Requirement already satisfied: xxhash in c:\\users\\agh\\appdata\\local\\programs\\python\\python311\\lib\\site-packages (from datasets) (3.2.0)\n",
      "Requirement already satisfied: multiprocess in c:\\users\\agh\\appdata\\local\\programs\\python\\python311\\lib\\site-packages (from datasets) (0.70.14)\n",
      "Requirement already satisfied: fsspec>=2021.11.1 in c:\\users\\agh\\appdata\\local\\programs\\python\\python311\\lib\\site-packages (from fsspec[http]>=2021.11.1->datasets) (2023.6.0)\n",
      "Requirement already satisfied: aiohttp in c:\\users\\agh\\appdata\\local\\programs\\python\\python311\\lib\\site-packages (from datasets) (3.8.4)\n",
      "Requirement already satisfied: huggingface-hub<1.0.0,>=0.11.0 in c:\\users\\agh\\appdata\\local\\programs\\python\\python311\\lib\\site-packages (from datasets) (0.16.4)\n",
      "Requirement already satisfied: pyyaml>=5.1 in c:\\users\\agh\\appdata\\local\\programs\\python\\python311\\lib\\site-packages (from datasets) (6.0.1)\n",
      "Requirement already satisfied: attrs>=17.3.0 in c:\\users\\agh\\appdata\\local\\programs\\python\\python311\\lib\\site-packages (from aiohttp->datasets) (22.2.0)\n",
      "Requirement already satisfied: charset-normalizer<4.0,>=2.0 in c:\\users\\agh\\appdata\\local\\programs\\python\\python311\\lib\\site-packages (from aiohttp->datasets) (3.2.0)\n",
      "Requirement already satisfied: multidict<7.0,>=4.5 in c:\\users\\agh\\appdata\\local\\programs\\python\\python311\\lib\\site-packages (from aiohttp->datasets) (6.0.4)\n",
      "Requirement already satisfied: async-timeout<5.0,>=4.0.0a3 in c:\\users\\agh\\appdata\\local\\programs\\python\\python311\\lib\\site-packages (from aiohttp->datasets) (4.0.2)\n",
      "Requirement already satisfied: yarl<2.0,>=1.0 in c:\\users\\agh\\appdata\\local\\programs\\python\\python311\\lib\\site-packages (from aiohttp->datasets) (1.9.2)\n",
      "Requirement already satisfied: frozenlist>=1.1.1 in c:\\users\\agh\\appdata\\local\\programs\\python\\python311\\lib\\site-packages (from aiohttp->datasets) (1.3.3)\n",
      "Requirement already satisfied: aiosignal>=1.1.2 in c:\\users\\agh\\appdata\\local\\programs\\python\\python311\\lib\\site-packages (from aiohttp->datasets) (1.3.1)\n",
      "Requirement already satisfied: filelock in c:\\users\\agh\\appdata\\local\\programs\\python\\python311\\lib\\site-packages (from huggingface-hub<1.0.0,>=0.11.0->datasets) (3.12.2)\n",
      "Requirement already satisfied: typing-extensions>=3.7.4.3 in c:\\users\\agh\\appdata\\local\\programs\\python\\python311\\lib\\site-packages (from huggingface-hub<1.0.0,>=0.11.0->datasets) (4.7.1)\n",
      "Requirement already satisfied: six>=1.5 in c:\\users\\agh\\appdata\\local\\programs\\python\\python311\\lib\\site-packages (from python-dateutil>=2.7->matplotlib) (1.16.0)\n",
      "Requirement already satisfied: idna<4,>=2.5 in c:\\users\\agh\\appdata\\local\\programs\\python\\python311\\lib\\site-packages (from requests<3.0.0,>=2.13.0->spacy) (3.4)\n",
      "Requirement already satisfied: urllib3<3,>=1.21.1 in c:\\users\\agh\\appdata\\local\\programs\\python\\python311\\lib\\site-packages (from requests<3.0.0,>=2.13.0->spacy) (2.0.4)\n",
      "Requirement already satisfied: certifi>=2017.4.17 in c:\\users\\agh\\appdata\\local\\programs\\python\\python311\\lib\\site-packages (from requests<3.0.0,>=2.13.0->spacy) (2023.7.22)\n",
      "Requirement already satisfied: blis<0.8.0,>=0.7.8 in c:\\users\\agh\\appdata\\local\\programs\\python\\python311\\lib\\site-packages (from thinc<8.2.0,>=8.1.8->spacy) (0.7.10)\n",
      "Requirement already satisfied: confection<1.0.0,>=0.0.1 in c:\\users\\agh\\appdata\\local\\programs\\python\\python311\\lib\\site-packages (from thinc<8.2.0,>=8.1.8->spacy) (0.1.0)\n",
      "Requirement already satisfied: colorama in c:\\users\\agh\\appdata\\local\\programs\\python\\python311\\lib\\site-packages (from tqdm<5.0.0,>=4.38.0->spacy) (0.4.6)\n",
      "Requirement already satisfied: click<9.0.0,>=7.1.1 in c:\\users\\agh\\appdata\\local\\programs\\python\\python311\\lib\\site-packages (from typer<0.10.0,>=0.3.0->spacy) (8.1.6)\n",
      "Requirement already satisfied: MarkupSafe>=2.0 in c:\\users\\agh\\appdata\\local\\programs\\python\\python311\\lib\\site-packages (from jinja2->spacy) (2.1.3)\n",
      "Requirement already satisfied: pytz>=2020.1 in c:\\users\\agh\\appdata\\local\\programs\\python\\python311\\lib\\site-packages (from pandas->datasets) (2022.7)\n"
     ]
    },
    {
     "name": "stdout",
     "output_type": "stream",
     "text": [
      "Collecting en-core-web-sm==3.6.0\n",
      "  Downloading https://github.com/explosion/spacy-models/releases/download/en_core_web_sm-3.6.0/en_core_web_sm-3.6.0-py3-none-any.whl (12.8 MB)\n",
      "     ---------------------------------------- 0.0/12.8 MB ? eta -:--:--\n",
      "     ---------------------------------------- 0.0/12.8 MB 1.9 MB/s eta 0:00:07\n",
      "     ---------------------------------------- 0.1/12.8 MB 2.1 MB/s eta 0:00:06\n",
      "     - -------------------------------------- 0.4/12.8 MB 2.9 MB/s eta 0:00:05\n",
      "     - -------------------------------------- 0.6/12.8 MB 3.6 MB/s eta 0:00:04\n",
      "     -- ------------------------------------- 0.9/12.8 MB 4.2 MB/s eta 0:00:03\n",
      "     --- ------------------------------------ 1.3/12.8 MB 4.7 MB/s eta 0:00:03\n",
      "     ---- ----------------------------------- 1.3/12.8 MB 4.3 MB/s eta 0:00:03\n",
      "     ---- ----------------------------------- 1.6/12.8 MB 4.2 MB/s eta 0:00:03\n",
      "     ----- ---------------------------------- 1.6/12.8 MB 4.3 MB/s eta 0:00:03\n",
      "     ------ --------------------------------- 1.9/12.8 MB 4.2 MB/s eta 0:00:03\n",
      "     ------ --------------------------------- 2.1/12.8 MB 4.3 MB/s eta 0:00:03\n",
      "     ------- -------------------------------- 2.4/12.8 MB 4.4 MB/s eta 0:00:03\n",
      "     -------- ------------------------------- 2.7/12.8 MB 4.3 MB/s eta 0:00:03\n",
      "     --------- ------------------------------ 2.9/12.8 MB 4.4 MB/s eta 0:00:03\n",
      "     --------- ------------------------------ 3.0/12.8 MB 4.3 MB/s eta 0:00:03\n",
      "     ---------- ----------------------------- 3.4/12.8 MB 4.6 MB/s eta 0:00:03\n",
      "     ---------- ----------------------------- 3.4/12.8 MB 4.5 MB/s eta 0:00:03\n",
      "     ---------- ----------------------------- 3.4/12.8 MB 4.5 MB/s eta 0:00:03\n",
      "     ---------- ----------------------------- 3.4/12.8 MB 4.5 MB/s eta 0:00:03\n",
      "     ---------- ----------------------------- 3.5/12.8 MB 3.8 MB/s eta 0:00:03\n",
      "     ------------ --------------------------- 4.0/12.8 MB 4.1 MB/s eta 0:00:03\n",
      "     ------------ --------------------------- 4.1/12.8 MB 4.1 MB/s eta 0:00:03\n",
      "     ------------ --------------------------- 4.2/12.8 MB 4.0 MB/s eta 0:00:03\n",
      "     ------------ --------------------------- 4.2/12.8 MB 4.0 MB/s eta 0:00:03\n",
      "     ------------- -------------------------- 4.2/12.8 MB 3.7 MB/s eta 0:00:03\n",
      "     ------------- -------------------------- 4.2/12.8 MB 3.7 MB/s eta 0:00:03\n",
      "     ------------- -------------------------- 4.2/12.8 MB 3.7 MB/s eta 0:00:03\n",
      "     ------------- -------------------------- 4.2/12.8 MB 3.7 MB/s eta 0:00:03\n",
      "     ------------- -------------------------- 4.2/12.8 MB 3.7 MB/s eta 0:00:03\n",
      "     ------------- -------------------------- 4.2/12.8 MB 3.7 MB/s eta 0:00:03\n",
      "     ------------- -------------------------- 4.2/12.8 MB 3.7 MB/s eta 0:00:03\n",
      "     ------------- -------------------------- 4.2/12.8 MB 3.7 MB/s eta 0:00:03\n",
      "     ------------- -------------------------- 4.2/12.8 MB 3.7 MB/s eta 0:00:03\n",
      "     ------------- -------------------------- 4.2/12.8 MB 3.7 MB/s eta 0:00:03\n",
      "     ------------- -------------------------- 4.3/12.8 MB 2.6 MB/s eta 0:00:04\n",
      "     ------------- -------------------------- 4.3/12.8 MB 2.6 MB/s eta 0:00:04\n",
      "     -------------- ------------------------- 4.5/12.8 MB 2.6 MB/s eta 0:00:04\n",
      "     -------------- ------------------------- 4.7/12.8 MB 2.6 MB/s eta 0:00:04\n",
      "     --------------- ------------------------ 4.8/12.8 MB 2.6 MB/s eta 0:00:04\n",
      "     --------------- ------------------------ 5.1/12.8 MB 2.7 MB/s eta 0:00:03\n",
      "     ---------------- ----------------------- 5.3/12.8 MB 2.7 MB/s eta 0:00:03\n",
      "     ----------------- ---------------------- 5.5/12.8 MB 2.8 MB/s eta 0:00:03\n",
      "     ----------------- ---------------------- 5.7/12.8 MB 2.8 MB/s eta 0:00:03\n",
      "     ----------------- ---------------------- 5.7/12.8 MB 2.8 MB/s eta 0:00:03\n",
      "     ----------------- ---------------------- 5.7/12.8 MB 2.8 MB/s eta 0:00:03\n",
      "     ------------------ --------------------- 5.9/12.8 MB 2.7 MB/s eta 0:00:03\n",
      "     ------------------ --------------------- 6.1/12.8 MB 2.8 MB/s eta 0:00:03\n",
      "     ------------------- -------------------- 6.2/12.8 MB 2.8 MB/s eta 0:00:03\n",
      "     ------------------- -------------------- 6.4/12.8 MB 2.8 MB/s eta 0:00:03\n",
      "     -------------------- ------------------- 6.6/12.8 MB 2.8 MB/s eta 0:00:03\n",
      "     --------------------- ------------------ 6.9/12.8 MB 2.9 MB/s eta 0:00:03\n",
      "     --------------------- ------------------ 6.9/12.8 MB 2.9 MB/s eta 0:00:03\n",
      "     --------------------- ------------------ 6.9/12.8 MB 2.9 MB/s eta 0:00:03\n",
      "     --------------------- ------------------ 6.9/12.8 MB 2.9 MB/s eta 0:00:03\n",
      "     --------------------- ------------------ 6.9/12.8 MB 2.9 MB/s eta 0:00:03\n",
      "     --------------------- ------------------ 6.9/12.8 MB 2.9 MB/s eta 0:00:03\n",
      "     --------------------- ------------------ 6.9/12.8 MB 2.9 MB/s eta 0:00:03\n",
      "     --------------------- ------------------ 6.9/12.8 MB 2.9 MB/s eta 0:00:03\n",
      "     --------------------- ------------------ 6.9/12.8 MB 2.9 MB/s eta 0:00:03\n",
      "     --------------------- ------------------ 6.9/12.8 MB 2.9 MB/s eta 0:00:03\n",
      "     --------------------- ------------------ 6.9/12.8 MB 2.4 MB/s eta 0:00:03\n",
      "     --------------------- ------------------ 6.9/12.8 MB 2.4 MB/s eta 0:00:03\n",
      "     --------------------- ------------------ 6.9/12.8 MB 2.4 MB/s eta 0:00:03\n",
      "     --------------------- ------------------ 7.0/12.8 MB 2.4 MB/s eta 0:00:03\n",
      "     --------------------- ------------------ 7.0/12.8 MB 2.3 MB/s eta 0:00:03\n",
      "     ---------------------- ----------------- 7.1/12.8 MB 2.3 MB/s eta 0:00:03\n",
      "     ---------------------- ----------------- 7.1/12.8 MB 2.3 MB/s eta 0:00:03\n",
      "     ---------------------- ----------------- 7.2/12.8 MB 2.3 MB/s eta 0:00:03\n",
      "     ---------------------- ----------------- 7.3/12.8 MB 2.3 MB/s eta 0:00:03\n",
      "     ----------------------- ---------------- 7.4/12.8 MB 2.3 MB/s eta 0:00:03\n",
      "     ----------------------- ---------------- 7.5/12.8 MB 2.3 MB/s eta 0:00:03\n",
      "     ----------------------- ---------------- 7.5/12.8 MB 2.3 MB/s eta 0:00:03\n",
      "     ------------------------ --------------- 7.7/12.8 MB 2.3 MB/s eta 0:00:03\n",
      "     ------------------------ --------------- 7.9/12.8 MB 2.3 MB/s eta 0:00:03\n",
      "     ------------------------- -------------- 8.2/12.8 MB 2.4 MB/s eta 0:00:02\n",
      "     -------------------------- ------------- 8.5/12.8 MB 2.4 MB/s eta 0:00:02\n",
      "     --------------------------- ------------ 8.8/12.8 MB 2.5 MB/s eta 0:00:02\n",
      "     --------------------------- ------------ 8.8/12.8 MB 2.5 MB/s eta 0:00:02\n",
      "     --------------------------- ------------ 8.9/12.8 MB 2.4 MB/s eta 0:00:02\n",
      "     ---------------------------- ----------- 9.2/12.8 MB 2.5 MB/s eta 0:00:02\n",
      "     ----------------------------- ---------- 9.3/12.8 MB 2.5 MB/s eta 0:00:02\n",
      "     ----------------------------- ---------- 9.5/12.8 MB 2.5 MB/s eta 0:00:02\n",
      "     ------------------------------ --------- 9.7/12.8 MB 2.5 MB/s eta 0:00:02\n",
      "     ------------------------------- -------- 10.0/12.8 MB 2.6 MB/s eta 0:00:02\n",
      "     ------------------------------- -------- 10.2/12.8 MB 2.6 MB/s eta 0:00:02\n",
      "     -------------------------------- ------- 10.4/12.8 MB 2.6 MB/s eta 0:00:01\n",
      "     --------------------------------- ------ 10.6/12.8 MB 2.6 MB/s eta 0:00:01\n",
      "     --------------------------------- ------ 10.7/12.8 MB 2.6 MB/s eta 0:00:01\n",
      "     ---------------------------------- ----- 11.0/12.8 MB 2.6 MB/s eta 0:00:01\n",
      "     ---------------------------------- ----- 11.1/12.8 MB 2.6 MB/s eta 0:00:01\n",
      "     ---------------------------------- ----- 11.1/12.8 MB 2.6 MB/s eta 0:00:01\n",
      "     ---------------------------------- ----- 11.1/12.8 MB 2.5 MB/s eta 0:00:01\n",
      "     ---------------------------------- ----- 11.1/12.8 MB 2.5 MB/s eta 0:00:01\n",
      "     ----------------------------------- ---- 11.3/12.8 MB 2.5 MB/s eta 0:00:01\n",
      "     ----------------------------------- ---- 11.3/12.8 MB 2.5 MB/s eta 0:00:01\n",
      "     ----------------------------------- ---- 11.3/12.8 MB 2.5 MB/s eta 0:00:01\n",
      "     ----------------------------------- ---- 11.3/12.8 MB 2.5 MB/s eta 0:00:01\n",
      "     ----------------------------------- ---- 11.3/12.8 MB 2.5 MB/s eta 0:00:01\n",
      "     ----------------------------------- ---- 11.3/12.8 MB 2.5 MB/s eta 0:00:01\n",
      "     ----------------------------------- ---- 11.3/12.8 MB 2.5 MB/s eta 0:00:01\n",
      "     ----------------------------------- ---- 11.3/12.8 MB 2.5 MB/s eta 0:00:01\n",
      "     ----------------------------------- ---- 11.3/12.8 MB 2.5 MB/s eta 0:00:01\n",
      "     ----------------------------------- ---- 11.3/12.8 MB 2.5 MB/s eta 0:00:01\n",
      "     ----------------------------------- ---- 11.3/12.8 MB 2.3 MB/s eta 0:00:01\n",
      "     ------------------------------------ --- 11.5/12.8 MB 2.3 MB/s eta 0:00:01\n",
      "     ------------------------------------ --- 11.7/12.8 MB 2.3 MB/s eta 0:00:01\n",
      "     ------------------------------------ --- 11.8/12.8 MB 2.2 MB/s eta 0:00:01\n",
      "     ------------------------------------- -- 12.0/12.8 MB 2.3 MB/s eta 0:00:01\n",
      "     -------------------------------------- - 12.2/12.8 MB 2.3 MB/s eta 0:00:01\n",
      "     -------------------------------------- - 12.5/12.8 MB 2.3 MB/s eta 0:00:01\n",
      "     ---------------------------------------  12.7/12.8 MB 2.3 MB/s eta 0:00:01\n",
      "     ---------------------------------------  12.7/12.8 MB 2.3 MB/s eta 0:00:01\n",
      "     ---------------------------------------  12.8/12.8 MB 2.2 MB/s eta 0:00:01\n",
      "     ---------------------------------------- 12.8/12.8 MB 2.2 MB/s eta 0:00:00\n",
      "Requirement already satisfied: spacy<3.7.0,>=3.6.0 in c:\\users\\agh\\appdata\\local\\programs\\python\\python311\\lib\\site-packages (from en-core-web-sm==3.6.0) (3.6.0)\n",
      "Requirement already satisfied: spacy-legacy<3.1.0,>=3.0.11 in c:\\users\\agh\\appdata\\local\\programs\\python\\python311\\lib\\site-packages (from spacy<3.7.0,>=3.6.0->en-core-web-sm==3.6.0) (3.0.12)\n",
      "Requirement already satisfied: spacy-loggers<2.0.0,>=1.0.0 in c:\\users\\agh\\appdata\\local\\programs\\python\\python311\\lib\\site-packages (from spacy<3.7.0,>=3.6.0->en-core-web-sm==3.6.0) (1.0.4)\n",
      "Requirement already satisfied: murmurhash<1.1.0,>=0.28.0 in c:\\users\\agh\\appdata\\local\\programs\\python\\python311\\lib\\site-packages (from spacy<3.7.0,>=3.6.0->en-core-web-sm==3.6.0) (1.0.9)\n",
      "Requirement already satisfied: cymem<2.1.0,>=2.0.2 in c:\\users\\agh\\appdata\\local\\programs\\python\\python311\\lib\\site-packages (from spacy<3.7.0,>=3.6.0->en-core-web-sm==3.6.0) (2.0.7)\n",
      "Requirement already satisfied: preshed<3.1.0,>=3.0.2 in c:\\users\\agh\\appdata\\local\\programs\\python\\python311\\lib\\site-packages (from spacy<3.7.0,>=3.6.0->en-core-web-sm==3.6.0) (3.0.8)\n",
      "Requirement already satisfied: thinc<8.2.0,>=8.1.8 in c:\\users\\agh\\appdata\\local\\programs\\python\\python311\\lib\\site-packages (from spacy<3.7.0,>=3.6.0->en-core-web-sm==3.6.0) (8.1.10)\n",
      "Requirement already satisfied: wasabi<1.2.0,>=0.9.1 in c:\\users\\agh\\appdata\\local\\programs\\python\\python311\\lib\\site-packages (from spacy<3.7.0,>=3.6.0->en-core-web-sm==3.6.0) (1.1.2)\n",
      "Requirement already satisfied: srsly<3.0.0,>=2.4.3 in c:\\users\\agh\\appdata\\local\\programs\\python\\python311\\lib\\site-packages (from spacy<3.7.0,>=3.6.0->en-core-web-sm==3.6.0) (2.4.7)\n",
      "Requirement already satisfied: catalogue<2.1.0,>=2.0.6 in c:\\users\\agh\\appdata\\local\\programs\\python\\python311\\lib\\site-packages (from spacy<3.7.0,>=3.6.0->en-core-web-sm==3.6.0) (2.0.9)\n",
      "Requirement already satisfied: typer<0.10.0,>=0.3.0 in c:\\users\\agh\\appdata\\local\\programs\\python\\python311\\lib\\site-packages (from spacy<3.7.0,>=3.6.0->en-core-web-sm==3.6.0) (0.7.0)\n",
      "Requirement already satisfied: pathy>=0.10.0 in c:\\users\\agh\\appdata\\local\\programs\\python\\python311\\lib\\site-packages (from spacy<3.7.0,>=3.6.0->en-core-web-sm==3.6.0) (0.10.2)\n",
      "Requirement already satisfied: smart-open<7.0.0,>=5.2.1 in c:\\users\\agh\\appdata\\local\\programs\\python\\python311\\lib\\site-packages (from spacy<3.7.0,>=3.6.0->en-core-web-sm==3.6.0) (6.3.0)\n",
      "Requirement already satisfied: tqdm<5.0.0,>=4.38.0 in c:\\users\\agh\\appdata\\local\\programs\\python\\python311\\lib\\site-packages (from spacy<3.7.0,>=3.6.0->en-core-web-sm==3.6.0) (4.65.0)\n",
      "Requirement already satisfied: numpy>=1.15.0 in c:\\users\\agh\\appdata\\local\\programs\\python\\python311\\lib\\site-packages (from spacy<3.7.0,>=3.6.0->en-core-web-sm==3.6.0) (1.25.2)\n",
      "Requirement already satisfied: requests<3.0.0,>=2.13.0 in c:\\users\\agh\\appdata\\local\\programs\\python\\python311\\lib\\site-packages (from spacy<3.7.0,>=3.6.0->en-core-web-sm==3.6.0) (2.31.0)\n",
      "Requirement already satisfied: pydantic!=1.8,!=1.8.1,<1.11.0,>=1.7.4 in c:\\users\\agh\\appdata\\local\\programs\\python\\python311\\lib\\site-packages (from spacy<3.7.0,>=3.6.0->en-core-web-sm==3.6.0) (1.10.12)\n",
      "Requirement already satisfied: jinja2 in c:\\users\\agh\\appdata\\local\\programs\\python\\python311\\lib\\site-packages (from spacy<3.7.0,>=3.6.0->en-core-web-sm==3.6.0) (3.1.2)\n",
      "Requirement already satisfied: setuptools in c:\\users\\agh\\appdata\\local\\programs\\python\\python311\\lib\\site-packages (from spacy<3.7.0,>=3.6.0->en-core-web-sm==3.6.0) (67.8.0)\n",
      "Requirement already satisfied: packaging>=20.0 in c:\\users\\agh\\appdata\\local\\programs\\python\\python311\\lib\\site-packages (from spacy<3.7.0,>=3.6.0->en-core-web-sm==3.6.0) (23.1)\n",
      "Requirement already satisfied: langcodes<4.0.0,>=3.2.0 in c:\\users\\agh\\appdata\\local\\programs\\python\\python311\\lib\\site-packages (from spacy<3.7.0,>=3.6.0->en-core-web-sm==3.6.0) (3.3.0)\n",
      "Requirement already satisfied: typing-extensions>=4.2.0 in c:\\users\\agh\\appdata\\local\\programs\\python\\python311\\lib\\site-packages (from pydantic!=1.8,!=1.8.1,<1.11.0,>=1.7.4->spacy<3.7.0,>=3.6.0->en-core-web-sm==3.6.0) (4.7.1)\n",
      "Requirement already satisfied: charset-normalizer<4,>=2 in c:\\users\\agh\\appdata\\local\\programs\\python\\python311\\lib\\site-packages (from requests<3.0.0,>=2.13.0->spacy<3.7.0,>=3.6.0->en-core-web-sm==3.6.0) (3.2.0)\n",
      "Requirement already satisfied: idna<4,>=2.5 in c:\\users\\agh\\appdata\\local\\programs\\python\\python311\\lib\\site-packages (from requests<3.0.0,>=2.13.0->spacy<3.7.0,>=3.6.0->en-core-web-sm==3.6.0) (3.4)\n",
      "Requirement already satisfied: urllib3<3,>=1.21.1 in c:\\users\\agh\\appdata\\local\\programs\\python\\python311\\lib\\site-packages (from requests<3.0.0,>=2.13.0->spacy<3.7.0,>=3.6.0->en-core-web-sm==3.6.0) (2.0.4)\n",
      "Requirement already satisfied: certifi>=2017.4.17 in c:\\users\\agh\\appdata\\local\\programs\\python\\python311\\lib\\site-packages (from requests<3.0.0,>=2.13.0->spacy<3.7.0,>=3.6.0->en-core-web-sm==3.6.0) (2023.7.22)\n",
      "Requirement already satisfied: blis<0.8.0,>=0.7.8 in c:\\users\\agh\\appdata\\local\\programs\\python\\python311\\lib\\site-packages (from thinc<8.2.0,>=8.1.8->spacy<3.7.0,>=3.6.0->en-core-web-sm==3.6.0) (0.7.10)\n",
      "Requirement already satisfied: confection<1.0.0,>=0.0.1 in c:\\users\\agh\\appdata\\local\\programs\\python\\python311\\lib\\site-packages (from thinc<8.2.0,>=8.1.8->spacy<3.7.0,>=3.6.0->en-core-web-sm==3.6.0) (0.1.0)\n",
      "Requirement already satisfied: colorama in c:\\users\\agh\\appdata\\local\\programs\\python\\python311\\lib\\site-packages (from tqdm<5.0.0,>=4.38.0->spacy<3.7.0,>=3.6.0->en-core-web-sm==3.6.0) (0.4.6)\n",
      "Requirement already satisfied: click<9.0.0,>=7.1.1 in c:\\users\\agh\\appdata\\local\\programs\\python\\python311\\lib\\site-packages (from typer<0.10.0,>=0.3.0->spacy<3.7.0,>=3.6.0->en-core-web-sm==3.6.0) (8.1.6)\n",
      "Requirement already satisfied: MarkupSafe>=2.0 in c:\\users\\agh\\appdata\\local\\programs\\python\\python311\\lib\\site-packages (from jinja2->spacy<3.7.0,>=3.6.0->en-core-web-sm==3.6.0) (2.1.3)\n",
      "\u001b[38;5;2m[+] Download and installation successful\u001b[0m\n",
      "You can now load the package via spacy.load('en_core_web_sm')\n"
     ]
    }
   ],
   "source": [
    "!pip install spacy scikit-learn matplotlib datasets\n",
    "!python -m spacy download en_core_web_sm"
   ]
  },
  {
   "cell_type": "code",
   "execution_count": 55,
   "metadata": {
    "id": "b-4JZPM9X5xI"
   },
   "outputs": [
    {
     "name": "stdout",
     "output_type": "stream",
     "text": [
      "Collecting pl-core-news-sm==3.6.0\n",
      "  Downloading https://github.com/explosion/spacy-models/releases/download/pl_core_news_sm-3.6.0/pl_core_news_sm-3.6.0-py3-none-any.whl (20.2 MB)\n",
      "     ---------------------------------------- 0.0/20.2 MB ? eta -:--:--\n",
      "     ---------------------------------------- 0.1/20.2 MB 2.4 MB/s eta 0:00:09\n",
      "      --------------------------------------- 0.3/20.2 MB 2.9 MB/s eta 0:00:07\n",
      "      --------------------------------------- 0.4/20.2 MB 3.3 MB/s eta 0:00:07\n",
      "     - -------------------------------------- 0.6/20.2 MB 3.6 MB/s eta 0:00:06\n",
      "     - -------------------------------------- 0.8/20.2 MB 3.5 MB/s eta 0:00:06\n",
      "     - -------------------------------------- 0.9/20.2 MB 3.3 MB/s eta 0:00:06\n",
      "     -- ------------------------------------- 1.1/20.2 MB 3.5 MB/s eta 0:00:06\n",
      "     --- ------------------------------------ 1.6/20.2 MB 4.1 MB/s eta 0:00:05\n",
      "     --- ------------------------------------ 1.9/20.2 MB 4.4 MB/s eta 0:00:05\n",
      "     ---- ----------------------------------- 2.2/20.2 MB 4.8 MB/s eta 0:00:04\n",
      "     ----- ---------------------------------- 2.6/20.2 MB 4.9 MB/s eta 0:00:04\n",
      "     ----- ---------------------------------- 3.0/20.2 MB 5.3 MB/s eta 0:00:04\n",
      "     ------ --------------------------------- 3.1/20.2 MB 5.0 MB/s eta 0:00:04\n",
      "     ------ --------------------------------- 3.1/20.2 MB 5.0 MB/s eta 0:00:04\n",
      "     ------ --------------------------------- 3.2/20.2 MB 4.4 MB/s eta 0:00:04\n",
      "     ------ --------------------------------- 3.2/20.2 MB 4.4 MB/s eta 0:00:04\n",
      "     ------ --------------------------------- 3.2/20.2 MB 4.4 MB/s eta 0:00:04\n",
      "     ------ --------------------------------- 3.2/20.2 MB 4.4 MB/s eta 0:00:04\n",
      "     ------ --------------------------------- 3.2/20.2 MB 4.4 MB/s eta 0:00:04\n",
      "     ------ --------------------------------- 3.2/20.2 MB 4.4 MB/s eta 0:00:04\n",
      "     ------ --------------------------------- 3.2/20.2 MB 4.4 MB/s eta 0:00:04\n",
      "     ------ --------------------------------- 3.2/20.2 MB 4.4 MB/s eta 0:00:04\n",
      "     ------ --------------------------------- 3.2/20.2 MB 3.0 MB/s eta 0:00:06\n",
      "     ------ --------------------------------- 3.5/20.2 MB 3.0 MB/s eta 0:00:06\n",
      "     ------ --------------------------------- 3.5/20.2 MB 2.9 MB/s eta 0:00:06\n",
      "     ------- -------------------------------- 3.7/20.2 MB 3.0 MB/s eta 0:00:06\n",
      "     ------- -------------------------------- 3.9/20.2 MB 3.0 MB/s eta 0:00:06\n",
      "     -------- ------------------------------- 4.3/20.2 MB 3.2 MB/s eta 0:00:06\n",
      "     --------- ------------------------------ 4.7/20.2 MB 3.4 MB/s eta 0:00:05\n",
      "     --------- ------------------------------ 5.0/20.2 MB 3.5 MB/s eta 0:00:05\n",
      "     ---------- ----------------------------- 5.2/20.2 MB 3.5 MB/s eta 0:00:05\n",
      "     ---------- ----------------------------- 5.2/20.2 MB 3.5 MB/s eta 0:00:05\n",
      "     ---------- ----------------------------- 5.3/20.2 MB 3.4 MB/s eta 0:00:05\n",
      "     ---------- ----------------------------- 5.3/20.2 MB 3.4 MB/s eta 0:00:05\n",
      "     ---------- ----------------------------- 5.3/20.2 MB 3.4 MB/s eta 0:00:05\n",
      "     ---------- ----------------------------- 5.3/20.2 MB 3.4 MB/s eta 0:00:05\n",
      "     ---------- ----------------------------- 5.3/20.2 MB 3.4 MB/s eta 0:00:05\n",
      "     ---------- ----------------------------- 5.3/20.2 MB 3.4 MB/s eta 0:00:05\n",
      "     ---------- ----------------------------- 5.3/20.2 MB 3.4 MB/s eta 0:00:05\n",
      "     ---------- ----------------------------- 5.3/20.2 MB 3.4 MB/s eta 0:00:05\n",
      "     ---------- ----------------------------- 5.3/20.2 MB 3.4 MB/s eta 0:00:05\n",
      "     ---------- ----------------------------- 5.4/20.2 MB 2.7 MB/s eta 0:00:06\n",
      "     ---------- ----------------------------- 5.5/20.2 MB 2.7 MB/s eta 0:00:06\n",
      "     ----------- ---------------------------- 5.7/20.2 MB 2.7 MB/s eta 0:00:06\n",
      "     ----------- ---------------------------- 5.9/20.2 MB 2.7 MB/s eta 0:00:06\n",
      "     ------------ --------------------------- 6.1/20.2 MB 2.8 MB/s eta 0:00:06\n",
      "     ------------ --------------------------- 6.4/20.2 MB 2.9 MB/s eta 0:00:05\n",
      "     ------------- -------------------------- 6.6/20.2 MB 2.9 MB/s eta 0:00:05\n",
      "     ------------- -------------------------- 6.9/20.2 MB 3.0 MB/s eta 0:00:05\n",
      "     -------------- ------------------------- 7.1/20.2 MB 3.0 MB/s eta 0:00:05\n",
      "     -------------- ------------------------- 7.5/20.2 MB 3.1 MB/s eta 0:00:05\n",
      "     --------------- ------------------------ 7.6/20.2 MB 3.1 MB/s eta 0:00:05\n",
      "     --------------- ------------------------ 7.7/20.2 MB 3.1 MB/s eta 0:00:05\n",
      "     --------------- ------------------------ 7.7/20.2 MB 3.1 MB/s eta 0:00:05\n",
      "     --------------- ------------------------ 7.7/20.2 MB 3.1 MB/s eta 0:00:05\n",
      "     --------------- ------------------------ 7.7/20.2 MB 3.1 MB/s eta 0:00:05\n",
      "     --------------- ------------------------ 7.7/20.2 MB 3.1 MB/s eta 0:00:05\n",
      "     --------------- ------------------------ 7.7/20.2 MB 3.1 MB/s eta 0:00:05\n",
      "     --------------- ------------------------ 7.7/20.2 MB 3.1 MB/s eta 0:00:05\n",
      "     --------------- ------------------------ 7.7/20.2 MB 3.1 MB/s eta 0:00:05\n",
      "     --------------- ------------------------ 7.7/20.2 MB 3.1 MB/s eta 0:00:05\n",
      "     --------------- ------------------------ 7.7/20.2 MB 3.1 MB/s eta 0:00:05\n",
      "     --------------- ------------------------ 7.7/20.2 MB 3.1 MB/s eta 0:00:05\n",
      "     --------------- ------------------------ 7.7/20.2 MB 3.1 MB/s eta 0:00:05\n",
      "     --------------- ------------------------ 7.7/20.2 MB 3.1 MB/s eta 0:00:05\n",
      "     --------------- ------------------------ 7.7/20.2 MB 3.1 MB/s eta 0:00:05\n",
      "     --------------- ------------------------ 7.7/20.2 MB 3.1 MB/s eta 0:00:05\n",
      "     --------------- ------------------------ 7.7/20.2 MB 3.1 MB/s eta 0:00:05\n",
      "     --------------- ------------------------ 7.7/20.2 MB 3.1 MB/s eta 0:00:05\n",
      "     --------------- ------------------------ 7.7/20.2 MB 3.1 MB/s eta 0:00:05\n",
      "     --------------- ------------------------ 7.7/20.2 MB 3.1 MB/s eta 0:00:05\n",
      "     --------------- ------------------------ 7.7/20.2 MB 3.1 MB/s eta 0:00:05\n",
      "     --------------- ------------------------ 7.7/20.2 MB 3.1 MB/s eta 0:00:05\n",
      "     --------------- ------------------------ 7.7/20.2 MB 3.1 MB/s eta 0:00:05\n",
      "     --------------- ------------------------ 7.7/20.2 MB 3.1 MB/s eta 0:00:05\n",
      "     --------------- ------------------------ 7.7/20.2 MB 3.1 MB/s eta 0:00:05\n",
      "     --------------- ------------------------ 7.7/20.2 MB 3.1 MB/s eta 0:00:05\n",
      "     --------------- ------------------------ 7.7/20.2 MB 2.1 MB/s eta 0:00:07\n",
      "     --------------- ------------------------ 7.7/20.2 MB 2.1 MB/s eta 0:00:07\n",
      "     --------------- ------------------------ 7.9/20.2 MB 2.1 MB/s eta 0:00:06\n",
      "     ---------------- ----------------------- 8.1/20.2 MB 2.1 MB/s eta 0:00:06\n",
      "     ---------------- ----------------------- 8.3/20.2 MB 2.1 MB/s eta 0:00:06\n",
      "     ---------------- ----------------------- 8.6/20.2 MB 2.2 MB/s eta 0:00:06\n",
      "     ----------------- ---------------------- 8.8/20.2 MB 2.2 MB/s eta 0:00:06\n",
      "     ----------------- ---------------------- 9.1/20.2 MB 2.2 MB/s eta 0:00:05\n",
      "     ------------------ --------------------- 9.3/20.2 MB 2.3 MB/s eta 0:00:05\n",
      "     ------------------- -------------------- 9.6/20.2 MB 2.3 MB/s eta 0:00:05\n",
      "     ------------------- -------------------- 9.9/20.2 MB 2.4 MB/s eta 0:00:05\n",
      "     -------------------- ------------------- 10.2/20.2 MB 2.4 MB/s eta 0:00:05\n",
      "     -------------------- ------------------- 10.5/20.2 MB 2.4 MB/s eta 0:00:04\n",
      "     --------------------- ------------------ 10.8/20.2 MB 2.5 MB/s eta 0:00:04\n",
      "     --------------------- ------------------ 11.1/20.2 MB 2.5 MB/s eta 0:00:04\n",
      "     ---------------------- ----------------- 11.3/20.2 MB 2.5 MB/s eta 0:00:04\n",
      "     ---------------------- ----------------- 11.3/20.2 MB 2.5 MB/s eta 0:00:04\n",
      "     ---------------------- ----------------- 11.3/20.2 MB 2.5 MB/s eta 0:00:04\n",
      "     ---------------------- ----------------- 11.4/20.2 MB 2.4 MB/s eta 0:00:04\n",
      "     ----------------------- ---------------- 11.7/20.2 MB 2.4 MB/s eta 0:00:04\n",
      "     ----------------------- ---------------- 11.8/20.2 MB 2.4 MB/s eta 0:00:04\n",
      "     ----------------------- ---------------- 11.8/20.2 MB 2.4 MB/s eta 0:00:04\n",
      "     ----------------------- ---------------- 11.8/20.2 MB 2.4 MB/s eta 0:00:04\n",
      "     ------------------------ --------------- 12.1/20.2 MB 2.3 MB/s eta 0:00:04\n",
      "     ------------------------ --------------- 12.2/20.2 MB 2.3 MB/s eta 0:00:04\n",
      "     ------------------------ --------------- 12.4/20.2 MB 2.3 MB/s eta 0:00:04\n",
      "     ------------------------ --------------- 12.5/20.2 MB 2.3 MB/s eta 0:00:04\n",
      "     ------------------------- -------------- 12.6/20.2 MB 2.3 MB/s eta 0:00:04\n",
      "     ------------------------- -------------- 12.7/20.2 MB 2.2 MB/s eta 0:00:04\n",
      "     ------------------------- -------------- 12.8/20.2 MB 2.2 MB/s eta 0:00:04\n",
      "     ------------------------- -------------- 13.0/20.2 MB 2.2 MB/s eta 0:00:04\n",
      "     ------------------------- -------------- 13.1/20.2 MB 2.2 MB/s eta 0:00:04\n",
      "     -------------------------- ------------- 13.2/20.2 MB 2.2 MB/s eta 0:00:04\n",
      "     -------------------------- ------------- 13.3/20.2 MB 2.2 MB/s eta 0:00:04\n",
      "     -------------------------- ------------- 13.4/20.2 MB 2.4 MB/s eta 0:00:03\n",
      "     -------------------------- ------------- 13.5/20.2 MB 2.4 MB/s eta 0:00:03\n",
      "     --------------------------- ------------ 13.7/20.2 MB 2.4 MB/s eta 0:00:03\n",
      "     --------------------------- ------------ 13.8/20.2 MB 2.4 MB/s eta 0:00:03\n",
      "     --------------------------- ------------ 13.9/20.2 MB 2.4 MB/s eta 0:00:03\n",
      "     --------------------------- ------------ 14.0/20.2 MB 2.4 MB/s eta 0:00:03\n",
      "     --------------------------- ------------ 14.0/20.2 MB 2.4 MB/s eta 0:00:03\n",
      "     --------------------------- ------------ 14.1/20.2 MB 2.3 MB/s eta 0:00:03\n",
      "     ---------------------------- ----------- 14.3/20.2 MB 2.3 MB/s eta 0:00:03\n",
      "     ---------------------------- ----------- 14.4/20.2 MB 2.3 MB/s eta 0:00:03\n",
      "     ---------------------------- ----------- 14.5/20.2 MB 2.3 MB/s eta 0:00:03\n",
      "     ----------------------------- ---------- 14.7/20.2 MB 2.3 MB/s eta 0:00:03\n",
      "     ----------------------------- ---------- 14.8/20.2 MB 2.3 MB/s eta 0:00:03\n",
      "     ----------------------------- ---------- 14.9/20.2 MB 2.3 MB/s eta 0:00:03\n",
      "     ----------------------------- ---------- 15.0/20.2 MB 2.2 MB/s eta 0:00:03\n",
      "     ----------------------------- ---------- 15.1/20.2 MB 2.2 MB/s eta 0:00:03\n",
      "     ------------------------------ --------- 15.3/20.2 MB 2.2 MB/s eta 0:00:03\n",
      "     ------------------------------ --------- 15.4/20.2 MB 2.2 MB/s eta 0:00:03\n",
      "     ------------------------------ --------- 15.5/20.2 MB 2.2 MB/s eta 0:00:03\n",
      "     ------------------------------ --------- 15.6/20.2 MB 2.4 MB/s eta 0:00:02\n",
      "     ------------------------------- -------- 15.7/20.2 MB 2.4 MB/s eta 0:00:02\n",
      "     ------------------------------- -------- 15.8/20.2 MB 2.4 MB/s eta 0:00:02\n",
      "     ------------------------------- -------- 16.0/20.2 MB 2.4 MB/s eta 0:00:02\n",
      "     ------------------------------- -------- 16.1/20.2 MB 2.4 MB/s eta 0:00:02\n",
      "     ------------------------------- -------- 16.2/20.2 MB 2.4 MB/s eta 0:00:02\n",
      "     -------------------------------- ------- 16.3/20.2 MB 2.4 MB/s eta 0:00:02\n",
      "     -------------------------------- ------- 16.4/20.2 MB 2.4 MB/s eta 0:00:02\n",
      "     -------------------------------- ------- 16.5/20.2 MB 2.3 MB/s eta 0:00:02\n",
      "     -------------------------------- ------- 16.6/20.2 MB 2.3 MB/s eta 0:00:02\n",
      "     --------------------------------- ------ 16.8/20.2 MB 2.3 MB/s eta 0:00:02\n",
      "     --------------------------------- ------ 16.8/20.2 MB 2.3 MB/s eta 0:00:02\n",
      "     --------------------------------- ------ 16.9/20.2 MB 2.3 MB/s eta 0:00:02\n",
      "     --------------------------------- ------ 16.9/20.2 MB 2.3 MB/s eta 0:00:02\n",
      "     --------------------------------- ------ 16.9/20.2 MB 2.2 MB/s eta 0:00:02\n",
      "     --------------------------------- ------ 17.0/20.2 MB 2.2 MB/s eta 0:00:02\n",
      "     ---------------------------------- ----- 17.2/20.2 MB 2.2 MB/s eta 0:00:02\n",
      "     ---------------------------------- ----- 17.4/20.2 MB 2.2 MB/s eta 0:00:02\n",
      "     ---------------------------------- ----- 17.5/20.2 MB 2.2 MB/s eta 0:00:02\n",
      "     ----------------------------------- ---- 17.7/20.2 MB 2.2 MB/s eta 0:00:02\n",
      "     ----------------------------------- ---- 17.8/20.2 MB 2.2 MB/s eta 0:00:02\n",
      "     ----------------------------------- ---- 18.0/20.2 MB 3.0 MB/s eta 0:00:01\n",
      "     ----------------------------------- ---- 18.1/20.2 MB 3.0 MB/s eta 0:00:01\n",
      "     ----------------------------------- ---- 18.2/20.2 MB 2.9 MB/s eta 0:00:01\n",
      "     ------------------------------------ --- 18.3/20.2 MB 2.9 MB/s eta 0:00:01\n",
      "     ------------------------------------ --- 18.4/20.2 MB 2.9 MB/s eta 0:00:01\n",
      "     ------------------------------------ --- 18.5/20.2 MB 2.9 MB/s eta 0:00:01\n",
      "     ------------------------------------- -- 18.7/20.2 MB 2.9 MB/s eta 0:00:01\n",
      "     ------------------------------------- -- 18.8/20.2 MB 2.8 MB/s eta 0:00:01\n",
      "     ------------------------------------- -- 18.9/20.2 MB 2.8 MB/s eta 0:00:01\n",
      "     ------------------------------------- -- 19.1/20.2 MB 2.8 MB/s eta 0:00:01\n",
      "     ------------------------------------- -- 19.2/20.2 MB 2.8 MB/s eta 0:00:01\n",
      "     -------------------------------------- - 19.3/20.2 MB 2.8 MB/s eta 0:00:01\n",
      "     -------------------------------------- - 19.4/20.2 MB 2.8 MB/s eta 0:00:01\n",
      "     -------------------------------------- - 19.4/20.2 MB 2.7 MB/s eta 0:00:01\n",
      "     -------------------------------------- - 19.6/20.2 MB 2.7 MB/s eta 0:00:01\n",
      "     -------------------------------------- - 19.7/20.2 MB 2.7 MB/s eta 0:00:01\n",
      "     ---------------------------------------  19.9/20.2 MB 2.7 MB/s eta 0:00:01\n",
      "     ---------------------------------------  20.0/20.2 MB 2.6 MB/s eta 0:00:01\n",
      "     ---------------------------------------  20.1/20.2 MB 2.6 MB/s eta 0:00:01\n",
      "     ---------------------------------------  20.2/20.2 MB 2.6 MB/s eta 0:00:01\n",
      "     ---------------------------------------  20.2/20.2 MB 2.6 MB/s eta 0:00:01\n",
      "     ---------------------------------------- 20.2/20.2 MB 2.6 MB/s eta 0:00:00\n",
      "Requirement already satisfied: spacy<3.7.0,>=3.6.0 in c:\\users\\agh\\appdata\\local\\programs\\python\\python311\\lib\\site-packages (from pl-core-news-sm==3.6.0) (3.6.0)\n",
      "Requirement already satisfied: spacy-legacy<3.1.0,>=3.0.11 in c:\\users\\agh\\appdata\\local\\programs\\python\\python311\\lib\\site-packages (from spacy<3.7.0,>=3.6.0->pl-core-news-sm==3.6.0) (3.0.12)\n",
      "Requirement already satisfied: spacy-loggers<2.0.0,>=1.0.0 in c:\\users\\agh\\appdata\\local\\programs\\python\\python311\\lib\\site-packages (from spacy<3.7.0,>=3.6.0->pl-core-news-sm==3.6.0) (1.0.4)\n",
      "Requirement already satisfied: murmurhash<1.1.0,>=0.28.0 in c:\\users\\agh\\appdata\\local\\programs\\python\\python311\\lib\\site-packages (from spacy<3.7.0,>=3.6.0->pl-core-news-sm==3.6.0) (1.0.9)\n",
      "Requirement already satisfied: cymem<2.1.0,>=2.0.2 in c:\\users\\agh\\appdata\\local\\programs\\python\\python311\\lib\\site-packages (from spacy<3.7.0,>=3.6.0->pl-core-news-sm==3.6.0) (2.0.7)\n",
      "Requirement already satisfied: preshed<3.1.0,>=3.0.2 in c:\\users\\agh\\appdata\\local\\programs\\python\\python311\\lib\\site-packages (from spacy<3.7.0,>=3.6.0->pl-core-news-sm==3.6.0) (3.0.8)\n",
      "Requirement already satisfied: thinc<8.2.0,>=8.1.8 in c:\\users\\agh\\appdata\\local\\programs\\python\\python311\\lib\\site-packages (from spacy<3.7.0,>=3.6.0->pl-core-news-sm==3.6.0) (8.1.10)\n",
      "Requirement already satisfied: wasabi<1.2.0,>=0.9.1 in c:\\users\\agh\\appdata\\local\\programs\\python\\python311\\lib\\site-packages (from spacy<3.7.0,>=3.6.0->pl-core-news-sm==3.6.0) (1.1.2)\n",
      "Requirement already satisfied: srsly<3.0.0,>=2.4.3 in c:\\users\\agh\\appdata\\local\\programs\\python\\python311\\lib\\site-packages (from spacy<3.7.0,>=3.6.0->pl-core-news-sm==3.6.0) (2.4.7)\n",
      "Requirement already satisfied: catalogue<2.1.0,>=2.0.6 in c:\\users\\agh\\appdata\\local\\programs\\python\\python311\\lib\\site-packages (from spacy<3.7.0,>=3.6.0->pl-core-news-sm==3.6.0) (2.0.9)\n",
      "Requirement already satisfied: typer<0.10.0,>=0.3.0 in c:\\users\\agh\\appdata\\local\\programs\\python\\python311\\lib\\site-packages (from spacy<3.7.0,>=3.6.0->pl-core-news-sm==3.6.0) (0.7.0)\n",
      "Requirement already satisfied: pathy>=0.10.0 in c:\\users\\agh\\appdata\\local\\programs\\python\\python311\\lib\\site-packages (from spacy<3.7.0,>=3.6.0->pl-core-news-sm==3.6.0) (0.10.2)\n",
      "Requirement already satisfied: smart-open<7.0.0,>=5.2.1 in c:\\users\\agh\\appdata\\local\\programs\\python\\python311\\lib\\site-packages (from spacy<3.7.0,>=3.6.0->pl-core-news-sm==3.6.0) (6.3.0)\n",
      "Requirement already satisfied: tqdm<5.0.0,>=4.38.0 in c:\\users\\agh\\appdata\\local\\programs\\python\\python311\\lib\\site-packages (from spacy<3.7.0,>=3.6.0->pl-core-news-sm==3.6.0) (4.65.0)\n",
      "Requirement already satisfied: numpy>=1.15.0 in c:\\users\\agh\\appdata\\local\\programs\\python\\python311\\lib\\site-packages (from spacy<3.7.0,>=3.6.0->pl-core-news-sm==3.6.0) (1.25.2)\n",
      "Requirement already satisfied: requests<3.0.0,>=2.13.0 in c:\\users\\agh\\appdata\\local\\programs\\python\\python311\\lib\\site-packages (from spacy<3.7.0,>=3.6.0->pl-core-news-sm==3.6.0) (2.31.0)\n",
      "Requirement already satisfied: pydantic!=1.8,!=1.8.1,<1.11.0,>=1.7.4 in c:\\users\\agh\\appdata\\local\\programs\\python\\python311\\lib\\site-packages (from spacy<3.7.0,>=3.6.0->pl-core-news-sm==3.6.0) (1.10.12)\n",
      "Requirement already satisfied: jinja2 in c:\\users\\agh\\appdata\\local\\programs\\python\\python311\\lib\\site-packages (from spacy<3.7.0,>=3.6.0->pl-core-news-sm==3.6.0) (3.1.2)\n",
      "Requirement already satisfied: setuptools in c:\\users\\agh\\appdata\\local\\programs\\python\\python311\\lib\\site-packages (from spacy<3.7.0,>=3.6.0->pl-core-news-sm==3.6.0) (67.8.0)\n",
      "Requirement already satisfied: packaging>=20.0 in c:\\users\\agh\\appdata\\local\\programs\\python\\python311\\lib\\site-packages (from spacy<3.7.0,>=3.6.0->pl-core-news-sm==3.6.0) (23.1)\n",
      "Requirement already satisfied: langcodes<4.0.0,>=3.2.0 in c:\\users\\agh\\appdata\\local\\programs\\python\\python311\\lib\\site-packages (from spacy<3.7.0,>=3.6.0->pl-core-news-sm==3.6.0) (3.3.0)\n",
      "Requirement already satisfied: typing-extensions>=4.2.0 in c:\\users\\agh\\appdata\\local\\programs\\python\\python311\\lib\\site-packages (from pydantic!=1.8,!=1.8.1,<1.11.0,>=1.7.4->spacy<3.7.0,>=3.6.0->pl-core-news-sm==3.6.0) (4.7.1)\n",
      "Requirement already satisfied: charset-normalizer<4,>=2 in c:\\users\\agh\\appdata\\local\\programs\\python\\python311\\lib\\site-packages (from requests<3.0.0,>=2.13.0->spacy<3.7.0,>=3.6.0->pl-core-news-sm==3.6.0) (3.2.0)\n",
      "Requirement already satisfied: idna<4,>=2.5 in c:\\users\\agh\\appdata\\local\\programs\\python\\python311\\lib\\site-packages (from requests<3.0.0,>=2.13.0->spacy<3.7.0,>=3.6.0->pl-core-news-sm==3.6.0) (3.4)\n",
      "Requirement already satisfied: urllib3<3,>=1.21.1 in c:\\users\\agh\\appdata\\local\\programs\\python\\python311\\lib\\site-packages (from requests<3.0.0,>=2.13.0->spacy<3.7.0,>=3.6.0->pl-core-news-sm==3.6.0) (2.0.4)\n",
      "Requirement already satisfied: certifi>=2017.4.17 in c:\\users\\agh\\appdata\\local\\programs\\python\\python311\\lib\\site-packages (from requests<3.0.0,>=2.13.0->spacy<3.7.0,>=3.6.0->pl-core-news-sm==3.6.0) (2023.7.22)\n",
      "Requirement already satisfied: blis<0.8.0,>=0.7.8 in c:\\users\\agh\\appdata\\local\\programs\\python\\python311\\lib\\site-packages (from thinc<8.2.0,>=8.1.8->spacy<3.7.0,>=3.6.0->pl-core-news-sm==3.6.0) (0.7.10)\n",
      "Requirement already satisfied: confection<1.0.0,>=0.0.1 in c:\\users\\agh\\appdata\\local\\programs\\python\\python311\\lib\\site-packages (from thinc<8.2.0,>=8.1.8->spacy<3.7.0,>=3.6.0->pl-core-news-sm==3.6.0) (0.1.0)\n",
      "Requirement already satisfied: colorama in c:\\users\\agh\\appdata\\local\\programs\\python\\python311\\lib\\site-packages (from tqdm<5.0.0,>=4.38.0->spacy<3.7.0,>=3.6.0->pl-core-news-sm==3.6.0) (0.4.6)\n",
      "Requirement already satisfied: click<9.0.0,>=7.1.1 in c:\\users\\agh\\appdata\\local\\programs\\python\\python311\\lib\\site-packages (from typer<0.10.0,>=0.3.0->spacy<3.7.0,>=3.6.0->pl-core-news-sm==3.6.0) (8.1.6)\n",
      "Requirement already satisfied: MarkupSafe>=2.0 in c:\\users\\agh\\appdata\\local\\programs\\python\\python311\\lib\\site-packages (from jinja2->spacy<3.7.0,>=3.6.0->pl-core-news-sm==3.6.0) (2.1.3)\n",
      "\u001b[38;5;2m[+] Download and installation successful\u001b[0m\n",
      "You can now load the package via spacy.load('pl_core_news_sm')\n"
     ]
    }
   ],
   "source": [
    "!python -m spacy download pl_core_news_sm"
   ]
  },
  {
   "cell_type": "markdown",
   "metadata": {
    "id": "3sPaOFZMRSku"
   },
   "source": [
    "## Tokenizacja\n",
    "\n",
    "Pierwsze zadanie polega na stokenizowaniu tekstu, co oznacza ni mniej ni więcej jak podział tekstu na najmniejsze znaczące elementy, które wspólnie tworzą wyrazy tekstowe i tekst. Tokenizacja dla każdego języka jest inna, co możecie zaobserwować zestawiając dane dla języka angielskiego z danymi dla języka polskiego i porównując wyniki uzyskane na tekstach.\n",
    "\n",
    "Tokenizacja przydaje się w życiu. Pracując na tokenach, pracujemy na uniwersalnych danych i porównujemy dane w sposób niestronniczy.\n",
    "\n",
    "Porównajcie zdania:\n",
    "\"I'd like you to have some fun working with all those excercises like mice have fun with every piece of chees. It's all we need to have some fun in life.\"\n",
    "\"Chciałabym, żebyście mieli tyle zabawy z ćwiczeniami, ile ubawu mają myszy z każdym jednym kawałeczkiem sera. Wszystko, czego potrzebujemy w żyćku, to zabawa.\"\n",
    "\n",
    "\n",
    "Wyjaśnienie:\n",
    "Dowiadujemy się tu jak tokenizować tekst, a za chwilę dowiemy się, że te tokeny mogą być przetwarzane w wektory, na podstawie których możemy przewidywać kolejne wyrazy tekstowe. Jeśli jednak wynik tokenizacji nie ma być użyty bezpośrednio jako dane wejściowe sieci neuronowej, możemy użyć przyjaznej tokenizacji z pakietu `spacy`.\n",
    "\n",
    "Zainicjujmy więc pakiet `spacy`."
   ]
  },
  {
   "cell_type": "code",
   "execution_count": 56,
   "metadata": {
    "id": "vZr9Oy8P7SHE"
   },
   "outputs": [],
   "source": [
    "import spacy\n",
    "\n",
    "nlp_en = spacy.load('en_core_web_sm')"
   ]
  },
  {
   "cell_type": "code",
   "execution_count": 57,
   "metadata": {},
   "outputs": [],
   "source": [
    "nlp_pl = spacy.load('pl_core_news_sm')"
   ]
  },
  {
   "cell_type": "markdown",
   "metadata": {
    "id": "AfcttssX8Q16"
   },
   "source": [
    "Najpierw stokenizujmy tekst dla języka angielskiego:"
   ]
  },
  {
   "cell_type": "code",
   "execution_count": 58,
   "metadata": {
    "id": "Y4a1_8Tf8Vwc",
    "scrolled": true
   },
   "outputs": [
    {
     "data": {
      "text/plain": [
       "['I',\n",
       " \"'d\",\n",
       " 'like',\n",
       " 'you',\n",
       " 'to',\n",
       " 'have',\n",
       " 'some',\n",
       " 'fun',\n",
       " 'working',\n",
       " 'with',\n",
       " 'all',\n",
       " 'those',\n",
       " 'excercises',\n",
       " 'like',\n",
       " 'mice',\n",
       " 'have',\n",
       " 'fun',\n",
       " 'with',\n",
       " 'every',\n",
       " 'piece',\n",
       " 'of',\n",
       " 'chees',\n",
       " '.',\n",
       " 'It',\n",
       " \"'s\",\n",
       " 'all',\n",
       " 'we',\n",
       " 'need',\n",
       " 'to',\n",
       " 'have',\n",
       " 'some',\n",
       " 'fun',\n",
       " 'in',\n",
       " 'life',\n",
       " '.']"
      ]
     },
     "execution_count": 58,
     "metadata": {},
     "output_type": "execute_result"
    }
   ],
   "source": [
    "text = \"\"\"I'd like you to have some fun working with all those excercises like mice have fun with every piece of chees. It's all we need to have some fun in life.\"\"\"\n",
    "\n",
    "tokens_en = nlp_en(text)\n",
    "[token.text for token in tokens_en]"
   ]
  },
  {
   "cell_type": "code",
   "execution_count": 59,
   "metadata": {},
   "outputs": [
    {
     "data": {
      "text/plain": [
       "['Chciałabym',\n",
       " ',',\n",
       " 'żebyście',\n",
       " 'mieli',\n",
       " 'tyle',\n",
       " 'zabawy',\n",
       " 'z',\n",
       " 'ćwiczeniami',\n",
       " ',',\n",
       " 'ile',\n",
       " 'ubawu',\n",
       " 'mają',\n",
       " 'myszy',\n",
       " 'z',\n",
       " 'każdym',\n",
       " 'jednym',\n",
       " 'kawałeczkiem',\n",
       " 'sera',\n",
       " '.',\n",
       " 'Wszystko',\n",
       " ',',\n",
       " 'czego',\n",
       " 'potrzebujemy',\n",
       " 'w',\n",
       " 'żyćku',\n",
       " ',',\n",
       " 'to',\n",
       " 'zabawa',\n",
       " '.']"
      ]
     },
     "execution_count": 59,
     "metadata": {},
     "output_type": "execute_result"
    }
   ],
   "source": [
    "text = \"\"\"Chciałabym, żebyście mieli tyle zabawy z ćwiczeniami, ile ubawu mają myszy z każdym jednym kawałeczkiem sera. Wszystko, czego potrzebujemy w żyćku, to zabawa.\"\"\"\n",
    "\n",
    "tokens_pl = nlp_pl(text)\n",
    "[token.text for token in tokens_pl]"
   ]
  },
  {
   "cell_type": "markdown",
   "metadata": {
    "id": "PRB7_tIjzujG"
   },
   "source": [
    "A potem dla polskiego:\n",
    "(pamiętajmy o innej nazwie zmiennych!)"
   ]
  },
  {
   "cell_type": "markdown",
   "metadata": {
    "id": "y06DuFMVDmWO"
   },
   "source": [
    "A teraz podzielmy teksty na zdania."
   ]
  },
  {
   "cell_type": "code",
   "execution_count": 60,
   "metadata": {
    "id": "Iq9wbNqGDoox",
    "scrolled": true
   },
   "outputs": [
    {
     "data": {
      "text/plain": [
       "[\"I'd like you to have some fun working with all those excercises like mice have fun with every piece of chees.\",\n",
       " \"It's all we need to have some fun in life.\"]"
      ]
     },
     "execution_count": 60,
     "metadata": {},
     "output_type": "execute_result"
    }
   ],
   "source": [
    "[sentence.text for sentence in tokens_en.sents]"
   ]
  },
  {
   "cell_type": "code",
   "execution_count": 61,
   "metadata": {},
   "outputs": [
    {
     "data": {
      "text/plain": [
       "['Chciałabym, żebyście mieli tyle zabawy z ćwiczeniami, ile ubawu mają myszy z każdym jednym kawałeczkiem sera.',\n",
       " 'Wszystko, czego potrzebujemy w żyćku, to zabawa.']"
      ]
     },
     "execution_count": 61,
     "metadata": {},
     "output_type": "execute_result"
    }
   ],
   "source": [
    "[sentence.text for sentence in tokens_pl.sents]"
   ]
  },
  {
   "cell_type": "markdown",
   "metadata": {
    "id": "mNlfmjT60NLh"
   },
   "source": [
    "### ⭐ Zadanie sprawdzające umiejętności⭐\n",
    "\n",
    "Stwórz zdanie, które:\n",
    "- zawiera skróty (USA, U.S., i.e., ww.)\n",
    "- zawiera nazwy (McDonald's, Kelly's)\n",
    "- zawiera czasowniki w formach warunkowych, przypuszczających (I would like, chciałabym).\n",
    "\n",
    "```\n",
    "np. We have been to U.K. before we got to the very special country, i.e. Poland.\n",
    "```"
   ]
  },
  {
   "cell_type": "code",
   "execution_count": 62,
   "metadata": {
    "id": "hdKGB9UB-N3Z"
   },
   "outputs": [],
   "source": [
    "# Miejsce na Twój kod"
   ]
  },
  {
   "cell_type": "markdown",
   "metadata": {
    "id": "Z39blSV0-sof"
   },
   "source": [
    "## Wykrywanie kategorii morfologicznych\n",
    "\n",
    "`spacy` można używać też do analizy kategorii morfologicznych (morfoskładniowych, zwanych też *częściami mowy*, które -- o zgrozo -- odmieniają się przez przypadki, osoby i stopnie). Tagowanie morfoskładniowe, inaczej Part-of-Speech Tagging (POS Tagging) przydaje się w bardziej zaawansowanych zadaniach, może też pozwolić na wnikliwy wgląd w właściwości tekstu.\n",
    "\n",
    "W tym zadaniu możemy użyć tokenów (`tokens_en`) z poprzednich ćwiczeń."
   ]
  },
  {
   "cell_type": "code",
   "execution_count": 63,
   "metadata": {
    "id": "AqCgDjRt-zMG"
   },
   "outputs": [
    {
     "data": {
      "text/plain": [
       "[('I', 'PRON'),\n",
       " (\"'d\", 'AUX'),\n",
       " ('like', 'VERB'),\n",
       " ('you', 'PRON'),\n",
       " ('to', 'PART'),\n",
       " ('have', 'VERB'),\n",
       " ('some', 'DET'),\n",
       " ('fun', 'NOUN'),\n",
       " ('working', 'VERB'),\n",
       " ('with', 'ADP'),\n",
       " ('all', 'DET'),\n",
       " ('those', 'DET'),\n",
       " ('excercises', 'NOUN'),\n",
       " ('like', 'SCONJ'),\n",
       " ('mice', 'NOUN'),\n",
       " ('have', 'VERB'),\n",
       " ('fun', 'NOUN'),\n",
       " ('with', 'ADP'),\n",
       " ('every', 'DET'),\n",
       " ('piece', 'NOUN'),\n",
       " ('of', 'ADP'),\n",
       " ('chees', 'NOUN'),\n",
       " ('.', 'PUNCT'),\n",
       " ('It', 'PRON'),\n",
       " (\"'s\", 'AUX'),\n",
       " ('all', 'PRON'),\n",
       " ('we', 'PRON'),\n",
       " ('need', 'VERB'),\n",
       " ('to', 'PART'),\n",
       " ('have', 'VERB'),\n",
       " ('some', 'DET'),\n",
       " ('fun', 'NOUN'),\n",
       " ('in', 'ADP'),\n",
       " ('life', 'NOUN'),\n",
       " ('.', 'PUNCT')]"
      ]
     },
     "execution_count": 63,
     "metadata": {},
     "output_type": "execute_result"
    }
   ],
   "source": [
    "[(token.text, token.pos_) for token in tokens_en]"
   ]
  },
  {
   "cell_type": "code",
   "execution_count": 64,
   "metadata": {},
   "outputs": [
    {
     "data": {
      "text/plain": [
       "[('Chciałabym', 'VERB'),\n",
       " (',', 'PUNCT'),\n",
       " ('żebyście', 'SCONJ'),\n",
       " ('mieli', 'VERB'),\n",
       " ('tyle', 'DET'),\n",
       " ('zabawy', 'NOUN'),\n",
       " ('z', 'ADP'),\n",
       " ('ćwiczeniami', 'NOUN'),\n",
       " (',', 'PUNCT'),\n",
       " ('ile', 'DET'),\n",
       " ('ubawu', 'NOUN'),\n",
       " ('mają', 'VERB'),\n",
       " ('myszy', 'NOUN'),\n",
       " ('z', 'ADP'),\n",
       " ('każdym', 'DET'),\n",
       " ('jednym', 'ADJ'),\n",
       " ('kawałeczkiem', 'NOUN'),\n",
       " ('sera', 'NOUN'),\n",
       " ('.', 'PUNCT'),\n",
       " ('Wszystko', 'PRON'),\n",
       " (',', 'PUNCT'),\n",
       " ('czego', 'PRON'),\n",
       " ('potrzebujemy', 'VERB'),\n",
       " ('w', 'ADP'),\n",
       " ('żyćku', 'NOUN'),\n",
       " (',', 'PUNCT'),\n",
       " ('to', 'AUX'),\n",
       " ('zabawa', 'NOUN'),\n",
       " ('.', 'PUNCT')]"
      ]
     },
     "execution_count": 64,
     "metadata": {},
     "output_type": "execute_result"
    }
   ],
   "source": [
    "[(token.text, token.pos_) for token in tokens_pl]"
   ]
  },
  {
   "cell_type": "markdown",
   "metadata": {
    "id": "h0J9krYr_qal"
   },
   "source": [
    "### ⭐ Zadanie sprawdzające umiejętności⭐\n",
    "\n",
    "**A teraz** zobaczmy, ile i jakich tagów (w tekstach można znaleźć też określenie POS tagów) mamy w naszych przykładach. Jakie problemy mogą być poruszone przy okazji takiego zadania? Jak zrobić wykres? (Za wykres jest bonus 📊 😀)"
   ]
  },
  {
   "cell_type": "code",
   "execution_count": 68,
   "metadata": {
    "id": "Ihx1WDro_wKH"
   },
   "outputs": [
    {
     "name": "stdout",
     "output_type": "stream",
     "text": [
      "defaultdict(<class 'int'>, {'VERB': 4, 'PUNCT': 6, 'SCONJ': 1, 'DET': 3, 'NOUN': 8, 'ADP': 3, 'ADJ': 1, 'PRON': 2, 'AUX': 1})\n"
     ]
    },
    {
     "data": {
      "image/png": "[encoded data removed]",
      "text/plain": [
       "<Figure size 640x480 with 1 Axes>"
      ]
     },
     "metadata": {},
     "output_type": "display_data"
    }
   ],
   "source": [
    "from collections import defaultdict\n",
    "\n",
    "pos_quantities = defaultdict(int)\n",
    "for token in tokens_pl:\n",
    "  pos_quantities[token.pos_] += 1\n",
    "print(pos_quantities)\n",
    "\n",
    "import matplotlib.pyplot as plt\n",
    "\n",
    "plt.bar(list(pos_quantities.keys()), list(pos_quantities.values()))\n",
    "plt.show()"
   ]
  },
  {
   "cell_type": "markdown",
   "metadata": {
    "id": "dAgdEyZI_02h"
   },
   "source": [
    "Lematyzacja\n",
    "Wchodzimy na kolejny poziom abstrakcji. Liczymy teraz nie tokeny, a typy. Załóżmy, że chcemy policzyć dzieci z przedszkola bawiące się głośno na placu zabaw za naszym oknem. Chcemy dowiedzieć się, kto krzyczy głośniej, dziewczynki czy chłopcy. W tym celu przyglądamy się każdemu dziecku i stwierdzamy, czy jest chłopcem czy dziewczynką. Sprowadzamy patrzenie na obiekt do binarnego wyboru płci, czasem mamy wątpliwości, co jest normalne. Możemy (z wahaniem lub bez) powiedzieć, że na placu zabaw są dwa typy dzieci: krzyczące i nie, dziewczynki i chłopcy. I podobnie jest z lematyzacją, choć trochę inaczej. Żeby zobaczyć, co jest w zdaniu, musimy przyjrzeć się okazom i stwiedzić, że jeśli w tekście dziecko drze się (jakby jutra nie było), darło się (aż do momentu, kiedy nie zagłuszyły go syreny policyjne) lub będzie się darło (do ukończenia 18 roku życia), to mówimy o jednej czynności darcia się wyrażonej jako różne formy czasownika DRZEĆ SIĘ. To jak w słowniku. Jeśli chcemy sprawdzić pisownię, szukamy czegoś co jest w mianowniku liczby pojedynczej i rodzaju męskim, albo w bezokoliczniku, albo w stopniu równym i też rodzaju męskim.\n",
    "\n",
    "Co i kiedy liczymy? Wypisując wszystkie elementy (tokeny), liczyliśmy budulec tekstu. Wypisując lematy (typy), liczymy użycie konkretnych pojęć niezależnie od ich formy.\n",
    "\n",
    "Jeśli chcesz policzyć, ile słów zostało wymienionych w tekście, bardzo przydatne jest sprowadzenie wszystkich słów do ich form podstawowych. Proces ten nazywany jest lematyzacją. Tekst przetworzony za pomocą spacy zawiera już lematy dla każdego tokena. Wykorzystamy tę technikę w dalszej części laboratorium."
   ]
  },
  {
   "cell_type": "code",
   "execution_count": 65,
   "metadata": {
    "id": "CIEpFin0_3cE"
   },
   "outputs": [
    {
     "data": {
      "text/plain": [
       "[('I', 'I'),\n",
       " (\"'d\", 'would'),\n",
       " ('like', 'like'),\n",
       " ('you', 'you'),\n",
       " ('to', 'to'),\n",
       " ('have', 'have'),\n",
       " ('some', 'some'),\n",
       " ('fun', 'fun'),\n",
       " ('working', 'work'),\n",
       " ('with', 'with'),\n",
       " ('all', 'all'),\n",
       " ('those', 'those'),\n",
       " ('excercises', 'excercise'),\n",
       " ('like', 'like'),\n",
       " ('mice', 'mouse'),\n",
       " ('have', 'have'),\n",
       " ('fun', 'fun'),\n",
       " ('with', 'with'),\n",
       " ('every', 'every'),\n",
       " ('piece', 'piece'),\n",
       " ('of', 'of'),\n",
       " ('chees', 'chee'),\n",
       " ('.', '.'),\n",
       " ('It', 'it'),\n",
       " (\"'s\", 'be'),\n",
       " ('all', 'all'),\n",
       " ('we', 'we'),\n",
       " ('need', 'need'),\n",
       " ('to', 'to'),\n",
       " ('have', 'have'),\n",
       " ('some', 'some'),\n",
       " ('fun', 'fun'),\n",
       " ('in', 'in'),\n",
       " ('life', 'life'),\n",
       " ('.', '.')]"
      ]
     },
     "execution_count": 65,
     "metadata": {},
     "output_type": "execute_result"
    }
   ],
   "source": [
    "[(token.text, token.lemma_) for token in tokens_en]"
   ]
  },
  {
   "cell_type": "code",
   "execution_count": 69,
   "metadata": {},
   "outputs": [
    {
     "data": {
      "text/plain": [
       "[('Chciałabym', 'chcieć by być'),\n",
       " (',', ','),\n",
       " ('żebyście', 'żeby być'),\n",
       " ('mieli', 'mieć'),\n",
       " ('tyle', 'tyle'),\n",
       " ('zabawy', 'zabawa'),\n",
       " ('z', 'z'),\n",
       " ('ćwiczeniami', 'ćwiczenei'),\n",
       " (',', ','),\n",
       " ('ile', 'ile'),\n",
       " ('ubawu', 'ubaw'),\n",
       " ('mają', 'mieć'),\n",
       " ('myszy', 'mysz'),\n",
       " ('z', 'z'),\n",
       " ('każdym', 'każdy'),\n",
       " ('jednym', 'jeden'),\n",
       " ('kawałeczkiem', 'kawałeczkie'),\n",
       " ('sera', 'sero'),\n",
       " ('.', '.'),\n",
       " ('Wszystko', 'wszystko'),\n",
       " (',', ','),\n",
       " ('czego', 'co'),\n",
       " ('potrzebujemy', 'potrzebować'),\n",
       " ('w', 'w'),\n",
       " ('żyćku', 'żyćke'),\n",
       " (',', ','),\n",
       " ('to', 'to'),\n",
       " ('zabawa', 'zabawa'),\n",
       " ('.', '.')]"
      ]
     },
     "execution_count": 69,
     "metadata": {},
     "output_type": "execute_result"
    }
   ],
   "source": [
    "[(token.text, token.lemma_) for token in tokens_pl]"
   ]
  },
  {
   "cell_type": "markdown",
   "metadata": {
    "id": "d_Y0w9TwHxiq"
   },
   "source": [
    "⭐ Zadanie sprawdzające umiejętności ⭐\n",
    "> Dla nietypowych rzeczowników w języku angielskim:\n",
    "\n",
    "* entities\n",
    "* was\n",
    "* mice\n",
    "*cacti\n",
    "* octopi\n",
    "\n",
    "znajdź lematy i oceń, czy spacy rozpoznał je poprawnie. Czy możesz wskazać analogiczne przykłady dla polskiego?"
   ]
  },
  {
   "cell_type": "code",
   "execution_count": null,
   "metadata": {
    "id": "oPMnY3xpH6ZT"
   },
   "outputs": [],
   "source": [
    "# Miejsce na Twój kod"
   ]
  },
  {
   "cell_type": "markdown",
   "metadata": {
    "id": "Mih5AZl5_35c"
   },
   "source": [
    "## Named entity recognition\n",
    "\n",
    "Analiza tekstu przy użyciu `spacy` może być bardziej zaawansowana (do tej pory analizowaliśmy składnię, teraz czas na odrobinę semantyki). Takim bardziej złożonym zadaniem jest rozpoznawanie encji nazwanych (NER), a więc pewnego typu obiektów, które mogą być nazwą własną, ale wcale nie muszą.\n",
    "\n",
    "### Zatem"
   ]
  },
  {
   "cell_type": "code",
   "execution_count": 88,
   "metadata": {
    "id": "fqAvaZj_Cgiv"
   },
   "outputs": [
    {
     "data": {
      "text/plain": [
       "[('Greek', 'NORP', 0, 5),\n",
       " ('Latin', 'NORP', 10, 15),\n",
       " ('Macarena', 'WORK_OF_ART', 63, 71)]"
      ]
     },
     "execution_count": 88,
     "metadata": {},
     "output_type": "execute_result"
    }
   ],
   "source": [
    "ner_result = nlp_en(\"\"\"Greek and Latin intellectuals were dancing to the song called \"Macarena\".\"\"\")\n",
    "[(e.text, e.label_, e.start_char, e.end_char) for e in ner_result.ents]"
   ]
  },
  {
   "cell_type": "markdown",
   "metadata": {
    "id": "ONbTGgU-Ex_0"
   },
   "source": [
    "Każda kategoria ma w SpaCy rozwinięcie:"
   ]
  },
  {
   "cell_type": "code",
   "execution_count": 85,
   "metadata": {
    "id": "wGruXB_UEgHn"
   },
   "outputs": [
    {
     "data": {
      "text/plain": [
       "'Titles of books, songs, etc.'"
      ]
     },
     "execution_count": 85,
     "metadata": {},
     "output_type": "execute_result"
    }
   ],
   "source": [
    "spacy.explain('WORK_OF_ART')"
   ]
  },
  {
   "cell_type": "markdown",
   "metadata": {
    "id": "Woivn9naE9Al"
   },
   "source": [
    "⭐ Zadanie sprawdzające umiejętności ⭐\n",
    "\n",
    "> Zobacz na to samo zadanie, ale w języku polskim.\n",
    "\n"
   ]
  },
  {
   "cell_type": "markdown",
   "metadata": {
    "id": "9RO0Z_uJ1hNh"
   },
   "source": [
    "#### ⭐ Zadanie sprawdzające umiejętności ⭐\n",
    "\n",
    "Znajdź tekst, który zawiera typ `WORK_OF_ART`."
   ]
  },
  {
   "cell_type": "code",
   "execution_count": null,
   "metadata": {
    "id": "UgPECLjt1j3J"
   },
   "outputs": [],
   "source": [
    "# Miejsce na Twój kod"
   ]
  },
  {
   "cell_type": "markdown",
   "metadata": {
    "id": "Q0RM3w_wFJsc"
   },
   "source": [
    "### Obrazki\n",
    "Moduł displacy odpowiada za wizualizację wyników działania NERa. Podkreślenie / wyróżnienie kolorystyczne sprawiają, że łatwiej odczytać wyniki, żeby pobieżnie je przeanalizować."
   ]
  },
  {
   "cell_type": "code",
   "execution_count": 77,
   "metadata": {
    "id": "XHBUbGOuFt2y"
   },
   "outputs": [
    {
     "data": {
      "text/html": [
       "<span class=\"tex2jax_ignore\"><div class=\"entities\" style=\"line-height: 2.5; direction: ltr\">\n",
       "<mark class=\"entity\" style=\"background: #ddd; padding: 0.45em 0.6em; margin: 0 0.25em; line-height: 1; border-radius: 0.35em;\">\n",
       "    Alina\n",
       "    <span style=\"font-size: 0.8em; font-weight: bold; line-height: 1; border-radius: 0.35em; vertical-align: middle; margin-left: 0.5rem\">persName</span>\n",
       "</mark>\n",
       " była w \n",
       "<mark class=\"entity\" style=\"background: #ddd; padding: 0.45em 0.6em; margin: 0 0.25em; line-height: 1; border-radius: 0.35em;\">\n",
       "    Warszawie\n",
       "    <span style=\"font-size: 0.8em; font-weight: bold; line-height: 1; border-radius: 0.35em; vertical-align: middle; margin-left: 0.5rem\">placeName</span>\n",
       "</mark>\n",
       ", śniła o \n",
       "<mark class=\"entity\" style=\"background: #ddd; padding: 0.45em 0.6em; margin: 0 0.25em; line-height: 1; border-radius: 0.35em;\">\n",
       "    Warszawie\n",
       "    <span style=\"font-size: 0.8em; font-weight: bold; line-height: 1; border-radius: 0.35em; vertical-align: middle; margin-left: 0.5rem\">placeName</span>\n",
       "</mark>\n",
       " wspólnie z \n",
       "<mark class=\"entity\" style=\"background: #ddd; padding: 0.45em 0.6em; margin: 0 0.25em; line-height: 1; border-radius: 0.35em;\">\n",
       "    Markiem Kawiorkiem\n",
       "    <span style=\"font-size: 0.8em; font-weight: bold; line-height: 1; border-radius: 0.35em; vertical-align: middle; margin-left: 0.5rem\">persName</span>\n",
       "</mark>\n",
       ", ale \n",
       "<mark class=\"entity\" style=\"background: #ddd; padding: 0.45em 0.6em; margin: 0 0.25em; line-height: 1; border-radius: 0.35em;\">\n",
       "    Krzysztofowi\n",
       "    <span style=\"font-size: 0.8em; font-weight: bold; line-height: 1; border-radius: 0.35em; vertical-align: middle; margin-left: 0.5rem\">persName</span>\n",
       "</mark>\n",
       " wyznała, że nigdy nie wiązała swoich planów z \n",
       "<mark class=\"entity\" style=\"background: #ddd; padding: 0.45em 0.6em; margin: 0 0.25em; line-height: 1; border-radius: 0.35em;\">\n",
       "    Warszawą\n",
       "    <span style=\"font-size: 0.8em; font-weight: bold; line-height: 1; border-radius: 0.35em; vertical-align: middle; margin-left: 0.5rem\">placeName</span>\n",
       "</mark>\n",
       ".</div></span>"
      ],
      "text/plain": [
       "<IPython.core.display.HTML object>"
      ]
     },
     "metadata": {},
     "output_type": "display_data"
    }
   ],
   "source": [
    "spacy.displacy.render(ner_result, style=\"ent\", jupyter=True)"
   ]
  },
  {
   "cell_type": "markdown",
   "metadata": {
    "id": "4xNIdIyLGY0I"
   },
   "source": [
    "Korzystając z modułu `displacy` możemy też przeszukiwać informacje pod kątem jednej wybranej lub kilku pożądanych kateogrii. Żeby tego dokonać, musimy skorzystać z funkcji `displacy.render`."
   ]
  },
  {
   "cell_type": "code",
   "execution_count": 80,
   "metadata": {
    "id": "lr8o6bPUGi5l"
   },
   "outputs": [
    {
     "data": {
      "text/html": [
       "<span class=\"tex2jax_ignore\"><div class=\"entities\" style=\"line-height: 2.5; direction: ltr\">\n",
       "<mark class=\"entity\" style=\"background: #ddd; padding: 0.45em 0.6em; margin: 0 0.25em; line-height: 1; border-radius: 0.35em;\">\n",
       "    Alina\n",
       "    <span style=\"font-size: 0.8em; font-weight: bold; line-height: 1; border-radius: 0.35em; vertical-align: middle; margin-left: 0.5rem\">persName</span>\n",
       "</mark>\n",
       " była w Warszawie, śniła o Warszawie wspólnie z \n",
       "<mark class=\"entity\" style=\"background: #ddd; padding: 0.45em 0.6em; margin: 0 0.25em; line-height: 1; border-radius: 0.35em;\">\n",
       "    Markiem Kawiorkiem\n",
       "    <span style=\"font-size: 0.8em; font-weight: bold; line-height: 1; border-radius: 0.35em; vertical-align: middle; margin-left: 0.5rem\">persName</span>\n",
       "</mark>\n",
       ", ale \n",
       "<mark class=\"entity\" style=\"background: #ddd; padding: 0.45em 0.6em; margin: 0 0.25em; line-height: 1; border-radius: 0.35em;\">\n",
       "    Krzysztofowi\n",
       "    <span style=\"font-size: 0.8em; font-weight: bold; line-height: 1; border-radius: 0.35em; vertical-align: middle; margin-left: 0.5rem\">persName</span>\n",
       "</mark>\n",
       " wyznała, że nigdy nie wiązała swoich planów z Warszawą.</div></span>"
      ],
      "text/plain": [
       "<IPython.core.display.HTML object>"
      ]
     },
     "metadata": {},
     "output_type": "display_data"
    }
   ],
   "source": [
    "spacy.displacy.render(ner_result, style=\"ent\", jupyter=True, options={\"ents\": [\"persName\"]})"
   ]
  },
  {
   "cell_type": "markdown",
   "metadata": {
    "id": "r7UQMXj7GAaK"
   },
   "source": [
    "#### ⭐ Zadanie sprawdzające umiejętności ⭐\n",
    "\n",
    "Spróbuj przeanalizować dłuższy tekst za pomocą `spacy` i zwizualizuj wynik NER za pomocą `displacy`. Użyj jakiegoś artykułu znalezionego w sieci.\n",
    "\n",
    "Następnie policz ile razy każdy typ encji został wykryty w tekście i wyświetl statystyki. Dodatkowy bonus za wykres 📊 😀"
   ]
  },
  {
   "cell_type": "code",
   "execution_count": null,
   "metadata": {
    "id": "jaciXADYZ6Qp"
   },
   "outputs": [],
   "source": [
    "# Miejsce na Twój kod"
   ]
  },
  {
   "cell_type": "markdown",
   "metadata": {
    "id": "iPYmmqLqG5YI"
   },
   "source": [
    "## Wykrywanie podobieństwa tekstów\n",
    "\n",
    "### Bag of words\n",
    "\n",
    "Do tej pory analizowaliśmy problem interpretacji formy tekstu, wskazywania konkretnych struktur i przypisywania ich do specyficznej klasy. Teraz zajmiemy się problemem interpretacji znaczenia. Przyjrzyjmy się różnym tekstom i sprawdźmy, jak te teksty są do siebie podobne. Dla uproszczenia tekstem będą pojedyncze zdania.\n",
    "\n",
    "> The quick brown fox jumps over the lazy dog.\n",
    "\n",
    "> The dog kept barking over the night.\n",
    "\n",
    "> A lazy fisherman with his dog met a fox last night.\n",
    "\n",
    "Przy niedużej liczbie tekstów jesteśmy w stanie naocznie porównać próbki i określić ich podobieństwo. Czym jest owo podobieństwo? Gdybyśmy mieli scharakteryzować sposoby, na jakie teksty są podobne, jakbyśmy je określili?\n",
    "\n",
    "Bardzo często stosowanym sposobem na znalezienie zdefiniowanego podobieństwa jest technika zwana *bag of words* (https://en.wikipedia.org/wiki/Bag-of-words_model). Polega ona na obliczeniu częstotliwości występowania słów we wszystkich tekstach, uporządkowaniu tekstu wg najpopularniejszych z nich, a następnie przedstawieniu tekstu jako listy liczb całkowitych zawierających liczbę wystąpień tych słów. Co ważne, to podejście zupełnie ignoruje\n",
    "\n",
    "Przykład lepszy niż wykład!\n",
    "\n",
    "Do obliczenia metryk tekstowych użyjemy modułu `sklearn`. Klasa `CountVectorizer` wykonuje wszystkie obliczenia za nas. Parametr `max_features=5` mówi wektoryzatorowi, że chcemy wybrać co najwyżej 5 najpopularniejszych tokenów ze wszystkich tekstów.\n"
   ]
  },
  {
   "cell_type": "code",
   "execution_count": 100,
   "metadata": {
    "id": "myGn2xGKI9hr"
   },
   "outputs": [
    {
     "data": {
      "text/plain": [
       "array([[0, 0, 1, 1, 0, 1, 0, 1, 0, 0, 0, 1, 1, 2, 0],\n",
       "       [1, 3, 1, 0, 0, 0, 1, 0, 1, 0, 1, 1, 0, 2, 1],\n",
       "       [0, 0, 1, 1, 1, 0, 0, 1, 0, 1, 1, 0, 0, 0, 0]], dtype=int64)"
      ]
     },
     "execution_count": 100,
     "metadata": {},
     "output_type": "execute_result"
    }
   ],
   "source": [
    "from sklearn.feature_extraction.text import CountVectorizer\n",
    "\n",
    "texts = [\n",
    "    \"The quick brown fox jumps over the lazy dog.\",\n",
    "    \"The dog kept barking very loud barking and barking again over the night.\",\n",
    "    \"A lazy fisherman with his dog met a fox last night.\",\n",
    "]\n",
    "\n",
    "count_vector = CountVectorizer(max_features=15)\n",
    "data_count = count_vector.fit_transform(texts)\n",
    "data_count.toarray()"
   ]
  },
  {
   "cell_type": "markdown",
   "metadata": {
    "id": "lMeNodp3Kj8y"
   },
   "source": [
    "OK, co oznaczają dane liczbowe, które uzyskaliśmy?"
   ]
  },
  {
   "cell_type": "code",
   "execution_count": 101,
   "metadata": {
    "id": "-0ABs1ziKyDA"
   },
   "outputs": [
    {
     "data": {
      "text/plain": [
       "array(['again', 'barking', 'dog', 'fox', 'his', 'jumps', 'kept', 'lazy',\n",
       "       'loud', 'met', 'night', 'over', 'quick', 'the', 'very'],\n",
       "      dtype=object)"
      ]
     },
     "execution_count": 101,
     "metadata": {},
     "output_type": "execute_result"
    }
   ],
   "source": [
    "count_vector.get_feature_names_out()"
   ]
  },
  {
   "cell_type": "code",
   "execution_count": null,
   "metadata": {
    "id": "1QLo1YXWc2cH"
   },
   "outputs": [],
   "source": [
    "# Miejsce na Twój kod"
   ]
  },
  {
   "cell_type": "markdown",
   "metadata": {
    "id": "fme7G6lDK1Eg"
   },
   "source": [
    "# Tokeny dla angielskiego to:\n",
    "\n",
    "```\n",
    "[ 'barking', 'dog', 'fox', 'over', 'the']\n",
    "```\n",
    "\n",
    "z reprezentacją wektorową (`max_features=5`):\n",
    "\n",
    "```\n",
    "array([[0, 1, 1, 1, 2],\n",
    "       [3, 1, 0, 1, 2],\n",
    "       [0, 1, 1, 0, 0]], dtype=int64)\n",
    "```\n",
    "\n",
    "Co oznacza, że:\n",
    "* słowo `barking` pojawia się w ogóle trzy razy, ale w jednym zdaniu\n",
    "* słowo `dog` w każdym zdaniu po jednym razie\n",
    "* słowo `fox` pojawia się raz w pierwszym i raz w trzecim tekście\n",
    "* słowo `over` nie występuje w trzecim tekście\n",
    "* słowo `the` pojawia się dwukrotnie w pierwszym i drugim tekście, w trzecim nie występuje wcale\n",
    "\n",
    "Now you should understand the *bag of words* text representation. We can say that the more similar the vectors are, the more similar the texts are, too. We can obviously calculate the distance between them and even visualize them on a chart, but we need a few more exercies and obviously - more data!\n",
    "\n",
    "#### ⭐ Zadania sprawdzające umiejętności ⭐\n",
    "\n",
    "Przeprowadź analogiczny eksperyment dla języka polskiego i wyciągnij wnioski podobnie jak w powyższym ćwiczeniu.\n",
    "\n",
    "Zwróć uwagę na parametr `max_features` i spróbuj zmieniać jego wartość, obserwując zmianę reprezentacji wyników. Wyciągnij wnioski na temat przełożenia wartości parametru na jakość prezentowanych wyników."
   ]
  },
  {
   "cell_type": "code",
   "execution_count": null,
   "metadata": {
    "id": "qe2_07hOMKbO"
   },
   "outputs": [],
   "source": [
    "# Miejsce na Twój kod"
   ]
  },
  {
   "cell_type": "markdown",
   "metadata": {
    "id": "UEB6xm4jPzaR"
   },
   "source": [
    "Modele typu transformers korzystają z modyfikacji tego podejścia. Więcej o rozwiązaniu problemu podobieństwa tu: https://huggingface.co/tasks/sentence-similarity."
   ]
  },
  {
   "cell_type": "markdown",
   "metadata": {
    "id": "Q0EMySonML50"
   },
   "source": [
    "### Stopwords\n",
    "\n",
    "Semantyczne rozważania nad językiem prowadzą do obserwacji, że słowa nie przekazują porównywalnie istotnych informacji. Co to znaczy? W przypadku przykładu z języka angielskiego, słowo `the` mówi nam nieco mniej niż słowo `dog` czy `lazy`, a jednak to ono pojawia się w tekstach najczęściej. Nie oznacza to oczywiście, że to słowo nic nie znaczy bądź nie pełni w systemie językowym istotnej funkcji. W tym zadaniu rozpatrujemy tylko istotność słowa w przełożeniu na znaczenie całego tekstu lub grupy tekstów i przez taki pryzmat będziemy patrzeć na `stopwords`, a więc słowa popularne, budulce tekstu, nienosące znaczenia.\n",
    "`Stopwords` obsługiwane są w pakiecie `SpaCy` przez moduł `sklearn` (https://scikit-learn.org/stable/modules/generated/sklearn.feature_extraction.text.CountVectorizer.html), który identyfikuje je, a następnie usuwa z reprezentacji zbioru danych."
   ]
  },
  {
   "cell_type": "code",
   "execution_count": 97,
   "metadata": {
    "id": "QkhFQzFdMs7U"
   },
   "outputs": [
    {
     "data": {
      "text/plain": [
       "['am',\n",
       " 'onto',\n",
       " 'he',\n",
       " 'hasnt',\n",
       " 'among',\n",
       " 'can',\n",
       " 'see',\n",
       " 'de',\n",
       " 'well',\n",
       " 'same',\n",
       " 'neither',\n",
       " 'but',\n",
       " 'wherein',\n",
       " 'cannot',\n",
       " 'any',\n",
       " 'more',\n",
       " 'afterwards',\n",
       " 'thence',\n",
       " 'some',\n",
       " 'since',\n",
       " 'yourself',\n",
       " 'must',\n",
       " 'nowhere',\n",
       " 'beyond',\n",
       " 'much',\n",
       " 'had',\n",
       " 'noone',\n",
       " 'besides',\n",
       " 'she',\n",
       " 'others',\n",
       " 'ever',\n",
       " 'while',\n",
       " 'whence',\n",
       " 'even',\n",
       " 'however',\n",
       " 'through',\n",
       " 'often',\n",
       " 'nor',\n",
       " 'us',\n",
       " 'whose',\n",
       " 'many',\n",
       " 'nevertheless',\n",
       " 'in',\n",
       " 'him',\n",
       " 'amount',\n",
       " 'front',\n",
       " 'first',\n",
       " 'rather',\n",
       " 'at',\n",
       " 'whereas',\n",
       " 'anywhere',\n",
       " 'former',\n",
       " 'cry',\n",
       " 'me',\n",
       " 'sometime',\n",
       " 'less',\n",
       " 'should',\n",
       " 'go',\n",
       " 'of',\n",
       " 'back',\n",
       " 'behind',\n",
       " 'to',\n",
       " 'nobody',\n",
       " 'this',\n",
       " 'these',\n",
       " 'beforehand',\n",
       " 'during',\n",
       " 'upon',\n",
       " 'otherwise',\n",
       " 'call',\n",
       " 'seeming',\n",
       " 'became',\n",
       " 'they',\n",
       " 'whole',\n",
       " 'that',\n",
       " 'once',\n",
       " 'as',\n",
       " 'three',\n",
       " 'ie',\n",
       " 'i',\n",
       " 'out',\n",
       " 'bill',\n",
       " 'con',\n",
       " 'elsewhere',\n",
       " 'keep',\n",
       " 'whereupon',\n",
       " 'a',\n",
       " 'empty',\n",
       " 'myself',\n",
       " 'everywhere',\n",
       " 'the',\n",
       " 'too',\n",
       " 'could',\n",
       " 'enough',\n",
       " 'fire',\n",
       " 'four',\n",
       " 'again',\n",
       " 'off',\n",
       " 'without',\n",
       " 'when']"
      ]
     },
     "execution_count": 97,
     "metadata": {},
     "output_type": "execute_result"
    }
   ],
   "source": [
    "from sklearn.feature_extraction._stop_words import ENGLISH_STOP_WORDS\n",
    "\n",
    "list(ENGLISH_STOP_WORDS)[:100]"
   ]
  },
  {
   "cell_type": "markdown",
   "metadata": {
    "id": "eHOezUD9OHnJ"
   },
   "source": [
    "Nie musisz importować stopwords, aby z nich korzystać, ponieważ są one zarządzane wewnętrznie w pakiecie (`_` w nazwie pakietu).\n",
    "\n",
    "Teraz wszystko, co musisz zrobić, to zdefiniować wbudowaną listę stopwords, których chcesz użyć przed obliczeniem wektorów."
   ]
  },
  {
   "cell_type": "code",
   "execution_count": 99,
   "metadata": {
    "id": "rSzlqDvFOSbH"
   },
   "outputs": [
    {
     "data": {
      "text/plain": [
       "array(['barking', 'brown', 'dog', 'fisherman', 'fox', 'jumps', 'kept',\n",
       "       'lazy', 'loud', 'met', 'night', 'quick'], dtype=object)"
      ]
     },
     "execution_count": 99,
     "metadata": {},
     "output_type": "execute_result"
    }
   ],
   "source": [
    "count_vector = CountVectorizer(max_features=15, stop_words = 'english')\n",
    "data_count = count_vector.fit_transform(texts)\n",
    "count_vector.get_feature_names_out()"
   ]
  },
  {
   "cell_type": "markdown",
   "metadata": {
    "id": "L52dVF9qO_N3"
   },
   "source": [
    "### Wizualizacja danych\n",
    "\n",
    "\n",
    "Wykrywanie podobnych tekstów w przypadku dużej ilości danych może stanowić wyzwanie. Zawsze pomocna jest wizualizacja danych na ekranie, więc możemy wykreślić wektory i sprawdzić, czy możemy wykryć jakieś grupy na ekranie. Będzie to trudne w przypadku trzech tekstów, na których obecnie pracujemy, ale zrozumiesz ideę.\n",
    "\n",
    "Możemy teraz zawiesić to laboratorium i poczekać do 2048 roku, kiedy ekrany 5D będą dostępne, lub użyć popularnego algorytmu `t-SNE` do *spłaszczenia* danych, a następnie ich wizualizacji. Wybierzemy drugie rozwiązanie 😉.\n",
    "\n",
    "Nie zagłębiając się zbytnio w działanie tego algorytmu, jest on w stanie zredukować wektory XD do wektorów YD, z X>Y, zachowując odległości między nimi. W przypadku naszego tekstu chcemy zredukować wektory 5D (5 cech tekstu) do wektorów 2D (czyli do formatu, który można wykreślić na ekranie).\n"
   ]
  },
  {
   "cell_type": "code",
   "execution_count": 102,
   "metadata": {
    "id": "-6c2W1S_QGIr"
   },
   "outputs": [
    {
     "data": {
      "text/plain": [
       "array([[ -90.5271 ,  190.77911],\n",
       "       [  50.32769, -109.19537],\n",
       "       [-280.36697,  -80.16843]], dtype=float32)"
      ]
     },
     "execution_count": 102,
     "metadata": {},
     "output_type": "execute_result"
    }
   ],
   "source": [
    "from sklearn.manifold import TSNE\n",
    "\n",
    "tsne_model = TSNE(n_components=2, perplexity=2)\n",
    "tsne_data = tsne_model.fit_transform(data_count.toarray())\n",
    "\n",
    "tsne_data\n",
    "#data_count.toarray()"
   ]
  },
  {
   "cell_type": "markdown",
   "metadata": {
    "id": "Zn5GI1iFQtr1"
   },
   "source": [
    "Algortym zredukował wektory, co możemy zobaczyć, zamiast musieć sobie to wyobrażać."
   ]
  },
  {
   "cell_type": "code",
   "execution_count": 105,
   "metadata": {
    "id": "hbwqxktaQ0gd"
   },
   "outputs": [
    {
     "data": {
      "image/png": "[encoded data removed]",
      "text/plain": [
       "<Figure size 640x480 with 1 Axes>"
      ]
     },
     "metadata": {},
     "output_type": "display_data"
    }
   ],
   "source": [
    "import matplotlib.pyplot as plt\n",
    "\n",
    "fig, ax = plt.subplots()\n",
    "ax.scatter(tsne_data[:, 0], tsne_data[:, 1])\n",
    "\n",
    "for i, label in enumerate([\"fox\", \"dog\", \"lazy\"]):\n",
    "    ax.annotate(label, (tsne_data[i, 0], tsne_data[i, 1]))\n",
    "\n",
    "plt.show()"
   ]
  },
  {
   "cell_type": "markdown",
   "metadata": {
    "id": "I60UgASRT70i"
   },
   "source": [
    "Istnieją tylko trzy punkty danych, więc trudno powiedzieć, czy teksty można uznać za podobne do siebie, czy nie. Gdybyśmy jednak mieli znacznie więcej tekstów, moglibyśmy podejrzewać, że punkty danych utworzyłyby pewne rozróżnialne grupy, co oznacza, że teksty mówią o podobnych tematach."
   ]
  },
  {
   "cell_type": "markdown",
   "metadata": {
    "id": "Bvhm1-manrMN"
   },
   "source": [
    "## Zbiory danych\n",
    "\n",
    "Do ostatniego zadania potrzebujemy więcej danych, żeby zaobserwować proces klasteryzacji. Jedną z możliwych dróg pozyskania danych jest skorzystanie z modułu [HuggingFace](https://huggingface.co/docs/datasets/v1.8.0/loading_datasets.html) `datasets`, aby pobrać kilka tekstów, nad którymi możemy pracować.\n",
    "\n",
    "Zobaczmy, co jest w środku."
   ]
  },
  {
   "cell_type": "code",
   "execution_count": 106,
   "metadata": {
    "id": "CU9xQv2RoAs-"
   },
   "outputs": [
    {
     "data": {
      "text/plain": [
       "['acronym_identification',\n",
       " 'ade_corpus_v2',\n",
       " 'UCLNLP/adversarial_qa',\n",
       " 'aeslc',\n",
       " 'afrikaans_ner_corpus',\n",
       " 'ag_news',\n",
       " 'allenai/ai2_arc',\n",
       " 'air_dialogue',\n",
       " 'ajgt_twitter_ar',\n",
       " 'allegro_reviews',\n",
       " 'allocine',\n",
       " 'alt',\n",
       " 'amazon_polarity',\n",
       " 'amazon_reviews_multi',\n",
       " 'amazon_us_reviews',\n",
       " 'ambig_qa',\n",
       " 'nala-cub/americas_nli',\n",
       " 'ami',\n",
       " 'amttl',\n",
       " 'facebook/anli',\n",
       " 'app_reviews',\n",
       " 'aqua_rat',\n",
       " 'aquamuse',\n",
       " 'bigIR/ar_cov19',\n",
       " 'ar_res_reviews',\n",
       " 'ar_sarcasm',\n",
       " 'arabic_billion_words',\n",
       " 'arabic_pos_dialect',\n",
       " 'arabic_speech_corpus',\n",
       " 'arcd',\n",
       " 'arsentd_lev',\n",
       " 'art',\n",
       " 'arxiv_dataset',\n",
       " 'ascent_kb',\n",
       " 'aslg_pc12',\n",
       " 'asnq',\n",
       " 'facebook/asset',\n",
       " 'assin',\n",
       " 'assin2',\n",
       " 'atomic',\n",
       " 'autshumato',\n",
       " 'facebook/babi_qa',\n",
       " 'banking77',\n",
       " 'bbaw_egyptian',\n",
       " 'bbc_hindi_nli',\n",
       " 'bc2gm_corpus',\n",
       " 'AI-Lab-Makerere/beans',\n",
       " 'best2009',\n",
       " 'Helsinki-NLP/bianet',\n",
       " 'bible_para',\n",
       " 'big_patent',\n",
       " 'billsum',\n",
       " 'bing_coronavirus_query_set',\n",
       " 'biomrc',\n",
       " 'biosses',\n",
       " 'TheBritishLibrary/blbooks',\n",
       " 'TheBritishLibrary/blbooksgenre',\n",
       " 'blended_skill_talk',\n",
       " 'nyu-mll/blimp',\n",
       " 'blog_authorship_corpus',\n",
       " 'bn_hate_speech',\n",
       " 'bnl_newspapers',\n",
       " 'bookcorpus',\n",
       " 'bookcorpusopen',\n",
       " 'google/boolq',\n",
       " 'bprec',\n",
       " 'break_data',\n",
       " 'brwac',\n",
       " 'bsd_ja_en',\n",
       " 'bswac',\n",
       " 'c3',\n",
       " 'c4',\n",
       " 'cail2018',\n",
       " 'caner',\n",
       " 'soarescmsa/capes',\n",
       " 'casino',\n",
       " 'catalonia_independence',\n",
       " 'cats_vs_dogs',\n",
       " 'cawac',\n",
       " 'cbt',\n",
       " 'cc100',\n",
       " 'vblagoje/cc_news',\n",
       " 'ccaligned_multilingual',\n",
       " 'cdsc',\n",
       " 'cdt',\n",
       " 'cedr',\n",
       " 'cfq',\n",
       " 'chr_en',\n",
       " 'cifar10',\n",
       " 'cifar100',\n",
       " 'circa',\n",
       " 'google/civil_comments',\n",
       " 'clickbait_news_bg',\n",
       " 'climate_fever',\n",
       " 'clinc_oos',\n",
       " 'clue',\n",
       " 'cmrc2018',\n",
       " 'cmu_hinglish_dog',\n",
       " 'cnn_dailymail',\n",
       " 'coached_conv_pref',\n",
       " 'coarse_discourse',\n",
       " 'codah',\n",
       " 'code_search_net',\n",
       " 'code_x_glue_cc_clone_detection_big_clone_bench',\n",
       " 'code_x_glue_cc_clone_detection_poj104',\n",
       " 'code_x_glue_cc_cloze_testing_all',\n",
       " 'code_x_glue_cc_cloze_testing_maxmin',\n",
       " 'code_x_glue_cc_code_completion_line',\n",
       " 'code_x_glue_cc_code_completion_token',\n",
       " 'code_x_glue_cc_code_refinement',\n",
       " 'code_x_glue_cc_code_to_code_trans',\n",
       " 'code_x_glue_cc_defect_detection',\n",
       " 'code_x_glue_ct_code_to_text',\n",
       " 'code_x_glue_tc_nl_code_search_adv',\n",
       " 'code_x_glue_tc_text_to_code',\n",
       " 'code_x_glue_tt_text_to_text',\n",
       " 'com_qa',\n",
       " 'allenai/common_gen',\n",
       " 'common_language',\n",
       " 'common_voice',\n",
       " 'tau/commonsense_qa',\n",
       " 'hendrycks/competition_math',\n",
       " 'compguesswhat',\n",
       " 'conceptnet5',\n",
       " 'conll2000',\n",
       " 'conll2002',\n",
       " 'conll2003',\n",
       " 'conllpp',\n",
       " 'consumer-finance-complaints',\n",
       " 'conv_ai',\n",
       " 'conv_ai_2',\n",
       " 'conv_ai_3',\n",
       " 'conv_questions',\n",
       " 'stanfordnlp/coqa',\n",
       " 'allenai/cord19',\n",
       " 'cornell_movie_dialog',\n",
       " 'cos_e',\n",
       " 'cosmos_qa',\n",
       " 'counter',\n",
       " 'covid_qa_castorini',\n",
       " 'covid_qa_deepset',\n",
       " 'covid_qa_ucsd',\n",
       " 'covid_tweets_japanese',\n",
       " 'covost2',\n",
       " 'cppe-5',\n",
       " 'craigslist_bargains',\n",
       " 'crawl_domain',\n",
       " 'crd3',\n",
       " 'crime_and_punish',\n",
       " 'crows_pairs',\n",
       " 'cryptonite',\n",
       " 'cs_restaurants',\n",
       " 'cuad',\n",
       " 'curiosity_dialogs',\n",
       " 'daily_dialog',\n",
       " 'dane',\n",
       " 'danish_political_comments',\n",
       " 'dart',\n",
       " 'datacommons_factcheck',\n",
       " 'fancyzhx/dbpedia_14',\n",
       " 'dbrd',\n",
       " 'deal_or_no_dialog',\n",
       " 'definite_pronoun_resolution',\n",
       " 'dengue_filipino',\n",
       " 'dialog_re',\n",
       " 'diplomacy_detection',\n",
       " 'disaster_response_messages',\n",
       " 'discofuse',\n",
       " 'discovery',\n",
       " 'disfl_qa',\n",
       " 'doc2dial',\n",
       " 'docred',\n",
       " 'doqa',\n",
       " 'dream',\n",
       " 'ucinlp/drop',\n",
       " 'ibm/duorc',\n",
       " 'dutch_social',\n",
       " 'dyk',\n",
       " 'e2e_nlg',\n",
       " 'e2e_nlg_cleaned',\n",
       " 'ecb',\n",
       " 'ecthr_cases',\n",
       " 'eduge',\n",
       " 'ehealth_kd',\n",
       " 'Helsinki-NLP/eitb_parcc',\n",
       " 'electricity_load_diagrams',\n",
       " 'eli5',\n",
       " 'eli5_category',\n",
       " 'emea',\n",
       " 'emo',\n",
       " 'dair-ai/emotion',\n",
       " 'emotone_ar',\n",
       " 'empathetic_dialogues',\n",
       " 'enriched_web_nlg',\n",
       " 'eraser_multi_rc',\n",
       " 'esnli',\n",
       " 'eth_py150_open',\n",
       " 'ethos',\n",
       " 'eu_regulatory_ir',\n",
       " 'eurlex',\n",
       " 'euronews',\n",
       " 'europa_eac_tm',\n",
       " 'europa_ecdc_tm',\n",
       " 'Helsinki-NLP/europarl',\n",
       " 'event2Mind',\n",
       " 'evidence_infer_treatment',\n",
       " 'mhardalov/exams',\n",
       " 'factckbr',\n",
       " 'fake_news_english',\n",
       " 'fake_news_filipino',\n",
       " 'farsi_news',\n",
       " 'fashion_mnist',\n",
       " 'fever',\n",
       " 'few_rel',\n",
       " 'financial_phrasebank',\n",
       " 'finer',\n",
       " 'flores',\n",
       " 'flue',\n",
       " 'food101',\n",
       " 'fquad',\n",
       " 'freebase_qa',\n",
       " 'gap',\n",
       " 'gem',\n",
       " 'generated_reviews_enth',\n",
       " 'generics_kb',\n",
       " 'german_legal_entity_recognition',\n",
       " 'germaner',\n",
       " 'germeval_14',\n",
       " 'giga_fren',\n",
       " 'gigaword',\n",
       " 'glucose',\n",
       " 'nyu-mll/glue',\n",
       " 'gnad10',\n",
       " 'go_emotions',\n",
       " 'gooaq',\n",
       " 'google_wellformed_query',\n",
       " 'grail_qa',\n",
       " 'great_code',\n",
       " 'AI-team-UoA/greek_legal_code',\n",
       " 'guardian_authorship',\n",
       " 'gutenberg_time',\n",
       " 'hans',\n",
       " 'hansards',\n",
       " 'hard',\n",
       " 'harem',\n",
       " 'has_part',\n",
       " 'hate_offensive',\n",
       " 'hate_speech18',\n",
       " 'hate_speech_filipino',\n",
       " 'tdavidson/hate_speech_offensive',\n",
       " 'hate_speech_pl',\n",
       " 'hate_speech_portuguese',\n",
       " 'hatexplain',\n",
       " 'hausa_voa_ner',\n",
       " 'hausa_voa_topics',\n",
       " 'hda_nli_hindi',\n",
       " 'head_qa',\n",
       " 'health_fact',\n",
       " 'hebrew_projectbenyehuda',\n",
       " 'hebrew_sentiment',\n",
       " 'hebrew_this_world',\n",
       " 'Rowan/hellaswag',\n",
       " 'cais/mmlu',\n",
       " 'hind_encorp',\n",
       " 'hindi_discourse',\n",
       " 'hippocorpus',\n",
       " 'hkcancor',\n",
       " 'hlgd',\n",
       " 'hope_edi',\n",
       " 'hotpot_qa',\n",
       " 'hover',\n",
       " 'hrenwac_para',\n",
       " 'hrwac',\n",
       " 'humicroedit',\n",
       " 'hybrid_qa',\n",
       " 'hyperpartisan_news_detection',\n",
       " 'iapp_wiki_qa_squad',\n",
       " 'id_clickbait',\n",
       " 'id_liputan6',\n",
       " 'id_nergrit_corpus',\n",
       " 'id_newspapers_2018',\n",
       " 'id_panl_bppt',\n",
       " 'id_puisi',\n",
       " 'igbo_english_machine_translation',\n",
       " 'igbo_monolingual',\n",
       " 'igbo_ner',\n",
       " 'ilist',\n",
       " 'stanfordnlp/imdb',\n",
       " 'imdb_urdu_reviews',\n",
       " 'imppres',\n",
       " 'indic_glue',\n",
       " 'indonli',\n",
       " 'indonlp/indonlu',\n",
       " 'inquisitive_qg',\n",
       " 'interpress_news_category_tr',\n",
       " 'interpress_news_category_tr_lite',\n",
       " 'irc_disentangle',\n",
       " 'isixhosa_ner_corpus',\n",
       " 'isizulu_ner_corpus',\n",
       " 'iwslt2017',\n",
       " 'jeopardy',\n",
       " 'jhu-clsp/jfleg',\n",
       " 'google/jigsaw_toxicity_pred',\n",
       " 'google/jigsaw_unintended_bias',\n",
       " 'jnlpba',\n",
       " 'journalists_questions',\n",
       " 'kan_hope',\n",
       " 'kannada_news',\n",
       " 'kd_conv',\n",
       " 'kde4',\n",
       " 'kelm',\n",
       " 'kilt_tasks',\n",
       " 'kilt_wikipedia',\n",
       " 'kinnews_kirnews',\n",
       " 'klue',\n",
       " 'kor_3i4k',\n",
       " 'kor_hate',\n",
       " 'kor_ner',\n",
       " 'kor_nli',\n",
       " 'kor_nlu',\n",
       " 'kor_qpair',\n",
       " 'kor_sae',\n",
       " 'kor_sarcasm',\n",
       " 'labr',\n",
       " 'lama',\n",
       " 'cimec/lambada',\n",
       " 'large_spanish_corpus',\n",
       " 'laroseda',\n",
       " 'lc_quad',\n",
       " 'lener_br',\n",
       " 'coastalcph/lex_glue',\n",
       " 'liar',\n",
       " 'librispeech_asr',\n",
       " 'librispeech_lm',\n",
       " 'limit',\n",
       " 'lince',\n",
       " 'linnaeus',\n",
       " 'liveqa',\n",
       " 'lj_speech',\n",
       " 'lm1b',\n",
       " 'lst20',\n",
       " 'm_lama',\n",
       " 'mac_morpho',\n",
       " 'makhzan',\n",
       " 'masakhaner',\n",
       " 'math_dataset',\n",
       " 'math_qa',\n",
       " 'matinf',\n",
       " 'mbpp',\n",
       " 'mc4',\n",
       " 'mc_taco',\n",
       " 'md_gender_bias',\n",
       " 'mdd',\n",
       " 'med_hop',\n",
       " 'medal',\n",
       " 'medical_dialog',\n",
       " 'medical_questions_pairs',\n",
       " 'menyo20k_mt',\n",
       " 'meta_woz',\n",
       " 'metooma',\n",
       " 'metrec',\n",
       " 'miam',\n",
       " 'mkb',\n",
       " 'mkqa',\n",
       " 'mlqa',\n",
       " 'mlsum',\n",
       " 'mnist',\n",
       " 'mocha',\n",
       " 'moroco',\n",
       " 'movie_rationales',\n",
       " 'mrqa',\n",
       " 'ms_marco',\n",
       " 'ms_terms',\n",
       " 'msr_genomics_kbcomp',\n",
       " 'msr_sqa',\n",
       " 'msr_text_compression',\n",
       " 'msr_zhen_translation_parity',\n",
       " 'msra_ner',\n",
       " 'mt_eng_vietnamese',\n",
       " 'muchocine',\n",
       " 'multi_booked',\n",
       " 'coastalcph/multi_eurlex',\n",
       " 'multi_news',\n",
       " 'nyu-mll/multi_nli',\n",
       " 'multi_nli_mismatch',\n",
       " 'multi_para_crawl',\n",
       " 'multi_re_qa',\n",
       " 'multi_woz_v22',\n",
       " 'multi_x_science_sum',\n",
       " 'multidoc2dial',\n",
       " 'multilingual_librispeech',\n",
       " 'mutual_friends',\n",
       " 'mwsc',\n",
       " 'myanmar_news',\n",
       " 'narrativeqa',\n",
       " 'narrativeqa_manual',\n",
       " 'natural_questions',\n",
       " 'ncbi_disease',\n",
       " 'nchlt',\n",
       " 'ncslgr',\n",
       " 'nell',\n",
       " 'neural_code_search',\n",
       " 'Helsinki-NLP/news_commentary',\n",
       " 'newsgroup',\n",
       " 'newsph',\n",
       " 'newsph_nli',\n",
       " 'newspop',\n",
       " 'newsqa',\n",
       " 'newsroom',\n",
       " 'nkjp-ner',\n",
       " 'nli_tr',\n",
       " 'nlu_evaluation_data',\n",
       " 'norec',\n",
       " 'norne',\n",
       " 'norwegian_ner',\n",
       " 'nq_open',\n",
       " 'nsmc',\n",
       " 'numer_sense',\n",
       " 'numeric_fused_head',\n",
       " 'oclar',\n",
       " 'offcombr',\n",
       " 'offenseval2020_tr',\n",
       " 'offenseval_dravidian',\n",
       " 'ofis_publik',\n",
       " 'ohsumed',\n",
       " 'ollie',\n",
       " 'omp',\n",
       " 'onestop_english',\n",
       " 'onestop_qa',\n",
       " 'open_subtitles',\n",
       " 'openai_humaneval',\n",
       " 'allenai/openbookqa',\n",
       " 'openslr',\n",
       " 'Skylion007/openwebtext',\n",
       " 'opinosis',\n",
       " 'Helsinki-NLP/opus-100',\n",
       " 'Helsinki-NLP/opus_books',\n",
       " 'Helsinki-NLP/opus_dgt',\n",
       " 'Helsinki-NLP/opus_dogc',\n",
       " 'Helsinki-NLP/opus_elhuyar',\n",
       " 'Helsinki-NLP/euconst',\n",
       " 'Helsinki-NLP/opus_finlex',\n",
       " 'Helsinki-NLP/opus_fiskmo',\n",
       " 'Helsinki-NLP/opus_gnome',\n",
       " 'Helsinki-NLP/opus_infopankki',\n",
       " 'Helsinki-NLP/opus_memat',\n",
       " 'Helsinki-NLP/opus_montenegrinsubs',\n",
       " 'Helsinki-NLP/opus_openoffice',\n",
       " 'Helsinki-NLP/opus_paracrawl',\n",
       " 'Helsinki-NLP/opus_rf',\n",
       " 'Helsinki-NLP/opus_tedtalks',\n",
       " 'Helsinki-NLP/opus_ubuntu',\n",
       " 'Helsinki-NLP/opus_wikipedia',\n",
       " 'Helsinki-NLP/opus_xhosanavy',\n",
       " 'orange_sum',\n",
       " 'oscar',\n",
       " 'para_crawl',\n",
       " 'para_pat',\n",
       " 'parsinlu_reading_comprehension',\n",
       " 'pass',\n",
       " 'paws-x',\n",
       " 'paws',\n",
       " 'pec',\n",
       " 'allenai/peer_read',\n",
       " 'peoples_daily_ner',\n",
       " 'per_sent',\n",
       " 'persian_ner',\n",
       " 'pg19',\n",
       " 'php',\n",
       " 'AgentPublic/piaf',\n",
       " 'pib',\n",
       " 'piqa',\n",
       " 'pn_summary',\n",
       " 'poem_sentiment',\n",
       " 'polemo2',\n",
       " 'poleval2019_cyberbullying',\n",
       " 'poleval2019_mt',\n",
       " 'polsum',\n",
       " 'polyglot_ner',\n",
       " 'prachathai67k',\n",
       " 'pragmeval',\n",
       " 'proto_qa',\n",
       " 'psc',\n",
       " 'ptb_text_only',\n",
       " 'pubmed',\n",
       " 'qiaojin/PubMedQA',\n",
       " 'py_ast',\n",
       " 'qa4mre',\n",
       " 'qa_srl',\n",
       " 'qa_zre',\n",
       " 'qangaroo',\n",
       " 'qanta',\n",
       " 'allenai/qasc',\n",
       " 'allenai/qasper',\n",
       " 'qed',\n",
       " 'qed_amara',\n",
       " 'quac',\n",
       " 'quail',\n",
       " 'quarel',\n",
       " 'allenai/quartz',\n",
       " 'quora',\n",
       " 'quoref',\n",
       " 'ehovy/race',\n",
       " 're_dial',\n",
       " 'reasoning_bg',\n",
       " 'recipe_nlg',\n",
       " 'reclor',\n",
       " 'red_caps',\n",
       " 'webis/tldr-17',\n",
       " 'reddit_tifu',\n",
       " 'refresd',\n",
       " 'reuters21578',\n",
       " 'riddle_sense',\n",
       " 'ro_sent',\n",
       " 'ro_sts',\n",
       " 'ro_sts_parallel',\n",
       " 'roman_urdu',\n",
       " 'ronec',\n",
       " 'allenai/ropes',\n",
       " 'rotten_tomatoes',\n",
       " 'RussianNLP/russian_super_glue',\n",
       " 'samsum',\n",
       " 'sanskrit_classic',\n",
       " 'saudinewsnet',\n",
       " 'sberquad',\n",
       " 'scan',\n",
       " 'scb_mt_enth_2020',\n",
       " 'scene_parse_150',\n",
       " 'schema_guided_dstc8',\n",
       " 'allenai/scicite',\n",
       " 'scielo',\n",
       " 'scientific_papers',\n",
       " 'allenai/scifact',\n",
       " 'allenai/sciq',\n",
       " 'allenai/scitail',\n",
       " 'allenai/scitldr',\n",
       " 'search_qa',\n",
       " 'sede',\n",
       " 'selqa',\n",
       " 'sem_eval_2010_task_8',\n",
       " 'sem_eval_2014_task_1',\n",
       " 'sem_eval_2018_task_1',\n",
       " 'sem_eval_2020_task_11',\n",
       " 'sent_comp',\n",
       " 'senti_lex',\n",
       " 'senti_ws',\n",
       " 'sentiment140',\n",
       " 'sepedi_ner',\n",
       " 'sesotho_ner_corpus',\n",
       " 'setimes',\n",
       " 'setswana_ner_corpus',\n",
       " 'UCLNLP/sharc',\n",
       " 'sharc_modified',\n",
       " 'sick',\n",
       " 'silicone',\n",
       " 'simple_questions_v2',\n",
       " 'siswati_ner_corpus',\n",
       " 'smartdata',\n",
       " 'sms_spam',\n",
       " 'snips_built_in_intents',\n",
       " 'stanfordnlp/snli',\n",
       " 'snow_simplified_japanese_corpus',\n",
       " 'so_stacksample',\n",
       " 'social_bias_frames',\n",
       " 'social_i_qa',\n",
       " 'sofc_materials_articles',\n",
       " 'sogou_news',\n",
       " 'spanish_billion_words',\n",
       " 'spc',\n",
       " 'species_800',\n",
       " 'speech_commands',\n",
       " 'spider',\n",
       " 'rajpurkar/squad',\n",
       " 'squad_adversarial',\n",
       " 'squad_es',\n",
       " 'squad_it',\n",
       " 'squad_kor_v1',\n",
       " 'squad_kor_v2',\n",
       " 'squad_v1_pt',\n",
       " 'rajpurkar/squad_v2',\n",
       " 'squadshifts',\n",
       " 'srwac',\n",
       " 'sst',\n",
       " 'McGill-NLP/stereoset',\n",
       " 'story_cloze',\n",
       " 'stsb_mt_sv',\n",
       " 'PhilipMay/stsb_multi_mt',\n",
       " 'style_change_detection',\n",
       " 'subjqa',\n",
       " 'super_glue',\n",
       " 'superb',\n",
       " 'svhn',\n",
       " 'swag',\n",
       " 'swahili',\n",
       " 'swahili_news',\n",
       " 'swda',\n",
       " 'swedish_medical_ner',\n",
       " 'swedish_ner_corpus',\n",
       " 'swedish_reviews',\n",
       " 'rcds/swiss_judgment_prediction',\n",
       " 'tab_fact',\n",
       " 'tamilmixsentiment',\n",
       " 'tanzil',\n",
       " 'tapaco',\n",
       " 'tashkeela',\n",
       " 'taskmaster1',\n",
       " 'taskmaster2',\n",
       " 'taskmaster3',\n",
       " 'tatoeba',\n",
       " 'ted_hrlr',\n",
       " 'ted_iwlst2013',\n",
       " 'ted_multi',\n",
       " 'ted_talks_iwslt',\n",
       " 'telugu_books',\n",
       " 'telugu_news',\n",
       " 'tep_en_fa_para',\n",
       " 'text2log',\n",
       " 'thai_toxicity_tweet',\n",
       " 'thainer',\n",
       " 'thaiqa_squad',\n",
       " 'thaisum',\n",
       " 'EleutherAI/pile',\n",
       " 'the_pile_books3',\n",
       " 'the_pile_openwebtext2',\n",
       " 'the_pile_stack_exchange',\n",
       " 'tilde_model',\n",
       " 'time_dial',\n",
       " 'times_of_india_news_headlines',\n",
       " 'timit_asr',\n",
       " 'karpathy/tiny_shakespeare',\n",
       " 'tlc',\n",
       " 'tmu_gfm_dataset',\n",
       " 'told-br',\n",
       " 'totto',\n",
       " 'trec',\n",
       " 'mandarjoshi/trivia_qa',\n",
       " 'tsac',\n",
       " 'ttc4900',\n",
       " 'tunizi',\n",
       " 'tuple_ie',\n",
       " 'turk',\n",
       " 'turkic_xwmt',\n",
       " 'turkish_movie_sentiment',\n",
       " 'turkish_ner',\n",
       " 'turkish_product_reviews',\n",
       " 'turkish_shrinked_ner',\n",
       " 'turku_ner_corpus',\n",
       " 'tweet_eval',\n",
       " 'tweet_qa',\n",
       " 'tweets_ar_en_parallel',\n",
       " 'tweets_hate_speech_detection',\n",
       " 'twi_text_c3',\n",
       " 'twi_wordsim353',\n",
       " 'tydiqa',\n",
       " 'ubuntu_dialogs_corpus',\n",
       " 'udhr',\n",
       " 'um005',\n",
       " 'Helsinki-NLP/un_ga',\n",
       " 'Helsinki-NLP/multiun',\n",
       " 'Helsinki-NLP/un_pc',\n",
       " 'universal_dependencies',\n",
       " 'universal_morphologies',\n",
       " 'urdu_fake_news',\n",
       " 'urdu_sentiment_corpus',\n",
       " 'vctk',\n",
       " 'vivos',\n",
       " 'web_nlg',\n",
       " 'web_of_science',\n",
       " 'web_questions',\n",
       " 'weibo_ner',\n",
       " 'wi_locness',\n",
       " 'wider_face',\n",
       " 'wiki40b',\n",
       " 'wiki_asp',\n",
       " 'wiki_atomic_edits',\n",
       " 'wiki_auto',\n",
       " 'wiki_bio',\n",
       " 'wiki_dpr',\n",
       " 'wiki_hop',\n",
       " 'wiki_lingua',\n",
       " 'wiki_movies',\n",
       " 'wiki_qa',\n",
       " 'wiki_qa_ar',\n",
       " 'wiki_snippets',\n",
       " 'wiki_source',\n",
       " 'wiki_split',\n",
       " 'wiki_summary',\n",
       " 'wikiann',\n",
       " 'wikicorpus',\n",
       " 'wikihow',\n",
       " 'wikipedia',\n",
       " 'wikisql',\n",
       " 'wikitext',\n",
       " 'wikitext_tl39',\n",
       " 'wili_2018',\n",
       " 'wino_bias',\n",
       " 'winograd_wsc',\n",
       " 'winogrande',\n",
       " 'wiqa',\n",
       " 'wisesight1000',\n",
       " 'wisesight_sentiment',\n",
       " 'wmt/wmt14',\n",
       " 'wmt/wmt15',\n",
       " 'wmt/wmt16',\n",
       " 'wmt/wmt17',\n",
       " 'wmt/wmt18',\n",
       " 'wmt/wmt19',\n",
       " 'wmt/wmt20_mlqe_task1',\n",
       " 'wmt/wmt20_mlqe_task2',\n",
       " 'wmt/wmt20_mlqe_task3',\n",
       " 'wmt/wmt_t2t',\n",
       " 'wnut_17',\n",
       " 'wongnai_reviews',\n",
       " 'woz_dialogue',\n",
       " 'wrbsc',\n",
       " 'x_stance',\n",
       " 'xcopa',\n",
       " 'xcsr',\n",
       " 'xed_en_fi',\n",
       " 'xglue',\n",
       " 'xnli',\n",
       " 'xor_tydi_qa',\n",
       " 'xquad',\n",
       " 'xquad_r',\n",
       " 'EdinburghNLP/xsum',\n",
       " 'xsum_factuality',\n",
       " 'xtreme',\n",
       " 'yahoo_answers_qa',\n",
       " 'yahoo_answers_topics',\n",
       " 'yelp_polarity',\n",
       " 'yelp_review_full',\n",
       " 'yoruba_bbc_topics',\n",
       " 'yoruba_gv_ner',\n",
       " 'yoruba_text_c3',\n",
       " 'yoruba_wordsim353',\n",
       " 'youtube_caption_corrections',\n",
       " 'zest',\n",
       " '0n1xus/codexglue',\n",
       " '0n1xus/pytorrent-standalone',\n",
       " 'AConsApart/anime_subtitles_DialoGPT',\n",
       " 'AHussain0418/day2_data',\n",
       " 'AHussain0418/day4data',\n",
       " 'AHussain0418/demo_data',\n",
       " 'AI-Sweden/SuperLim',\n",
       " 'AI-it/khs_service_test',\n",
       " 'AI-it/korean-hate-speech',\n",
       " 'ARKseal/YFCC14M_subset_webdataset',\n",
       " 'ARTeLab/fanpage',\n",
       " 'ARTeLab/ilpost',\n",
       " 'ARTeLab/mlsum-it',\n",
       " 'ASCCCCCCCC/amazon_zh',\n",
       " 'ASCCCCCCCC/amazon_zh_simple',\n",
       " 'Abdo1Kamr/Arabic_Hadith',\n",
       " 'Abirate/code_net_dataset',\n",
       " 'Abirate/code_net_dev_dataset',\n",
       " 'Abirate/code_net_test_final_dataset',\n",
       " 'Abirate/english_quotes',\n",
       " 'Abirate/french_book_reviews',\n",
       " 'AdWeeb/DravidianMT',\n",
       " 'Adnan/Urdu_News_Headlines',\n",
       " 'AhmadSawal/qa',\n",
       " 'AhmedSSoliman/CoNaLa',\n",
       " 'Aisha/BAAD16',\n",
       " 'Aisha/BAAD6',\n",
       " 'Akila/ForgottenRealmsWikiDataset',\n",
       " 'Akshith/aa',\n",
       " 'Akshith/g_rock',\n",
       " 'Akshith/test',\n",
       " 'adorkin/extended_tweet_emojis',\n",
       " 'AlekseyKorshuk/comedy-scripts',\n",
       " 'AlekseyKorshuk/horror-scripts',\n",
       " 'AlexMaclean/all-deletion-compressions',\n",
       " 'AlexMaclean/wikipedia-deletion-compressions',\n",
       " 'AlexZapolskii/zapolskii-amazon',\n",
       " 'Aliseyfi/event_token_type',\n",
       " 'Alvenir/nst-da-16khz',\n",
       " 'AndrewMcDowell/de_corpora_parliament_processed',\n",
       " 'Annabelleabbott/real-fake-news-workshop',\n",
       " 'Annielytics/DoctorsNotes',\n",
       " 'Anurag-Singh-creator/task',\n",
       " 'Anurag-Singh-creator/tasks',\n",
       " 'ApiInferenceTest/asr_dummy',\n",
       " 'Arnold/hausa_common_voice',\n",
       " 'AryanLala/autonlp-data-Scientific_Title_Generator',\n",
       " 'Atsushi/fungi_diagnostic_chars_comparison_japanese',\n",
       " 'Atsushi/fungi_indexed_mycological_papers_japanese',\n",
       " 'Atsushi/fungi_trait_circus_database',\n",
       " 'Avishekavi/Avi',\n",
       " 'Babelscape/rebel-dataset',\n",
       " 'Babelscape/wikineural',\n",
       " 'BatuhanYilmaz/github-issues',\n",
       " 'Baybars/parla_text_corpus',\n",
       " 'BeIR/beir-corpus',\n",
       " 'BeIR/beir',\n",
       " 'Lacito/pangloss',\n",
       " 'Binbin/my_dataset',\n",
       " 'BlakesOrb6/Fred-Flintstone',\n",
       " 'Bosio/pacman',\n",
       " 'Bosio/pacman_descriptions',\n",
       " 'TheBritishLibrary/EThOS-PhD-metadata',\n",
       " 'CAGER/rick',\n",
       " 'CALM/arwiki',\n",
       " 'CAiRE/ASCEND',\n",
       " 'CShorten/KerasBERT',\n",
       " 'ChadxxxxHall/Inter-vision',\n",
       " 'Champion/vpc2020_clear_anon_speech',\n",
       " 'Check/a_re_gi',\n",
       " 'Check/region_1',\n",
       " 'Check/region_2',\n",
       " 'Check/region_3',\n",
       " 'Check/region_4',\n",
       " 'Check/region_5',\n",
       " 'Check/region_6',\n",
       " 'Check/region_7',\n",
       " 'Check/region_8',\n",
       " 'Check/region_9',\n",
       " 'Check/regions',\n",
       " 'Check/vverify',\n",
       " 'Cheranga/test',\n",
       " 'ChristophSchuhmann/MS_COCO_2017_URL_TEXT',\n",
       " 'Chun/dataset',\n",
       " 'Chuu/Vhh',\n",
       " 'CodedotAI/code-clippy-tfrecords',\n",
       " 'CodedotAI/code_clippy',\n",
       " 'CodedotAI/code_clippy_github',\n",
       " 'Crives/haha',\n",
       " 'Cropinky/flatearther',\n",
       " 'Cropinky/rap_lyrics_english',\n",
       " 'Cropinky/wow_fishing_bobber',\n",
       " 'Cyberfish/pos_tagger',\n",
       " 'Cyberfish/text_error_correction',\n",
       " 'CyranoB/polarity',\n",
       " 'DDSC/angry-tweets',\n",
       " 'DDSC/dkhate',\n",
       " 'DDSC/europarl',\n",
       " 'DDSC/lcc',\n",
       " 'DDSC/reddit-da-asr-preprocessed',\n",
       " 'DDSC/reddit-da',\n",
       " 'DELith/github-issues',\n",
       " 'DSCI511G1/COP26_Energy_Transition_Tweets',\n",
       " 'DanL/scientific-challenges-and-directions-dataset',\n",
       " 'Daniele/dante-corpus',\n",
       " 'Darren/data',\n",
       " 'Nexdata/accented_english',\n",
       " 'Nexdata/accented_mandarin',\n",
       " 'Nexdata/chinese_dialect',\n",
       " 'Nexdata/mandarin_chinese',\n",
       " 'Nexdata/mixed_speech_chinese_english',\n",
       " 'Nexdata/multi_language',\n",
       " 'Nexdata/multi_language_conversation',\n",
       " 'Davlan/conll2003_de_noMISC',\n",
       " 'Davlan/conll2003_noMISC',\n",
       " 'Davlan/masakhanerV1',\n",
       " 'DelgadoPanadero/Pokemon',\n",
       " 'DeskDown/ALTDataset',\n",
       " 'DeskDown/ALTDataset_en-to-fil-vi-id-ms-ja-khm',\n",
       " 'DiFronzo/Human_Activity_Recognition',\n",
       " 'Dmitriy612/1',\n",
       " 'Doohae/klue-mrc-bm25',\n",
       " 'Doohae/modern_music_re',\n",
       " 'DoyyingFace/github-embeddings-doy',\n",
       " 'DoyyingFace/github-issues-doy',\n",
       " 'DrishtiSharma/as_opus100_processed',\n",
       " 'DrishtiSharma/bg_opus100_processed',\n",
       " 'DrishtiSharma/br_opus100_processed',\n",
       " 'DrishtiSharma/hi_opus100_processed',\n",
       " 'DrishtiSharma/kk_opus100_processed',\n",
       " 'DrishtiSharma/mr_opus100_processed',\n",
       " 'DrishtiSharma/or_opus100_processed',\n",
       " 'DrishtiSharma/sl_opus100_processed',\n",
       " 'DrishtiSharma/sr_opus100_processed',\n",
       " 'EMBO/biolang',\n",
       " 'EMBO/sd-nlp',\n",
       " 'ESZER/H',\n",
       " 'Emanuel/UD_Portuguese-Bosque',\n",
       " 'Emma121/aaaaa',\n",
       " 'Emma121/testtest',\n",
       " 'Enes3774/data',\n",
       " 'Exr0n/wiki-entity-similarity',\n",
       " 'Eymen3455/xsum_tr',\n",
       " 'FIG-Loneliness/FIG-Loneliness',\n",
       " 'FL33TW00D/test-dataset',\n",
       " 'FRTNX/cosuju',\n",
       " 'FRTNX/worldbank-projects',\n",
       " 'Felix-ML/quoteli3',\n",
       " 'Finnish-NLP/mc4_fi_cleaned',\n",
       " 'Firoj/HumAID',\n",
       " 'Francois/futures_es',\n",
       " 'Fraser/mnist-text-default',\n",
       " 'Fraser/mnist-text-no-spaces',\n",
       " 'Fraser/mnist-text-small',\n",
       " 'Fraser/dream-coder',\n",
       " 'Fraser/python-lines',\n",
       " 'Fraser/python-state-changes',\n",
       " 'Fraser/short-jokes',\n",
       " 'Fraser/wiki_sentences',\n",
       " 'GEM/ART',\n",
       " 'GEM/BiSECT',\n",
       " 'GEM/CrossWOZ',\n",
       " 'GEM/OrangeSum',\n",
       " 'GEM/RiSAWOZ',\n",
       " 'GEM/RotoWire_English-German',\n",
       " 'GEM/SIMPITIKI',\n",
       " 'GEM/SciDuet',\n",
       " 'GEM/Taskmaster',\n",
       " 'GEM/cochrane-simplification',\n",
       " 'GEM/common_gen',\n",
       " 'GEM/conversational_weather',\n",
       " 'GEM/cs_restaurants',\n",
       " 'GEM/dart',\n",
       " 'GEM/dstc10_track2_task2',\n",
       " 'GEM/e2e_nlg',\n",
       " 'GEM/indonlg',\n",
       " 'GEM/mlb_data_to_text',\n",
       " 'GEM/mlsum',\n",
       " 'GEM/opusparcus',\n",
       " 'GEM/references',\n",
       " 'GEM/schema_guided_dialog',\n",
       " 'GEM/sportsett_basketball',\n",
       " 'GEM/squad_v2',\n",
       " 'GEM/surface_realisation_st_2020',\n",
       " 'GEM/totto',\n",
       " 'GEM/turku_hockey_data2text',\n",
       " 'GEM/turku_paraphrase_corpus',\n",
       " 'GEM-submissions/v1-outputs-and-scores',\n",
       " 'GEM/viggo',\n",
       " 'GEM/web_nlg',\n",
       " 'GEM/wiki_auto_asset_turk',\n",
       " 'GEM/wiki_cat_sum',\n",
       " 'GEM/wiki_lingua',\n",
       " 'GEM/xlsum',\n",
       " 'GEM/xsum',\n",
       " 'GEM-submissions/GEM__bart_base_schema_guided_dialog__1645547915',\n",
       " 'GEM-submissions/Leo__bart-large__1645784880',\n",
       " 'GEM-submissions/Leo__mbart-large-cc25__1645802644',\n",
       " 'GEM-submissions/lewtun__hugging-face-test-t5-base.outputs.json-36bf2a59__1645558682',\n",
       " 'GEM-submissions/lewtun__hugging-face-test-t5-base.outputs.json-36bf2a59__1645559101',\n",
       " 'GEM-submissions/lewtun__hugging-face-test-t5-base.outputs.json-36bf2a59__1645800191',\n",
       " 'GEM-submissions/lewtun__hugging-face-test-t5-base.outputs.json-36bf2a59__1646049378',\n",
       " 'GEM-submissions/lewtun__hugging-face-test-t5-base.outputs.json-36bf2a59__1646049424',\n",
       " 'GEM-submissions/lewtun__hugging-face-test-t5-base.outputs.json-36bf2a59__1646049601',\n",
       " 'GEM-submissions/lewtun__hugging-face-test-t5-base.outputs.json-36bf2a59__1646049876',\n",
       " 'GEM-submissions/lewtun__hugging-face-test-t5-base.outputs.json-36bf2a59__1646050898',\n",
       " 'GEM-submissions/lewtun__hugging-face-test-t5-base.outputs.json-36bf2a59__1646051364',\n",
       " 'GEM-submissions/lewtun__hugging-face-test-t5-base.outputs.json-36bf2a59__1646052073',\n",
       " 'GEM-submissions/lewtun__this-is-a-test__1646052811',\n",
       " 'GEM-submissions/lewtun__this-is-a-test__1646230987',\n",
       " 'GEM-submissions/ratishsp',\n",
       " 'GEM-submissions/submission-scores',\n",
       " 'GV05/shlomit_speech',\n",
       " 'Gabriel/quora_swe',\n",
       " 'GalacticAI/Noirset',\n",
       " 'Gauravadlakha1509/new_one',\n",
       " 'GeoffVdr/cv8_trainval_processed',\n",
       " 'GonzaloA/fake_news',\n",
       " 'Graphcore/gqa-lxmert',\n",
       " 'Graphcore/gqa',\n",
       " 'Graphcore/vqa-lxmert',\n",
       " 'Graphcore/vqa',\n",
       " 'Graphcore/wikipedia-bert-128',\n",
       " 'Graphcore/wikipedia-bert-512',\n",
       " 'GroNLP/ik-nlp-22_pestyle',\n",
       " 'GroNLP/ik-nlp-22_slp',\n",
       " 'GroNLP/ik-nlp-22_transqe',\n",
       " 'GroNLP/ik-nlp-22_winemag',\n",
       " 'HHousen/ParaSCI',\n",
       " 'HHousen/msrp',\n",
       " 'HHousen/quora',\n",
       " 'HUPD/hupd',\n",
       " 'Halilyesilceng/autonlp-data-nameEntityRecognition',\n",
       " 'HarleyQ/WitcherDialogue',\n",
       " 'HarrisDePerceptron/sv_corpora_parliament_processed',\n",
       " 'HarrisDePerceptron/ur_corpora_pib',\n",
       " 'Harveenchadha/bol-models',\n",
       " 'Harveenchadha/indic-voice',\n",
       " 'HarveyBWest/mybot',\n",
       " 'Hellisotherpeople/DebateSum',\n",
       " 'Helsinki-NLP/tatoeba_mt',\n",
       " 'HenryAI/KerasAPIReference.txt',\n",
       " 'HenryAI/KerasBERTv1-Data',\n",
       " 'HenryAI/KerasCodeExamples.txt',\n",
       " 'HenryAI/KerasDeveloperGuides.txt',\n",
       " 'Huertas97/autonlp-data-mami-semeval-20-21',\n",
       " 'Husain/intent-classification-en-fr',\n",
       " 'IFSTalfredoswald/MBTI',\n",
       " 'Iftoo95/Arabic_Sentiment_and_Topics',\n",
       " 'IlyaGusev/gazeta',\n",
       " 'IlyaGusev/headline_cause',\n",
       " 'Intel/WEC-Eng',\n",
       " 'Ishwar/Senti',\n",
       " 'Iskaj/dutch_corpora_parliament_processed',\n",
       " 'JIWON/nil_dataset',\n",
       " 'JIsanan/war-ceb-wikipedia',\n",
       " 'Jack0508/TED2020_kor',\n",
       " 'Jack0508/TED2020_vi',\n",
       " 'Jack0508/TED2020vi_kor',\n",
       " 'Jack0508/demo',\n",
       " 'Jack0508/eng_vi_demo',\n",
       " 'Jack0508/test',\n",
       " 'Jack0508/vi-ko-TED-txt',\n",
       " ...]"
      ]
     },
     "execution_count": 106,
     "metadata": {},
     "output_type": "execute_result"
    }
   ],
   "source": [
    "import datasets\n",
    "datasets.list_datasets()"
   ]
  },
  {
   "cell_type": "markdown",
   "metadata": {
    "id": "9wyhw7igoQdD"
   },
   "source": [
    "Zbiorów danych jest sporo, a ich liczba stale rośnie. Na potrzeby tego eksperymentu wybierzmy dowolny zbiór (zadanie nie jest tak wyspecyfikowane, by nakładać na nas konieczność wyboru wg konkretnych kryteriów).\n",
    "\n",
    "---\n",
    "\n"
   ]
  },
  {
   "cell_type": "code",
   "execution_count": 107,
   "metadata": {
    "id": "8GgJ05UnoclR"
   },
   "outputs": [
    {
     "name": "stderr",
     "output_type": "stream",
     "text": [
      "Found cached dataset parquet (C:/Users/AGH/.cache/huggingface/datasets/parquet/ag_news-216298233d2300ec/0.0.0/14a00e99c0d15a23649d0db8944380ac81082d4b021f398733dd84f3a6c569a7)\n"
     ]
    },
    {
     "data": {
      "text/plain": [
       "Dataset({\n",
       "    features: ['text', 'label'],\n",
       "    num_rows: 120000\n",
       "})"
      ]
     },
     "execution_count": 107,
     "metadata": {},
     "output_type": "execute_result"
    }
   ],
   "source": [
    "dataset = datasets.load_dataset('ag_news', split='train')\n",
    "dataset"
   ]
  },
  {
   "cell_type": "markdown",
   "metadata": {
    "id": "oU8czV0vqBkG"
   },
   "source": [
    "Jak widzieliśmy w poprzednich przykładach, lista tekstów będzie na razie łatwiejszą strukturą do pracy. Mając powyższy zbiór danych z polami `text` i `label`, możemy utworzyć listę tekstów z prostym zrozumieniem."
   ]
  },
  {
   "cell_type": "code",
   "execution_count": 108,
   "metadata": {
    "id": "6GyDWshMqSHq"
   },
   "outputs": [
    {
     "data": {
      "text/plain": [
       "[\"Wall St. Bears Claw Back Into the Black (Reuters) Reuters - Short-sellers, Wall Street's dwindling\\\\band of ultra-cynics, are seeing green again.\",\n",
       " 'Carlyle Looks Toward Commercial Aerospace (Reuters) Reuters - Private investment firm Carlyle Group,\\\\which has a reputation for making well-timed and occasionally\\\\controversial plays in the defense industry, has quietly placed\\\\its bets on another part of the market.',\n",
       " \"Oil and Economy Cloud Stocks' Outlook (Reuters) Reuters - Soaring crude prices plus worries\\\\about the economy and the outlook for earnings are expected to\\\\hang over the stock market next week during the depth of the\\\\summer doldrums.\",\n",
       " 'Iraq Halts Oil Exports from Main Southern Pipeline (Reuters) Reuters - Authorities have halted oil export\\\\flows from the main pipeline in southern Iraq after\\\\intelligence showed a rebel militia could strike\\\\infrastructure, an oil official said on Saturday.',\n",
       " 'Oil prices soar to all-time record, posing new menace to US economy (AFP) AFP - Tearaway world oil prices, toppling records and straining wallets, present a new economic menace barely three months before the US presidential elections.']"
      ]
     },
     "execution_count": 108,
     "metadata": {},
     "output_type": "execute_result"
    }
   ],
   "source": [
    "large_texts = [item['text'] for item in dataset]\n",
    "large_texts[:5]"
   ]
  },
  {
   "cell_type": "markdown",
   "metadata": {
    "id": "pYYikmVXUM9Y"
   },
   "source": [
    "## ⭐ Zadanie sprawdzające umiejętności 🗻 ⭐\n",
    "\n",
    "Masz wszystkie narzędzia!\n",
    "\n",
    "Zbierz duży zbiór danych tekstów z *HF* i:\n",
    "\n",
    "1.   Przygotuj je do analizy, np.\n",
    "  \n",
    "  a. Stokenizuj je.\n",
    "\n",
    "  b. Przekształć tokeny w lematy (tak, aby `dog` i `dogs` były traktowane jako ta sama funkcja).\n",
    "2. Przedstaw teksty jako bag of words, pamiętając o stopwords. Eksperymentuj z liczbą cech. Jeśli okaże się, że istnieją cechy, które wpływają na reprezentację, wróć do kroku 1. i weź to pod uwagę podczas przygotowywania danych.\n",
    "3. Zwizualizuj dane na wykresie (bez etykiet dla lepszej wydajności). Czy możesz wyróżnić jakieś grupy tekstów? O czym są te teksty?\n",
    "4. Wykryj nazwane jednostki w reprezentantach grup. Czy nazwane jednostki sugerują również temat tekstu?\n"
   ]
  },
  {
   "cell_type": "code",
   "execution_count": null,
   "metadata": {
    "id": "dkIYNxKC4D0c"
   },
   "outputs": [],
   "source": [
    "# Miejsce na Twój kod"
   ]
  }
 ],
 "metadata": {
  "colab": {
   "provenance": []
  },
  "kernelspec": {
   "display_name": "Python 3 (ipykernel)",
   "language": "python",
   "name": "python3"
  },
  "language_info": {
   "codemirror_mode": {
    "name": "ipython",
    "version": 3
   },
   "file_extension": ".py",
   "mimetype": "text/x-python",
   "name": "python",
   "nbconvert_exporter": "python",
   "pygments_lexer": "ipython3",
   "version": "3.11.1"
  }
 },
 "nbformat": 4,
 "nbformat_minor": 1
}
