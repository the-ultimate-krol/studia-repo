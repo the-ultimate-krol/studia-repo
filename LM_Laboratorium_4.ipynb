{
 "cells": [
  {
   "cell_type": "markdown",
   "id": "98a91214-f693-4ec7-891d-fed587297897",
   "metadata": {},
   "source": [
    "# Maksymilian Wojnar"
   ]
  },
  {
   "cell_type": "markdown",
   "id": "fee3853c-e42e-4421-8815-5c7c7e388286",
   "metadata": {},
   "source": [
    "## Zadanie 1, 2"
   ]
  },
  {
   "cell_type": "markdown",
   "id": "0516c9a6-4a09-4c20-becd-d2c75a585f31",
   "metadata": {},
   "source": [
    "W zadaniu wykorzystałem trzy modele, które były trenowane na polskim zbiorze danych (`gpt-neo-pl-125m`, `papuGaPT2`) lub zostały dostosowane do języka polskiego (`bert-base-pl-cased`). Dwa z nich generują dalszą część tekstu na podstawie podanego wejścia (`gpt-neo-pl-125m`, `papuGaPT2`), natomiast trzeci uzupełnia zamaskowane wyrazy (`bert-base-pl-cased`). \n",
    "\n",
    "Zapytania skonstruowałem tak, aby można było udzielić oczekiwanej odpowiedzi za pomocą jednego wyrazu przez bezpośrednią kontynuację zapytania. Ze względu na charakterystykę modeli generatywnych i ich losowość, dopuszczam jednak dłuższe odpowiedzi (maksymalnie 15 tokentów). Aby ułatwić odgadnięcie poprawnego tokenu przez model `bert-base-pl-cased`, do każdego zapytania dodaję drugą część, w której kontynuuję wypowiedź po tokenie maski."
   ]
  },
  {
   "cell_type": "code",
   "execution_count": 1,
   "id": "a96ec9c6-eddc-45f6-93d9-55e2555b38cd",
   "metadata": {},
   "outputs": [],
   "source": [
    "import transformers\n",
    "\n",
    "gpt_neo = transformers.pipeline(model='mbien/gpt-neo-pl-125m')     # text generation\n",
    "papuga = transformers.pipeline(model='flax-community/papuGaPT2')   # text generation\n",
    "bert = transformers.pipeline(model='Geotrend/bert-base-pl-cased')  # fill-mask"
   ]
  },
  {
   "cell_type": "code",
   "execution_count": 2,
   "id": "7f1560de-e09b-4610-b838-f318ddddde03",
   "metadata": {},
   "outputs": [],
   "source": [
    "def ask_models(prompt, bert_continuation):\n",
    "    print(f'Prompt: {prompt}...\\n')\n",
    "\n",
    "    gpt_neo_output = gpt_neo(prompt, return_full_text=False, max_new_tokens=15)[0]['generated_text']\n",
    "    papuga_output = papuga(prompt, return_full_text=False, max_new_tokens=15)[0]['generated_text']\n",
    "    bert_output = bert(f'{prompt} [MASK]{bert_continuation}')[0]['token_str']\n",
    "\n",
    "    print(f'[gpt-neo-pl-125m]\\t... {\" \".join(gpt_neo_output.split())}')\n",
    "    print(f'[papuGaPT2]\\t\\t... {\" \".join(papuga_output.split())}')\n",
    "    print(f'[bert-base-pl-cased]\\t... {bert_output} [{bert_continuation}]')"
   ]
  },
  {
   "cell_type": "markdown",
   "id": "09476d9e-6008-4eae-899c-c838aa8bde94",
   "metadata": {},
   "source": [
    "## Zadanie 3"
   ]
  },
  {
   "cell_type": "markdown",
   "id": "47f2b9ba-86c8-464f-937e-063c9a9c17a4",
   "metadata": {},
   "source": [
    "Gramatyka:"
   ]
  },
  {
   "cell_type": "code",
   "execution_count": 3,
   "id": "dd224823-e9d5-4b82-98d1-c92b8995735c",
   "metadata": {},
   "outputs": [
    {
     "name": "stdout",
     "output_type": "stream",
     "text": [
      "Prompt: Wydział Informatyki utworzony na Akademii Górniczo-Hutniczej to najmłodszy krakowski...\n",
      "\n",
      "[gpt-neo-pl-125m]\t... zespół, który powstał w latach 80. XX wieku. Historia\n",
      "[papuGaPT2]\t\t... oddział sieci T-Mobile Polska S.A., a w 2016 roku został\n",
      "[bert-base-pl-cased]\t... Wydział [, który w swojej ofercie]\n"
     ]
    }
   ],
   "source": [
    "# mianownik\n",
    "ask_models('Wydział Informatyki utworzony na Akademii Górniczo-Hutniczej to najmłodszy krakowski', ', który w swojej ofercie')"
   ]
  },
  {
   "cell_type": "code",
   "execution_count": 4,
   "id": "a83b5363-dbd5-41f8-ba1d-110d10340401",
   "metadata": {},
   "outputs": [
    {
     "name": "stdout",
     "output_type": "stream",
     "text": [
      "Prompt: Student nie uczęszczał na zajęcia, dlatego nie będzie przystępował do...\n",
      "\n",
      "[gpt-neo-pl-125m]\t... pracy w zawodzie. W 1951 roku został zatrudniony\n",
      "[papuGaPT2]\t\t... egzaminu, jeśli złoży wniosek o rezygnację. Nie jest konieczne posiadanie certyfikatu –\n",
      "[bert-base-pl-cased]\t... tego [, co sprawi, że nie zda przedmiotu]\n"
     ]
    }
   ],
   "source": [
    "# dopełniacz\n",
    "ask_models('Student nie uczęszczał na zajęcia, dlatego nie będzie przystępował do', ', co sprawi, że nie zda przedmiotu')"
   ]
  },
  {
   "cell_type": "code",
   "execution_count": 5,
   "id": "b07fdb25-b695-4983-afb8-be6a45daae4c",
   "metadata": {},
   "outputs": [
    {
     "name": "stdout",
     "output_type": "stream",
     "text": [
      "Prompt: Było to trudne doświadczenie, jednak wiedzieli, że nie mogą opowiedzieć o tym drugiemu...\n",
      "\n",
      "[gpt-neo-pl-125m]\t... miejscu. W trakcie trwania programu, w trakcie trwania programu,\n",
      "[papuGaPT2]\t\t... człowiekowi, bo by go wyśmiali. Usiłowali sobie\n",
      "[bert-base-pl-cased]\t... lub [ i muszą szybko naprawić błąd]\n"
     ]
    }
   ],
   "source": [
    "# celownik\n",
    "ask_models('Było to trudne doświadczenie, jednak wiedzieli, że nie mogą opowiedzieć o tym drugiemu', ' i muszą szybko naprawić błąd')"
   ]
  },
  {
   "cell_type": "code",
   "execution_count": 6,
   "id": "608b45af-940f-4500-8e24-9f6294276cea",
   "metadata": {},
   "outputs": [
    {
     "name": "stdout",
     "output_type": "stream",
     "text": [
      "Prompt: Słabe wyniki na egzaminie potwierdzają tezę, że studenci liczyli na łatwiejsze...\n",
      "\n",
      "[gpt-neo-pl-125m]\t... wyniki w nauce. W roku akademickim 2011/2012 n\n",
      "[papuGaPT2]\t\t... przygotowanie się do egzaminów, niż w praktyce. W ostatnim czasie sytuacja uległa jednak\n",
      "[bert-base-pl-cased]\t... wyniki [ i nie byli gotowi na pytania o regex'y]\n"
     ]
    }
   ],
   "source": [
    "# biernik\n",
    "ask_models('Słabe wyniki na egzaminie potwierdzają tezę, że studenci liczyli na łatwiejsze', ' i nie byli gotowi na pytania o regex\\'y')"
   ]
  },
  {
   "cell_type": "code",
   "execution_count": 7,
   "id": "ea63ee81-e334-43be-91c6-f9a096d994c3",
   "metadata": {},
   "outputs": [
    {
     "name": "stdout",
     "output_type": "stream",
     "text": [
      "Prompt: Wydalenie studentów z uczelni było spowodowane związane z ich...\n",
      "\n",
      "[gpt-neo-pl-125m]\t... działalnością naukową. W latach 1952–1956 w\n",
      "[papuGaPT2]\t\t... aktywnością w tym zakresie i to chyba ta aktywność była najbardziej cenna. I\n",
      "[bert-base-pl-cased]\t... wynikiem [ zgłoszonym do władz uczelni]\n"
     ]
    }
   ],
   "source": [
    "# narzędnik\n",
    "ask_models('Wydalenie studentów z uczelni było spowodowane związane z ich', ' zgłoszonym do władz uczelni')"
   ]
  },
  {
   "cell_type": "code",
   "execution_count": 8,
   "id": "201f8679-3608-4c77-be92-dd6adf77dbcb",
   "metadata": {},
   "outputs": [
    {
     "name": "stdout",
     "output_type": "stream",
     "text": [
      "Prompt: Zajęcia z przetwarzania języka naturalnego odbywają się w...\n",
      "\n",
      "[gpt-neo-pl-125m]\t... języku angielskim. Przypisy Języki zagrożone w Polsce\n",
      "[papuGaPT2]\t\t... oparciu o program nauczania z wykorzystaniem metody projektu. Program ten odpowiada na potrzeby uczniów\n",
      "[bert-base-pl-cased]\t... budynku [ numer 123]\n"
     ]
    }
   ],
   "source": [
    "# miejscownik\n",
    "ask_models('Zajęcia z przetwarzania języka naturalnego odbywają się w', ' numer 123')"
   ]
  },
  {
   "cell_type": "code",
   "execution_count": 9,
   "id": "68362f12-8e66-4d89-a53a-735d9c222fea",
   "metadata": {},
   "outputs": [
    {
     "name": "stdout",
     "output_type": "stream",
     "text": [
      "Prompt: Szanowny Panie Rektorze, Dziekanie, wszyscy Pracownicy i...\n",
      "\n",
      "[gpt-neo-pl-125m]\t... pracownicy, którzy w latach 1921–1922 byli zatrudnieni\n",
      "[papuGaPT2]\t\t... Funkcjonariusze Uczelni i całego Uniwersytetu, składam Panu, moim Bliskim i Przyja\n",
      "[bert-base-pl-cased]\t... Rektor [ Wydziału Informatyki]\n"
     ]
    }
   ],
   "source": [
    "# wołacz\n",
    "ask_models('Szanowny Panie Rektorze, Dziekanie, wszyscy Pracownicy i', ' Wydziału Informatyki')"
   ]
  },
  {
   "cell_type": "markdown",
   "id": "d282cac4-5d4c-4111-92aa-4a232ef45b2d",
   "metadata": {},
   "source": [
    "## Zadanie 4"
   ]
  },
  {
   "cell_type": "markdown",
   "id": "78118a11-99ae-49a5-a015-40afc98c3f0c",
   "metadata": {},
   "source": [
    "Długodystansowe relacje:"
   ]
  },
  {
   "cell_type": "code",
   "execution_count": 10,
   "id": "3235f221-c331-4236-adea-0844f35331e8",
   "metadata": {},
   "outputs": [
    {
     "name": "stdout",
     "output_type": "stream",
     "text": [
      "Prompt: Ania wiedziała, że takie rozwiązanie nie zostanie zaakceptowane. Mimo wszystko zadanie było na tyle trudne, że nie pozostało nic innego, jak tylko spróbować. Dlatego...\n",
      "\n",
      "[gpt-neo-pl-125m]\t... też w przypadku, gdy w przypadku, gdy w przypadku,\n",
      "[papuGaPT2]\t\t... , gdy znalazła miejsce, gdzie mogła w spokoju usiąść, powiedziała: -\n",
      "[bert-base-pl-cased]\t... napisał [ ostateczną wersję sprawozdania na platformę używaną przez uczestników kursu]\n"
     ]
    }
   ],
   "source": [
    "ask_models('Ania wiedziała, że takie rozwiązanie nie zostanie zaakceptowane. Mimo wszystko zadanie było na tyle trudne, że nie pozostało nic innego, jak tylko spróbować. Dlatego', ' ostateczną wersję sprawozdania na platformę używaną przez uczestników kursu')"
   ]
  },
  {
   "cell_type": "code",
   "execution_count": 11,
   "id": "1564c4d5-b7dc-478c-88a5-374096e750a9",
   "metadata": {},
   "outputs": [
    {
     "name": "stdout",
     "output_type": "stream",
     "text": [
      "Prompt: Zagubiony w rozległym kosmosie samotny astronauta odkrywa tajemniczą planetę. Powierzchnię pokrywa dziwna roślinność, a na niebo wypełnia nieziemski blask. Po udanym lądowaniu szybko...\n",
      "\n",
      "[gpt-neo-pl-125m]\t... się wiwa do Ziemi, w której wiwa\n",
      "[papuGaPT2]\t\t... odkrywasz, że na zewnątrz panuje chaos. Otaczają cię zewszą\n",
      "[bert-base-pl-cased]\t... pochodzi [ ze statku, który dzielnie przetrwał ponad dwadzieścia lat w kosmosie.]\n"
     ]
    }
   ],
   "source": [
    "ask_models('Zagubiony w rozległym kosmosie samotny astronauta odkrywa tajemniczą planetę. Powierzchnię pokrywa dziwna roślinność, a na niebo wypełnia nieziemski blask. Po udanym lądowaniu szybko', ' ze statku, który dzielnie przetrwał ponad dwadzieścia lat w kosmosie.')"
   ]
  },
  {
   "cell_type": "code",
   "execution_count": 12,
   "id": "8209f8c1-b851-4a97-a137-b4a3d9fd6c08",
   "metadata": {},
   "outputs": [
    {
     "name": "stdout",
     "output_type": "stream",
     "text": [
      "Prompt: W średniowiecznym królestwie rządzonym przez króla, skromny wieśniak odkrywa zaczarowany miecz ukryty głęboko w zapomnianej jaskini. Przerażony swoim znaleziskiem chowa go natychmiast, aby odkrycie nie wywołało gniewu...\n",
      "\n",
      "[gpt-neo-pl-125m]\t... . W roku 1782 w pobliżu wsi, w pobliżu\n",
      "[papuGaPT2]\t\t... bogów. Odkrywca wysyła pomocnika, aby zniszczył miecz u wybrzeży\n",
      "[bert-base-pl-cased]\t... ##ń [, albowiem prawo w królestwie zakazuje posiadania broni]\n"
     ]
    }
   ],
   "source": [
    "ask_models('W średniowiecznym królestwie rządzonym przez króla, skromny wieśniak odkrywa zaczarowany miecz ukryty głęboko w zapomnianej jaskini. Przerażony swoim znaleziskiem chowa go natychmiast, aby odkrycie nie wywołało gniewu', ', albowiem prawo w królestwie zakazuje posiadania broni')"
   ]
  },
  {
   "cell_type": "markdown",
   "id": "9c44aee3-fd41-4b94-86f2-3b130bddd7ae",
   "metadata": {},
   "source": [
    "## Zadanie 5"
   ]
  },
  {
   "cell_type": "markdown",
   "id": "10c37fc0-821e-4a52-ae31-1f87fd83cd27",
   "metadata": {},
   "source": [
    "Wiedza ogólna:"
   ]
  },
  {
   "cell_type": "code",
   "execution_count": 13,
   "id": "3694d332-4408-4cfd-acbc-48c994af1041",
   "metadata": {},
   "outputs": [
    {
     "name": "stdout",
     "output_type": "stream",
     "text": [
      "Prompt: Rośliny, których liście zawierają chlorofil - substancję kluczową w procesie fotosyntezy, potrzebują dużo światła. W ciągu dnia rośliny absorbują dwutlenek węgla i uwalniają...\n",
      "\n",
      "[gpt-neo-pl-125m]\t... się z nich ze względu na ich właściwości.\n",
      "[papuGaPT2]\t\t... do chlorofilu tlen, który jest niezbędny do fotosyntezy. Dzięki\n",
      "[bert-base-pl-cased]\t... się [, co nie jest możliwe w nocy ze względu na brak światła]\n"
     ]
    }
   ],
   "source": [
    "ask_models('Rośliny, których liście zawierają chlorofil - substancję kluczową w procesie fotosyntezy, potrzebują dużo światła. W ciągu dnia rośliny absorbują dwutlenek węgla i uwalniają', ', co nie jest możliwe w nocy ze względu na brak światła')"
   ]
  },
  {
   "cell_type": "code",
   "execution_count": 14,
   "id": "c7c7a3a0-693d-4396-9bfc-fc698d7d1abd",
   "metadata": {},
   "outputs": [
    {
     "name": "stdout",
     "output_type": "stream",
     "text": [
      "Prompt: Odpowiednia odległość od gwiazdy oraz występowanie wody w stanie ciekłym jest konieczne do tego, aby powstało życie na innej...\n",
      "\n",
      "[gpt-neo-pl-125m]\t... planecie. Zobacz też lista gwiazd w gwiazdo\n",
      "[papuGaPT2]\t\t... planecie. Z czasem w wyniku procesów chemicznych powstała w nich woda, a w\n",
      "[bert-base-pl-cased]\t... powierzchni [. To wyjątkowy układ, który może powstać tylko w wyniku]\n"
     ]
    }
   ],
   "source": [
    "ask_models('Odpowiednia odległość od gwiazdy oraz występowanie wody w stanie ciekłym jest konieczne do tego, aby powstało życie na innej', '. To wyjątkowy układ, który może powstać tylko w wyniku')"
   ]
  },
  {
   "cell_type": "code",
   "execution_count": 15,
   "id": "c2c3e1fd-692e-45e0-85a7-37f83de3c48a",
   "metadata": {},
   "outputs": [
    {
     "name": "stdout",
     "output_type": "stream",
     "text": [
      "Prompt: Największy kraj na świecie to Rosja, natomiast nie każdy wie, że najmniejszym krajem jest...\n",
      "\n",
      "[gpt-neo-pl-125m]\t... Rosja. W Polsce W Polsce w latach 90\n",
      "[papuGaPT2]\t\t... Wielka Brytania. Co prawda Polska również jest pod tym względem niewielka, ale warto\n",
      "[bert-base-pl-cased]\t... ZSRR [, który ma powierzchnię zaledwie 0,44 km2]\n"
     ]
    }
   ],
   "source": [
    "ask_models('Największy kraj na świecie to Rosja, natomiast nie każdy wie, że najmniejszym krajem jest', ', który ma powierzchnię zaledwie 0,44 km2')"
   ]
  },
  {
   "cell_type": "markdown",
   "id": "7829aba8-1feb-43f7-ba95-9bca3a8800f9",
   "metadata": {},
   "source": [
    "## Zadanie 6"
   ]
  },
  {
   "cell_type": "markdown",
   "id": "8086364b-b155-457a-bfa6-1bc17907cdff",
   "metadata": {},
   "source": [
    "Zero-shot learning:"
   ]
  },
  {
   "cell_type": "code",
   "execution_count": 16,
   "id": "160ebb62-bb0f-4803-87b1-6fa0b105dc8d",
   "metadata": {},
   "outputs": [
    {
     "name": "stdout",
     "output_type": "stream",
     "text": [
      "Prompt: 'Wspaniałe wydarzenie na skalę światową! Polecam każdemu, kto interesuje się muzyką'. Wypowiedź ta jest zdecydowanie...\n",
      "\n",
      "[gpt-neo-pl-125m]\t... bardziej popularna niż w przypadku innych utworów. W Polsce\n",
      "[papuGaPT2]\t\t... na tak, ale... Jak widać w internecie mamy dostęp do wielu ciekawych\n",
      "[bert-base-pl-cased]\t... znana [. Można to stwierdzić na podstawie]\n"
     ]
    }
   ],
   "source": [
    "ask_models(\"'Wspaniałe wydarzenie na skalę światową! Polecam każdemu, kto interesuje się muzyką'. Wypowiedź ta jest zdecydowanie\", '. Można to stwierdzić na podstawie')"
   ]
  },
  {
   "cell_type": "code",
   "execution_count": 17,
   "id": "41bf6004-c9e8-4dcc-872a-ba01e095bdcc",
   "metadata": {},
   "outputs": [
    {
     "name": "stdout",
     "output_type": "stream",
     "text": [
      "Prompt: 'Nie podobał Ci się ten film? Szkoda, ja byłem zachwycony'. Wypowiedź ta ma wydźwięk...\n",
      "\n",
      "[gpt-neo-pl-125m]\t... , ale nie jest to w stanie w nim w ogóle.\n",
      "[papuGaPT2]\t\t... sentymentalny, a jednocześnie ukazuje nam moralny aspekt ludzkiej egzystencji. W\n",
      "[bert-base-pl-cased]\t... filmowy [. Można to stwierdzić na podstawie]\n"
     ]
    }
   ],
   "source": [
    "ask_models(\"'Nie podobał Ci się ten film? Szkoda, ja byłem zachwycony'. Wypowiedź ta ma wydźwięk\", '. Można to stwierdzić na podstawie')"
   ]
  },
  {
   "cell_type": "code",
   "execution_count": 18,
   "id": "d8d3b7ef-f19d-4a58-a717-cbf7e7b8c4ee",
   "metadata": {},
   "outputs": [
    {
     "name": "stdout",
     "output_type": "stream",
     "text": [
      "Prompt: 'Bawiłem się świetnie... Jeśli chcesz zanudzić się na śmierć, to następnym razem chodź ze mną'. Ta opinia jest zdecydowanie...\n",
      "\n",
      "[gpt-neo-pl-125m]\t... bardziej krytyczna. Wpływ Wpływ na\n",
      "[papuGaPT2]\t\t... najlepsza - a poza tym jest na co popatrzeć. \"Po pierwsze\"\n",
      "[bert-base-pl-cased]\t... stała [. Można to stwierdzić na podstawie]\n"
     ]
    }
   ],
   "source": [
    "ask_models(\"'Bawiłem się świetnie... Jeśli chcesz zanudzić się na śmierć, to następnym razem chodź ze mną'. Ta opinia jest zdecydowanie\", '. Można to stwierdzić na podstawie')"
   ]
  },
  {
   "cell_type": "code",
   "execution_count": 19,
   "id": "05c621b9-03c7-49ce-97fd-76e302ecf9b3",
   "metadata": {},
   "outputs": [
    {
     "name": "stdout",
     "output_type": "stream",
     "text": [
      "Prompt: 'Dlaczego się śmiejesz? Co cię tak rozbawiło?'. Ta opinia brzmi mocno...\n",
      "\n",
      "[gpt-neo-pl-125m]\t... , że jest to w rzeczywistości, a nie w ogóle.\n",
      "[papuGaPT2]\t\t... abstrakcyjnie ale mnie się bardzo podoba. I to w jaki sposób ta\n",
      "[bert-base-pl-cased]\t... się [. Można to stwierdzić na podstawie]\n"
     ]
    }
   ],
   "source": [
    "ask_models(\"'Dlaczego się śmiejesz? Co cię tak rozbawiło?'. Ta opinia brzmi mocno\", '. Można to stwierdzić na podstawie')"
   ]
  },
  {
   "cell_type": "code",
   "execution_count": 20,
   "id": "32f6689a-3a63-4555-a52c-e06f30b24187",
   "metadata": {},
   "outputs": [
    {
     "name": "stdout",
     "output_type": "stream",
     "text": [
      "Prompt: 'To był najgorszy dzień w moim życiu, oby to się nigdy nie potwórzyło'. Ta wypowiedź jest według mnie...\n",
      "\n",
      "[gpt-neo-pl-125m]\t... bardzo nie do końca wyjaśniona. Wpływ Wpływ\n",
      "[papuGaPT2]\t\t... jednym z najbardziej trafnych. Nie rozumiem więc, co ludzie mają w głowach\n",
      "[bert-base-pl-cased]\t... ##go [. Można to stwierdzić na podstawie]\n"
     ]
    }
   ],
   "source": [
    "ask_models(\"'To był najgorszy dzień w moim życiu, oby to się nigdy nie potwórzyło'. Ta wypowiedź jest według mnie\", '. Można to stwierdzić na podstawie')"
   ]
  },
  {
   "cell_type": "markdown",
   "id": "935cf412-dbf5-4aa7-83c6-67bbae5718b4",
   "metadata": {},
   "source": [
    "## Zadanie 7, 8"
   ]
  },
  {
   "cell_type": "markdown",
   "id": "168f875e-22f6-4ca3-a92b-e63a232d46b2",
   "metadata": {},
   "source": [
    "1. Który z modeli dał najlepsze rezultaty?\n",
    "\n",
    "Wydaje się, że najlepsze wyniki udało się osiągnąć za pomocą modelu `papuGaPT2` - za każdym razem proponował poprawne formy rzeczownika, uchwycił część relacji długodystansowych, był również najbliżej poprawnych odpowiedzi w zadaniu z wiedzą ogólną oraz zero-shot learning. Na drugim miejscu jest według mnie `gpt-neo-pl-125m`, który rozwiązał poprawnie mniej zadań, niż `papuGaPT2`, często się zapętlał, ale czasami portafił wygenerować dobrze brzmiące odpowiedzi. Na ostatniom miejscu jest zdecydowanie `bert-base-pl-cased`, który pomimo posiadania dodatkowego kontekstu, rzadko generował jakkolwiek pasujące wyrazy, zdarzało mu się również popełniać błędy gramatyczne.\n",
    "\n",
    "2. Czy któryś z modeli był w stanie generować tekst zgodny z polską gramatyką?\n",
    "\n",
    "Modele są w stanie zaproponować rzeczownik w odpowiednim przypadku dla prawie wszystkich zdań. Model `bert-base-pl-cased` popełnił dwa błędy - dla zdania sprawdzającego celownik oraz wołacz. Pomimo tego, że zaproponowane wyrazy były w odpowiedniej formie, znaczna część odpowiedzi kompletnie nie pasuje do danego zapytania (przykładowo odpowiedź `papuGaPT2` dla mianownika lub `gpt-neo-pl-125m` dla celownika).\n",
    "\n",
    "3. Czy któryś z modeli był w stanie uchwycić długodystandowe relacje między słowami?\n",
    "\n",
    "Zadanie z długodystansowymi relacjami było dla modeli znacznie trudniejsze, niż formułowanie zdań zgodnie z regułami gramatyki. W pierwszym zdaniu tylko `papuGaPT2` odniósł się do bohaterki historyjki, czyli Ani. Podczas drugiego zdania modele generujące tekst próbowały użyć słownictwo związane z kosmosem, jednak żadnemu nie udało się nawiązać do astronauty. Najbliżej dobrej odpowiedzi do trzeciego zapytania był `papuGaPT2`, który zwrócił dobrą formę odpowiedzi i nawiązał do miecza, jednak w tym przypadku chodziło raczej o \"gniew króla\" lub \"dworu\", a nie \"bogów\", którzy nie występują we wprowadzeniu. `bert-base-pl-cased` w ogóle nie trafia w prawidłowe odpowiedzi (pomimo dodatkowego kontekstu występującego po masce), a `gpt-neo-pl-125m` zapętla się przy każdej odpowiedzi.\n",
    "\n",
    "4. Czy któryś z modeli posiadał wiedzę ogólną o świecie?\n",
    "\n",
    "Niestety, modele nie były w stanie wykazać się obszerną wiedzą o świecie. Tylko `papuGaPT2` nawiązał do tlenu, ale pomylił jego własności (tlen nie jest konieczny do fotosyntezy i nie jest uwalniany do chlorofilu). Modele generatywne znały odpowiedź na drugie zapytanie - `papuGaPT2` nawiązał nawet do procesów chemicznych, w przeciwieństwie do `bert-base-pl-cased`, który zwrócił słowo zgadzające się tylko gramatycznie. Odpowiedzi do trzeciego zdania są bardzo ciekawe - modele poprawnie rozpoznają, że chodzi o państwo, jednak kompletnie mylą fakty.\n",
    "\n",
    "5. Czy któryś z modeli dobrze radził sobie z zadaniem zero-shot learning?\n",
    "\n",
    "Modele poległy w zadaniu zero-shot learning. Jedyna dostatecznie dobra odpowiedź została udzielone przez `papuGaPT2` na drugie zapytanie. Być może podane zdania były zbyt trudne (starałem się podać jedno zdecydowanie pozytywne [pierwsze], dwa nieoczywiste [drugie i czwarte], jedno sarkastyczne [trzecie] oraz jedno ewidentnie negatywne [piąte]). Problemem może być też zdanie do dokończenia - nie sugeruje ono bezpośrednio, że model powinien wskazać sentyment zdania. Ostatnia przyczyna, według mnie najbardziej prawdopodobna, jest taka, że użyte modele są po prostu zbyt małe i nie generalizują na tyle dobrze, by mieć możliwość poprawnego odpowiadania na zadania zero-shot learning.\n",
    "\n",
    "6. Jakie są najpoważniejsze błędy popełniane przez modele?\n",
    "\n",
    "Uważam, że jednym z podstawowych problemów są błędy gramatyczne i niepasujące odpowiedzi podawane przez `bert-base-pl-cased` - ciężko oceniać jakość modelu językowego, jeśli nie jest w stanie poprawnie posługiwać się językiem. Drugi istotny problem to zapętlanie się modelu `gpt-neo-pl-125m` (np. odpowiedź pierwsza w zadaniu 4), które sprawia, że wygenerowany tekst jest semantycznie bezwartościowy. Kolejny błąd to \"halucynacje\" zdarzające się wszystkim modelom (mój ulubiony przykład, to pierwsza odpowiedź `papuGaPT2` w zadaniu 3)."
   ]
  },
  {
   "cell_type": "markdown",
   "id": "8f22811d-28ab-4f00-b3a5-cc9328fe09fb",
   "metadata": {},
   "source": [
    "*W zadaniu 4 oraz 5 użyłem ChatGPT do wygenerowania inspiracji lub bazy do stworzenia zapytań."
   ]
  }
 ],
 "metadata": {
  "kernelspec": {
   "display_name": "Python 3 (ipykernel)",
   "language": "python",
   "name": "python3"
  },
  "language_info": {
   "codemirror_mode": {
    "name": "ipython",
    "version": 3
   },
   "file_extension": ".py",
   "mimetype": "text/x-python",
   "name": "python",
   "nbconvert_exporter": "python",
   "pygments_lexer": "ipython3",
   "version": "3.9.6"
  }
 },
 "nbformat": 4,
 "nbformat_minor": 5
}
